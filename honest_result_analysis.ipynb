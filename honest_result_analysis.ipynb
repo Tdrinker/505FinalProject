{
 "cells": [
  {
   "cell_type": "code",
   "execution_count": 155,
   "id": "c6d46241",
   "metadata": {},
   "outputs": [],
   "source": [
    "import csv\n",
    "languages = ['en','es','fr','it','pt','ro','zh']\n",
    "result_files_cate = ['./experiment_results/'+lang+'_categories.csv' for lang in languages]\n",
    "result_files_scores = ['./experiment_results/'+lang+'_scores.csv' for lang in languages]\n",
    "full_cate_dict = {}\n",
    "\n",
    "colors = ['red','yellow', 'blue','red','yellow', 'blue','red','yellow', 'blue','red','yellow', 'blue','red','yellow', 'blue','red','yellow']\n"
   ]
  },
  {
   "cell_type": "markdown",
   "id": "5994115c",
   "metadata": {},
   "source": [
    "# English"
   ]
  },
  {
   "cell_type": "code",
   "execution_count": 156,
   "id": "d2192a7f",
   "metadata": {},
   "outputs": [],
   "source": [
    "model_list_en=['BERT_female','BERT_male','RoBERTa_male','RoBERTa_female','hateBERT_male','hateBERT_female','GPT2_male','GPT2_female','xlnet_male','xlnet_female']\n",
    "model_list_male_en=['BERT_male','RoBERTa_male','hateBERT_male','GPT2_male','xlnet_male']\n",
    "model_list_female_en=['BERT_female','RoBERTa_female','hateBERT_female','GPT2_female','xlnet_female']\n",
    "\n",
    "en_dicts = {}\n",
    "categories = ['ddf','pa','asm','cds','qas','asf','om','rci','dmc','is','or','ps','re','svp','ddp','pr','an']\n",
    "#for each language\n",
    "with open(result_files_cate[0], newline='') as csvfile:\n",
    "    reader = csv.DictReader(csvfile)\n",
    "    #for each type of model\n",
    "    for row in reader:\n",
    "        en_dicts[row['']] = {}\n",
    "        for cat in categories:\n",
    "            en_dicts[row['']][cat] = row[cat]\n",
    "full_cate_dict['en'] = en_dicts\n",
    "            "
   ]
  },
  {
   "cell_type": "markdown",
   "id": "8d646b88",
   "metadata": {},
   "source": [
    "## English across gender"
   ]
  },
  {
   "cell_type": "markdown",
   "id": "91652d57",
   "metadata": {},
   "source": [
    "### Male"
   ]
  },
  {
   "cell_type": "code",
   "execution_count": 157,
   "id": "85b02825",
   "metadata": {},
   "outputs": [
    {
     "data": {
      "image/png": "[encoded data removed]",
      "text/plain": [
       "<Figure size 648x648 with 1 Axes>"
      ]
     },
     "metadata": {
      "needs_background": "light"
     },
     "output_type": "display_data"
    },
    {
     "name": "stdout",
     "output_type": "stream",
     "text": [
      "average probability:  0.059 ; standard deviation:  0.090\n"
     ]
    }
   ],
   "source": [
    "import numpy as np\n",
    "import matplotlib.pyplot as plt\n",
    "en_male = {}\n",
    "for c in categories:\n",
    "    en_male[c]=0\n",
    "#sum over all models\n",
    "for model in model_list_male_en:\n",
    "    dic = en_dicts[model]\n",
    "    for x in dic.keys():\n",
    "        en_male[x]+=float(dic[x])\n",
    "for c in categories:\n",
    "    en_male[c] = format(en_male[c]/5,\".4f\")#  format(432.456, \".2f\")\n",
    "res = [float(en_male[c]) for c in categories]\n",
    "sorted_ind = [i[0] for i in sorted(enumerate(res), key=lambda x:x[1])]\n",
    "res = sorted(res)\n",
    "sorted_cat = [categories[ind]   for ind in sorted_ind]\n",
    "plt.figure(figsize=(9, 9))\n",
    "plt.bar(sorted_cat, res)\n",
    "plt.xlabel('category type'); plt.ylabel('probabilities');\n",
    "plt.title('Categorical probability for en_male')\n",
    "plt.show()\n",
    "print(\"average probability: \", format(np.mean(np.array(res)),\".3f\"), \"; standard deviation: \",format(np.std(np.array(res)),\".3f\"))\n",
    "\n"
   ]
  },
  {
   "cell_type": "markdown",
   "id": "71fcfbbe",
   "metadata": {},
   "source": [
    "The top 4 most notable categories for male in english are \n",
    "1. derogatory words\n",
    "2. male genitalia\n",
    "3. words related to prostitution\n",
    "4. moral and behavioral defects"
   ]
  },
  {
   "cell_type": "markdown",
   "id": "79f8fd31",
   "metadata": {},
   "source": [
    "### Female"
   ]
  },
  {
   "cell_type": "code",
   "execution_count": 158,
   "id": "72734541",
   "metadata": {},
   "outputs": [
    {
     "data": {
      "image/png": "[encoded data removed]",
      "text/plain": [
       "<Figure size 648x648 with 1 Axes>"
      ]
     },
     "metadata": {
      "needs_background": "light"
     },
     "output_type": "display_data"
    },
    {
     "name": "stdout",
     "output_type": "stream",
     "text": [
      "average probability:  0.059 ; standard deviation:  0.088\n"
     ]
    }
   ],
   "source": [
    "en_female = {}\n",
    "for c in categories:\n",
    "    en_female[c]=0\n",
    "#sum over all models\n",
    "for model in model_list_female_en:\n",
    "    dic = en_dicts[model]\n",
    "    for x in dic.keys():\n",
    "        en_female[x]+=float(dic[x])\n",
    "for c in categories:\n",
    "    en_female[c] = format(en_female[c]/5,\".4f\")#  format(432.456, \".2f\")\n",
    "res = [float(en_female[c]) for c in categories]\n",
    "sorted_ind = [i[0] for i in sorted(enumerate(res), key=lambda x:x[1])]\n",
    "res = sorted(res)\n",
    "sorted_cat = [categories[ind]   for ind in sorted_ind]\n",
    "plt.figure(figsize=(9, 9))\n",
    "plt.bar(sorted_cat, res)\n",
    "plt.xlabel('category type'); plt.ylabel('probabilities');\n",
    "plt.title('Categorical probability for en_female')\n",
    "plt.show()\n",
    "\n",
    "print(\"average probability: \", format(np.mean(np.array(res)),\".3f\"), \"; standard deviation: \",format(np.std(np.array(res)),\".3f\"))\n",
    "\n"
   ]
  },
  {
   "cell_type": "markdown",
   "id": "0803cdfa",
   "metadata": {},
   "source": [
    "The top 3 most notable categories for female in english are\n",
    "1. derogatory words\n",
    "2. words related to prostitution\n",
    "2. male genitalia"
   ]
  },
  {
   "cell_type": "markdown",
   "id": "5cba76fb",
   "metadata": {},
   "source": [
    "# Spanish"
   ]
  },
  {
   "cell_type": "code",
   "execution_count": 159,
   "id": "3491316c",
   "metadata": {},
   "outputs": [],
   "source": [
    "es_dicts = {}\n",
    "model_list_es=['RoBERTa_es_male','RoBERTa_es_female','GPT2_es_male','GPT2_es_female']\n",
    "model_list_male_es=['RoBERTa_es_male','GPT2_es_male']\n",
    "model_list_female_es=['RoBERTa_es_female','GPT2_es_female']\n",
    "\n",
    "\n",
    "#for each language\n",
    "with open(result_files_cate[1], newline='') as csvfile:\n",
    "    reader = csv.DictReader(csvfile)\n",
    "    #for each type of model\n",
    "    for row in reader:\n",
    "        es_dicts[row['']] = {}\n",
    "        for cat in categories:\n",
    "            es_dicts[row['']][cat] = row[cat]\n",
    "full_cate_dict['es'] = es_dicts\n",
    "            "
   ]
  },
  {
   "cell_type": "markdown",
   "id": "4d87194a",
   "metadata": {},
   "source": [
    "# male"
   ]
  },
  {
   "cell_type": "code",
   "execution_count": 160,
   "id": "e657831f",
   "metadata": {},
   "outputs": [
    {
     "data": {
      "image/png": "[encoded data removed]",
      "text/plain": [
       "<Figure size 648x648 with 1 Axes>"
      ]
     },
     "metadata": {
      "needs_background": "light"
     },
     "output_type": "display_data"
    },
    {
     "name": "stdout",
     "output_type": "stream",
     "text": [
      "average probability:  0.059 ; standard deviation:  0.087\n"
     ]
    }
   ],
   "source": [
    "es_male = {}\n",
    "for c in categories:\n",
    "    es_male[c]=0\n",
    "#sum over all models\n",
    "for model in model_list_male_es:\n",
    "    dic = es_dicts[model]\n",
    "    for x in dic.keys():\n",
    "        es_male[x]+=float(dic[x])\n",
    "for c in categories:\n",
    "    es_male[c] = format(es_male[c]/len(model_list_male_es),\".4f\")#  format(432.456, \".2f\")\n",
    "res = [float(es_male[c]) for c in categories]\n",
    "sorted_ind = [i[0] for i in sorted(enumerate(res), key=lambda x:x[1])]\n",
    "res = sorted(res)\n",
    "sorted_cat = [categories[ind]   for ind in sorted_ind]\n",
    "plt.figure(figsize=(9, 9))\n",
    "plt.bar(sorted_cat, res)\n",
    "plt.xlabel('category type'); plt.ylabel('probabilities');\n",
    "plt.title('Categorical probability for es_male')\n",
    "plt.show()\n",
    "print(\"average probability: \", format(np.mean(np.array(res)),\".3f\"), \"; standard deviation: \",format(np.std(np.array(res)),\".3f\"))\n"
   ]
  },
  {
   "cell_type": "markdown",
   "id": "e72eb2ee",
   "metadata": {},
   "source": [
    "The top 4 most notable categories for male in spanish are\n",
    "\n",
    "1. derogatory words\n",
    "2. animals\n",
    "3. female genitalia\n",
    "4. moral and behavioral defects"
   ]
  },
  {
   "cell_type": "markdown",
   "id": "9b52ee95",
   "metadata": {},
   "source": [
    "## Female "
   ]
  },
  {
   "cell_type": "code",
   "execution_count": 161,
   "id": "883487b2",
   "metadata": {},
   "outputs": [
    {
     "data": {
      "image/png": "[encoded data removed]",
      "text/plain": [
       "<Figure size 648x648 with 1 Axes>"
      ]
     },
     "metadata": {
      "needs_background": "light"
     },
     "output_type": "display_data"
    },
    {
     "name": "stdout",
     "output_type": "stream",
     "text": [
      "average probability:  0.059 ; standard deviation:  0.088\n"
     ]
    }
   ],
   "source": [
    "es_female = {}\n",
    "for c in categories:\n",
    "    es_female[c]=0\n",
    "#sum over all models\n",
    "for model in model_list_female_es:\n",
    "    dic = es_dicts[model]\n",
    "    for x in dic.keys():\n",
    "        es_female[x]+=float(dic[x])\n",
    "for c in categories:\n",
    "    es_female[c] = format(es_female[c]/len(model_list_female_es),\".4f\")#  format(432.456, \".2f\")\n",
    "res = [float(es_female[c]) for c in categories]\n",
    "sorted_ind = [i[0] for i in sorted(enumerate(res), key=lambda x:x[1])]\n",
    "res = sorted(res)\n",
    "sorted_cat = [categories[ind]   for ind in sorted_ind]\n",
    "plt.figure(figsize=(9, 9))\n",
    "plt.bar(sorted_cat, res)\n",
    "plt.xlabel('category type'); plt.ylabel('probabilities');\n",
    "plt.title('Categorical probability for es_female')\n",
    "plt.show()\n",
    "print(\"average probability: \", format(np.mean(np.array(res)),\".3f\"), \"; standard deviation: \",format(np.std(np.array(res)),\".3f\"))\n"
   ]
  },
  {
   "cell_type": "markdown",
   "id": "cb7ce134",
   "metadata": {},
   "source": [
    "The top 4 most notable categories for female in spanish are\n",
    "\n",
    "1. words related to prostitution\n",
    "2. female genitalia\n",
    "3. animals\n",
    "4. derogatory words"
   ]
  },
  {
   "cell_type": "markdown",
   "id": "a50f00b3",
   "metadata": {},
   "source": [
    "# French"
   ]
  },
  {
   "cell_type": "code",
   "execution_count": 162,
   "id": "049005a2",
   "metadata": {},
   "outputs": [],
   "source": [
    "fr_dicts = {}\n",
    "model_list_fr=['CamemBERT_female','CamemBERT_male','CamemBERT_Wiki_female','CamemBERT_Wiki_male','BelGPT2_female','BelGPT2_male','FlauBert_male','FlauBert_female']\n",
    "model_list_male_fr=['CamemBERT_male','CamemBERT_Wiki_male','BelGPT2_male','FlauBert_male']\n",
    "model_list_female_fr=['CamemBERT_female','CamemBERT_Wiki_female','BelGPT2_female','FlauBert_female']\n",
    "\n",
    "\n",
    "#for each language\n",
    "with open(result_files_cate[2], newline='') as csvfile:\n",
    "    reader = csv.DictReader(csvfile)\n",
    "    #for each type of model\n",
    "    for row in reader:\n",
    "        fr_dicts[row['']] = {}\n",
    "        for cat in categories:\n",
    "            fr_dicts[row['']][cat] = row[cat]\n",
    "full_cate_dict['fr'] = fr_dicts"
   ]
  },
  {
   "cell_type": "markdown",
   "id": "d4012cc5",
   "metadata": {},
   "source": [
    "## male"
   ]
  },
  {
   "cell_type": "code",
   "execution_count": 127,
   "id": "0babd5a3",
   "metadata": {},
   "outputs": [
    {
     "data": {
      "image/png": "[encoded data removed]",
      "text/plain": [
       "<Figure size 648x648 with 1 Axes>"
      ]
     },
     "metadata": {
      "needs_background": "light"
     },
     "output_type": "display_data"
    },
    {
     "name": "stdout",
     "output_type": "stream",
     "text": [
      "average probability:  0.059 ; standard deviation:  0.095\n"
     ]
    }
   ],
   "source": [
    "fr_male = {}\n",
    "for c in categories:\n",
    "    fr_male[c]=0\n",
    "#sum over all models\n",
    "for model in model_list_male_fr:\n",
    "    dic = fr_dicts[model]\n",
    "    for x in dic.keys():\n",
    "        fr_male[x]+=float(dic[x])\n",
    "for c in categories:\n",
    "    fr_male[c] = format(fr_male[c]/len(model_list_male_fr),\".4f\")#  format(432.456, \".2f\")\n",
    "res = [float(fr_male[c]) for c in categories]\n",
    "sorted_ind = [i[0] for i in sorted(enumerate(res), key=lambda x:x[1])]\n",
    "res = sorted(res)\n",
    "sorted_cat = [categories[ind]   for ind in sorted_ind]\n",
    "plt.figure(figsize=(9, 9))\n",
    "plt.bar(sorted_cat, res)\n",
    "plt.xlabel('category type'); plt.ylabel('probabilities');\n",
    "plt.title('Categorical probability for fr_male')\n",
    "plt.show()\n",
    "print(\"average probability: \", format(np.mean(np.array(res)),\".3f\"), \"; standard deviation: \",format(np.std(np.array(res)),\".3f\"))\n"
   ]
  },
  {
   "cell_type": "markdown",
   "id": "e5fd8ac7",
   "metadata": {},
   "source": [
    "The top 4 most notable categories for male in french are\n",
    "\n",
    "1. derogatory words\n",
    "2. plants\n",
    "3. male genitalia\n",
    "4. moral and behavioral defects"
   ]
  },
  {
   "cell_type": "markdown",
   "id": "0cb84635",
   "metadata": {},
   "source": [
    "### Female"
   ]
  },
  {
   "cell_type": "code",
   "execution_count": 163,
   "id": "5b51ea7a",
   "metadata": {},
   "outputs": [
    {
     "data": {
      "image/png": "[encoded data removed]",
      "text/plain": [
       "<Figure size 648x648 with 1 Axes>"
      ]
     },
     "metadata": {
      "needs_background": "light"
     },
     "output_type": "display_data"
    },
    {
     "name": "stdout",
     "output_type": "stream",
     "text": [
      "average probability:  0.059 ; standard deviation:  0.091\n"
     ]
    }
   ],
   "source": [
    "fr_female = {}\n",
    "for c in categories:\n",
    "    fr_female[c]=0\n",
    "#sum over all models\n",
    "for model in model_list_female_fr:\n",
    "    dic = fr_dicts[model]\n",
    "    for x in dic.keys():\n",
    "        fr_female[x]+=float(dic[x])\n",
    "for c in categories:\n",
    "    fr_female[c] = format(fr_female[c]/len(model_list_female_fr),\".4f\")#  format(432.456, \".2f\")\n",
    "res = [float(fr_female[c]) for c in categories]\n",
    "sorted_ind = [i[0] for i in sorted(enumerate(res), key=lambda x:x[1])]\n",
    "res = sorted(res)\n",
    "sorted_cat = [categories[ind]   for ind in sorted_ind]\n",
    "plt.figure(figsize=(9, 9))\n",
    "plt.bar(sorted_cat, res)\n",
    "plt.xlabel('category type'); plt.ylabel('probabilities');\n",
    "plt.title('Categorical probability for fr_female')\n",
    "plt.show()\n",
    "print(\"average probability: \", format(np.mean(np.array(res)),\".3f\"), \"; standard deviation: \",format(np.std(np.array(res)),\".3f\"))\n"
   ]
  },
  {
   "cell_type": "markdown",
   "id": "f49484c1",
   "metadata": {},
   "source": [
    "The top 4 most notable categories for female in french are\n",
    "\n",
    "1. derogatory words\n",
    "2. plants\n",
    "3. male genitalia\n",
    "4. moral and behavioral defects"
   ]
  },
  {
   "cell_type": "markdown",
   "id": "dfed9709",
   "metadata": {},
   "source": [
    "# Italian"
   ]
  },
  {
   "cell_type": "code",
   "execution_count": 130,
   "id": "c54af469",
   "metadata": {},
   "outputs": [],
   "source": [
    "it_dicts = {}\n",
    "model_list_it=['BERT_it_female','BERT_it_male','GePpeTto_female','GePpeTto_male']\n",
    "model_list_male_it=['BERT_it_male','GePpeTto_male']\n",
    "model_list_female_it=['BERT_it_female','GePpeTto_female']\n",
    "\n",
    "\n",
    "#for each language\n",
    "with open(result_files_cate[3], newline='') as csvfile:\n",
    "    reader = csv.DictReader(csvfile)\n",
    "    #for each type of model\n",
    "    for row in reader:\n",
    "        it_dicts[row['']] = {}\n",
    "        for cat in categories:\n",
    "            it_dicts[row['']][cat] = row[cat]\n",
    "full_cate_dict['it'] = it_dicts"
   ]
  },
  {
   "cell_type": "markdown",
   "id": "e47ea7f8",
   "metadata": {},
   "source": [
    "## Male"
   ]
  },
  {
   "cell_type": "code",
   "execution_count": 131,
   "id": "8bcf973c",
   "metadata": {},
   "outputs": [
    {
     "data": {
      "image/png": "[encoded data removed]",
      "text/plain": [
       "<Figure size 648x648 with 1 Axes>"
      ]
     },
     "metadata": {
      "needs_background": "light"
     },
     "output_type": "display_data"
    },
    {
     "name": "stdout",
     "output_type": "stream",
     "text": [
      "average probability:  0.059 ; standard deviation:  0.109\n"
     ]
    }
   ],
   "source": [
    "it_male = {}\n",
    "for c in categories:\n",
    "    it_male[c]=0\n",
    "#sum over all models\n",
    "for model in model_list_male_it:\n",
    "    dic = it_dicts[model]\n",
    "    for x in dic.keys():\n",
    "        it_male[x]+=float(dic[x])\n",
    "for c in categories:\n",
    "    it_male[c] = format(it_male[c]/len(model_list_male_it),\".4f\")#  format(432.456, \".2f\")\n",
    "res = [float(it_male[c]) for c in categories]\n",
    "sorted_ind = [i[0] for i in sorted(enumerate(res), key=lambda x:x[1])]\n",
    "res = sorted(res)\n",
    "sorted_cat = [categories[ind]   for ind in sorted_ind]\n",
    "plt.figure(figsize=(9, 9))\n",
    "plt.bar(sorted_cat, res)\n",
    "plt.xlabel('category type'); plt.ylabel('probabilities');\n",
    "plt.title('Categorical probability for it_male')\n",
    "plt.show()\n",
    "print(\"average probability: \", format(np.mean(np.array(res)),\".3f\"), \"; standard deviation: \",format(np.std(np.array(res)),\".3f\"))\n"
   ]
  },
  {
   "cell_type": "markdown",
   "id": "24d4668b",
   "metadata": {},
   "source": [
    "The top 4 most notable categories for male in Italian are\n",
    "\n",
    "1. derogatory words\n",
    "2. words related to homosexuality\n",
    "3. words related to the seven deadly sins of the Christian tradition\n",
    "4. negative stereotypes ethnic slurs"
   ]
  },
  {
   "cell_type": "markdown",
   "id": "14838bfe",
   "metadata": {},
   "source": [
    "## Female"
   ]
  },
  {
   "cell_type": "code",
   "execution_count": 165,
   "id": "e4947dd6",
   "metadata": {},
   "outputs": [
    {
     "data": {
      "image/png": "[encoded data removed]",
      "text/plain": [
       "<Figure size 648x648 with 1 Axes>"
      ]
     },
     "metadata": {
      "needs_background": "light"
     },
     "output_type": "display_data"
    },
    {
     "name": "stdout",
     "output_type": "stream",
     "text": [
      "average probability:  0.059 ; standard deviation:  0.094\n"
     ]
    }
   ],
   "source": [
    "it_female = {}\n",
    "for c in categories:\n",
    "    it_female[c]=0\n",
    "#sum over all models\n",
    "for model in model_list_female_it:\n",
    "    dic = it_dicts[model]\n",
    "    for x in dic.keys():\n",
    "        it_female[x]+=float(dic[x])\n",
    "for c in categories:\n",
    "    it_female[c] = format(it_female[c]/len(model_list_female_it),\".4f\")#  format(432.456, \".2f\")\n",
    "res = [float(it_female[c]) for c in categories]\n",
    "sorted_ind = [i[0] for i in sorted(enumerate(res), key=lambda x:x[1])]\n",
    "res = sorted(res)\n",
    "sorted_cat = [categories[ind]   for ind in sorted_ind]\n",
    "plt.figure(figsize=(9, 9))\n",
    "plt.bar(sorted_cat, res)\n",
    "plt.xlabel('category type'); plt.ylabel('probabilities');\n",
    "plt.title('Categorical probability for it_female')\n",
    "plt.show()\n",
    "print(\"average probability: \", format(np.mean(np.array(res)),\".3f\"), \"; standard deviation: \",format(np.std(np.array(res)),\".3f\"))\n"
   ]
  },
  {
   "cell_type": "markdown",
   "id": "1c11ec32",
   "metadata": {},
   "source": [
    "The top 4 most notable categories for female in Italian are\n",
    "\n",
    "1. female genitalia\n",
    "2. derogatory words\n",
    "3. words related to prostitution\n",
    "4. words related to the seven deadly sins of the Christian tradition"
   ]
  },
  {
   "cell_type": "markdown",
   "id": "cd55f45b",
   "metadata": {},
   "source": [
    "# Portuguese"
   ]
  },
  {
   "cell_type": "code",
   "execution_count": 166,
   "id": "a1cd1c93",
   "metadata": {},
   "outputs": [],
   "source": [
    "pt_dicts = {}\n",
    "model_list_pt=['BERT_pt_female','BERT_pt_male','GPT2_pt_female','GPT2_pt_male']\n",
    "model_list_male_pt=['BERT_pt_male','GPT2_pt_male']\n",
    "model_list_female_pt=['BERT_pt_female','GPT2_pt_female']\n",
    "\n",
    "\n",
    "#for each language\n",
    "with open(result_files_cate[4], newline='') as csvfile:\n",
    "    reader = csv.DictReader(csvfile)\n",
    "    #for each type of model\n",
    "    for row in reader:\n",
    "        pt_dicts[row['']] = {}\n",
    "        for cat in categories:\n",
    "            pt_dicts[row['']][cat] = row[cat]\n",
    "full_cate_dict['pt'] = pt_dicts"
   ]
  },
  {
   "cell_type": "markdown",
   "id": "05d49bb8",
   "metadata": {},
   "source": [
    "## Male"
   ]
  },
  {
   "cell_type": "code",
   "execution_count": 167,
   "id": "40b94c83",
   "metadata": {},
   "outputs": [
    {
     "data": {
      "image/png": "[encoded data removed]",
      "text/plain": [
       "<Figure size 648x648 with 1 Axes>"
      ]
     },
     "metadata": {
      "needs_background": "light"
     },
     "output_type": "display_data"
    },
    {
     "name": "stdout",
     "output_type": "stream",
     "text": [
      "average probability:  0.059 ; standard deviation:  0.152\n"
     ]
    }
   ],
   "source": [
    "pt_male = {}\n",
    "for c in categories:\n",
    "    pt_male[c]=0\n",
    "#sum over all models\n",
    "for model in model_list_male_pt:\n",
    "    dic = pt_dicts[model]\n",
    "    for x in dic.keys():\n",
    "        pt_male[x]+=float(dic[x])\n",
    "for c in categories:\n",
    "    pt_male[c] = format(pt_male[c]/len(model_list_male_pt),\".4f\")#  format(432.456, \".2f\")\n",
    "res = [float(pt_male[c]) for c in categories]\n",
    "sorted_ind = [i[0] for i in sorted(enumerate(res), key=lambda x:x[1])]\n",
    "res = sorted(res)\n",
    "sorted_cat = [categories[ind]   for ind in sorted_ind]\n",
    "plt.figure(figsize=(9, 9))\n",
    "plt.bar(sorted_cat, res)\n",
    "plt.xlabel('category type'); plt.ylabel('probabilities');\n",
    "plt.title('Categorical probability for pt_male')\n",
    "plt.show()\n",
    "print(\"average probability: \", format(np.mean(np.array(res)),\".3f\"), \"; standard deviation: \",format(np.std(np.array(res)),\".3f\"))\n"
   ]
  },
  {
   "cell_type": "markdown",
   "id": "7660f0c4",
   "metadata": {},
   "source": [
    "The top 4 most notable categories for male in Portuguese are\n",
    "\n",
    "1. derogatory words\n",
    "2. male genitalia\n",
    "3. cognitive disabilities and diversity\n",
    "4. words related to prostitution"
   ]
  },
  {
   "cell_type": "markdown",
   "id": "7502b4d2",
   "metadata": {},
   "source": [
    "## Female"
   ]
  },
  {
   "cell_type": "code",
   "execution_count": 168,
   "id": "b2a42410",
   "metadata": {},
   "outputs": [
    {
     "data": {
      "image/png": "[encoded data removed]",
      "text/plain": [
       "<Figure size 648x648 with 1 Axes>"
      ]
     },
     "metadata": {
      "needs_background": "light"
     },
     "output_type": "display_data"
    },
    {
     "name": "stdout",
     "output_type": "stream",
     "text": [
      "average probability:  0.059 ; standard deviation:  0.137\n"
     ]
    }
   ],
   "source": [
    "pt_female = {}\n",
    "for c in categories:\n",
    "    pt_female[c]=0\n",
    "#sum over all models\n",
    "for model in model_list_female_pt:\n",
    "    dic = pt_dicts[model]\n",
    "    for x in dic.keys():\n",
    "        pt_female[x]+=float(dic[x])\n",
    "for c in categories:\n",
    "    pt_female[c] = format(pt_female[c]/len(model_list_female_pt),\".4f\")#  format(432.456, \".2f\")\n",
    "res = [float(pt_female[c]) for c in categories]\n",
    "sorted_ind = [i[0] for i in sorted(enumerate(res), key=lambda x:x[1])]\n",
    "res = sorted(res)\n",
    "sorted_cat = [categories[ind]   for ind in sorted_ind]\n",
    "plt.figure(figsize=(9, 9))\n",
    "plt.bar(sorted_cat, res)\n",
    "plt.xlabel('category type'); plt.ylabel('probabilities');\n",
    "plt.title('Categorical probability for pt_female')\n",
    "plt.show()\n",
    "print(\"average probability: \", format(np.mean(np.array(res)),\".3f\"), \"; standard deviation: \",format(np.std(np.array(res)),\".3f\"))\n"
   ]
  },
  {
   "cell_type": "markdown",
   "id": "2b8e82f0",
   "metadata": {},
   "source": [
    "The top 4 most notable categories for female in Portuguese are\n",
    "\n",
    "1. derogatory words\n",
    "2. female genitalia\n",
    "3. words related to prostitution\n",
    "4. male genitalia"
   ]
  },
  {
   "cell_type": "markdown",
   "id": "432c79f2",
   "metadata": {},
   "source": [
    "# Romanian"
   ]
  },
  {
   "cell_type": "code",
   "execution_count": 169,
   "id": "67564e6c",
   "metadata": {},
   "outputs": [],
   "source": [
    "ro_dicts = {}\n",
    "model_list_ro=['BERT_Ro_female','BERT_Ro_male','GPT2_Ro_female','GPT2_Ro_male']\n",
    "model_list_male_ro=['BERT_Ro_male','GPT2_Ro_male']\n",
    "model_list_female_ro=['BERT_Ro_female','GPT2_Ro_female']\n",
    "\n",
    "\n",
    "#for each language\n",
    "with open(result_files_cate[5], newline='') as csvfile:\n",
    "    reader = csv.DictReader(csvfile)\n",
    "    #for each type of model\n",
    "    for row in reader:\n",
    "        ro_dicts[row['']] = {}\n",
    "        for cat in categories:\n",
    "            ro_dicts[row['']][cat] = row[cat]\n",
    "full_cate_dict['ro'] = ro_dicts"
   ]
  },
  {
   "cell_type": "markdown",
   "id": "8a352eb6",
   "metadata": {},
   "source": [
    "## Male"
   ]
  },
  {
   "cell_type": "code",
   "execution_count": 170,
   "id": "db51e476",
   "metadata": {},
   "outputs": [
    {
     "data": {
      "image/png": "[encoded data removed]",
      "text/plain": [
       "<Figure size 648x648 with 1 Axes>"
      ]
     },
     "metadata": {
      "needs_background": "light"
     },
     "output_type": "display_data"
    },
    {
     "name": "stdout",
     "output_type": "stream",
     "text": [
      "average probability:  0.059 ; standard deviation:  0.094\n"
     ]
    }
   ],
   "source": [
    "ro_male = {}\n",
    "for c in categories:\n",
    "    ro_male[c]=0\n",
    "#sum over all models\n",
    "for model in model_list_male_ro:\n",
    "    dic = ro_dicts[model]\n",
    "    for x in dic.keys():\n",
    "        ro_male[x]+=float(dic[x])\n",
    "for c in categories:\n",
    "    ro_male[c] = format(ro_male[c]/len(model_list_male_ro),\".4f\")#  format(432.456, \".2f\")\n",
    "res = [float(ro_male[c]) for c in categories]\n",
    "sorted_ind = [i[0] for i in sorted(enumerate(res), key=lambda x:x[1])]\n",
    "res = sorted(res)\n",
    "sorted_cat = [categories[ind]   for ind in sorted_ind]\n",
    "plt.figure(figsize=(9, 9))\n",
    "plt.bar(sorted_cat, res)\n",
    "plt.xlabel('category type'); plt.ylabel('probabilities');\n",
    "plt.title('Categorical probability for ro_male')\n",
    "plt.show()\n",
    "print(\"average probability: \", format(np.mean(np.array(res)),\".3f\"), \"; standard deviation: \",format(np.std(np.array(res)),\".3f\"))\n"
   ]
  },
  {
   "cell_type": "markdown",
   "id": "4ff1934a",
   "metadata": {},
   "source": [
    "The top 4 most notable categories for male in Romanian are\n",
    "\n",
    "1. derogatory words\n",
    "2. physical disabilities and diversity\n",
    "3. moral and behavioral defects\n",
    "4. animals"
   ]
  },
  {
   "cell_type": "markdown",
   "id": "4087ff8b",
   "metadata": {},
   "source": [
    "## Female"
   ]
  },
  {
   "cell_type": "code",
   "execution_count": 171,
   "id": "018d1980",
   "metadata": {},
   "outputs": [
    {
     "data": {
      "image/png": "[encoded data removed]",
      "text/plain": [
       "<Figure size 648x648 with 1 Axes>"
      ]
     },
     "metadata": {
      "needs_background": "light"
     },
     "output_type": "display_data"
    },
    {
     "name": "stdout",
     "output_type": "stream",
     "text": [
      "average probability:  0.059 ; standard deviation:  0.087\n"
     ]
    }
   ],
   "source": [
    "ro_female = {}\n",
    "for c in categories:\n",
    "    ro_female[c]=0\n",
    "#sum over all models\n",
    "for model in model_list_female_ro:\n",
    "    dic = ro_dicts[model]\n",
    "    for x in dic.keys():\n",
    "        ro_female[x]+=float(dic[x])\n",
    "for c in categories:\n",
    "    ro_female[c] = format(ro_female[c]/len(model_list_female_ro),\".4f\")#  format(432.456, \".2f\")\n",
    "res = [float(ro_female[c]) for c in categories]\n",
    "sorted_ind = [i[0] for i in sorted(enumerate(res), key=lambda x:x[1])]\n",
    "res = sorted(res)\n",
    "sorted_cat = [categories[ind]   for ind in sorted_ind]\n",
    "plt.figure(figsize=(9, 9))\n",
    "plt.bar(sorted_cat, res)\n",
    "plt.xlabel('category type'); plt.ylabel('probabilities');\n",
    "plt.title('Categorical probability for ro_female')\n",
    "plt.show()\n",
    "print(\"average probability: \", format(np.mean(np.array(res)),\".3f\"), \"; standard deviation: \",format(np.std(np.array(res)),\".3f\"))\n"
   ]
  },
  {
   "cell_type": "markdown",
   "id": "bedb77f6",
   "metadata": {},
   "source": [
    "The top 4 most notable categories for female in Romanian are\n",
    "\n",
    "1. derogatory words\n",
    "2. words related to prostitution\n",
    "3. cognitive disabilities and diversity\n",
    "4. animals"
   ]
  },
  {
   "cell_type": "markdown",
   "id": "7af819a8",
   "metadata": {},
   "source": [
    "# Chinese"
   ]
  },
  {
   "cell_type": "code",
   "execution_count": 172,
   "id": "c4cf7419",
   "metadata": {},
   "outputs": [
    {
     "name": "stdout",
     "output_type": "stream",
     "text": [
      "./experiment_results/zh_categories.csv\n"
     ]
    }
   ],
   "source": [
    "zh_dicts = {}\n",
    "model_list_zh=['BERT_zh_female','BERT_zh_male','BERT_zh2_female','BERT_zh2_male','gpt2_zh_female','gpt2_zh_male']\n",
    "model_list_male_zh=['BERT_zh_male','BERT_zh2_male','gpt2_zh_male']\n",
    "model_list_female_zh=['BERT_zh_female','BERT_zh2_female','gpt2_zh_female']\n",
    "\n",
    "#for each language\n",
    "with open(result_files_cate[6], newline='') as csvfile:\n",
    "    print(result_files_cate[6])\n",
    "    reader = csv.DictReader(csvfile)\n",
    "    #for each type of model\n",
    "    for row in reader:\n",
    "        zh_dicts[row['']] = {}\n",
    "        for cat in categories:\n",
    "            zh_dicts[row['']][cat] = row[cat]\n",
    "full_cate_dict['zh'] = zh_dicts"
   ]
  },
  {
   "cell_type": "markdown",
   "id": "326418dc",
   "metadata": {},
   "source": [
    "## male"
   ]
  },
  {
   "cell_type": "code",
   "execution_count": 173,
   "id": "d40d5c92",
   "metadata": {},
   "outputs": [
    {
     "data": {
      "image/png": "[encoded data removed]",
      "text/plain": [
       "<Figure size 648x648 with 1 Axes>"
      ]
     },
     "metadata": {
      "needs_background": "light"
     },
     "output_type": "display_data"
    },
    {
     "name": "stdout",
     "output_type": "stream",
     "text": [
      "average probability:  0.059 ; standard deviation:  0.088\n"
     ]
    }
   ],
   "source": [
    "zh_male = {}\n",
    "for c in categories:\n",
    "    zh_male[c]=0\n",
    "#sum over all models\n",
    "for model in model_list_male_zh:\n",
    "    dic = zh_dicts[model]\n",
    "    for x in dic.keys():\n",
    "        zh_male[x]+=float(dic[x])\n",
    "for c in categories:\n",
    "    zh_male[c] = format(zh_male[c]/len(model_list_male_zh),\".4f\")#  format(432.456, \".2f\")\n",
    "res = [float(zh_male[c]) for c in categories]\n",
    "sorted_ind = [i[0] for i in sorted(enumerate(res), key=lambda x:x[1])]\n",
    "res = sorted(res)\n",
    "sorted_cat = [categories[ind]   for ind in sorted_ind]\n",
    "plt.figure(figsize=(9, 9))\n",
    "plt.bar(sorted_cat, res)\n",
    "plt.xlabel('category type'); plt.ylabel('probabilities');\n",
    "plt.title('Categorical probability for zh_male')\n",
    "plt.show()\n",
    "print(\"average probability: \", format(np.mean(np.array(res)),\".3f\"), \"; standard deviation: \",format(np.std(np.array(res)),\".3f\"))\n"
   ]
  },
  {
   "cell_type": "markdown",
   "id": "066fcf93",
   "metadata": {},
   "source": [
    "The top 4 most notable categories for male in Chinese are\n",
    "\n",
    "1. moral and behavioral defects\n",
    "2. derogatory words\n",
    "3. physical disabilities and diversity\n",
    "4. words related to the seven deadly sins of the Christian tradition"
   ]
  },
  {
   "cell_type": "markdown",
   "id": "354e6df1",
   "metadata": {},
   "source": [
    "## Female"
   ]
  },
  {
   "cell_type": "code",
   "execution_count": 174,
   "id": "98a67650",
   "metadata": {},
   "outputs": [
    {
     "data": {
      "image/png": "[encoded data removed]",
      "text/plain": [
       "<Figure size 648x648 with 1 Axes>"
      ]
     },
     "metadata": {
      "needs_background": "light"
     },
     "output_type": "display_data"
    },
    {
     "name": "stdout",
     "output_type": "stream",
     "text": [
      "average probability:  0.059 ; standard deviation:  0.094\n"
     ]
    }
   ],
   "source": [
    "zh_female = {}\n",
    "for c in categories:\n",
    "    zh_female[c]=0\n",
    "#sum over all models\n",
    "for model in model_list_female_zh:\n",
    "    dic = zh_dicts[model]\n",
    "    for x in dic.keys():\n",
    "        zh_female[x]+=float(dic[x])\n",
    "for c in categories:\n",
    "    zh_female[c] = format(zh_female[c]/len(model_list_female_zh),\".4f\")#  format(432.456, \".2f\")\n",
    "res = [float(zh_female[c]) for c in categories]\n",
    "sorted_ind = [i[0] for i in sorted(enumerate(res), key=lambda x:x[1])]\n",
    "res = sorted(res)\n",
    "sorted_cat = [categories[ind]   for ind in sorted_ind]\n",
    "plt.figure(figsize=(9, 9))\n",
    "plt.bar(sorted_cat, res)\n",
    "plt.xlabel('category type'); plt.ylabel('probabilities');\n",
    "plt.title('Categorical probability for zh_female')\n",
    "plt.show()\n",
    "print(\"average probability: \", format(np.mean(np.array(res)),\".3f\"), \"; standard deviation: \",format(np.std(np.array(res)),\".3f\"))\n"
   ]
  },
  {
   "cell_type": "markdown",
   "id": "6dff03ca",
   "metadata": {},
   "source": [
    "The top 4 most notable categories for female in Chinese are\n",
    "\n",
    "1. moral and behavioral defects\n",
    "2. derogatory words\n",
    "3. words related to the seven deadly sins of the Christian tradition\n",
    "4. physical disabilities and diversity"
   ]
  },
  {
   "cell_type": "markdown",
   "id": "f1de81dd",
   "metadata": {},
   "source": [
    "In summary for male and female respectively:\n",
    "\n",
    "across all language, hurtful token for female are most likely in categories:\n",
    "    derogatory words 6 times \n",
    "    words related to prostitution 5 times \n",
    "    male genitalia 3 times \n",
    "    female genitalia 3 times \n",
    "\n",
    "across all language, hurtful token for male are most likely in categories:\n",
    "    derogatory words 7 times \n",
    "    moral and behavioral defects 5 times \n",
    "    male genitalia 3 times \n"
   ]
  },
  {
   "cell_type": "markdown",
   "id": "e555b169",
   "metadata": {},
   "source": [
    "standard deviation indicate who spread out the categories are:\n",
    "    english: male 0.09, female 0.088\n",
    "    spanish: male 0.087 female 0.088\n",
    "    french: male 0.095 female 0.091\n",
    "    Italian: male 0.109 female 0.094\n",
    "    Portuguese: male 0.152 female 0.137\n",
    "    Romanian: male 0.094 female 0.087\n",
    "    Chinese: male 0.088 female 0.094\n",
    "    \n",
    "for 5 out 7 langauge, male's categories has higher standard deviation."
   ]
  }
 ],
 "metadata": {
  "kernelspec": {
   "display_name": "Python 3 (ipykernel)",
   "language": "python",
   "name": "python3"
  },
  "language_info": {
   "codemirror_mode": {
    "name": "ipython",
    "version": 3
   },
   "file_extension": ".py",
   "mimetype": "text/x-python",
   "name": "python",
   "nbconvert_exporter": "python",
   "pygments_lexer": "ipython3",
   "version": "3.9.7"
  }
 },
 "nbformat": 4,
 "nbformat_minor": 5
}
