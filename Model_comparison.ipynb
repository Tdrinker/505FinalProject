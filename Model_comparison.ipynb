{
  "nbformat": 4,
  "nbformat_minor": 0,
  "metadata": {
    "colab": {
      "name": "Model_comparison.ipynb",
      "provenance": []
    },
    "kernelspec": {
      "name": "python3",
      "display_name": "Python 3"
    },
    "language_info": {
      "name": "python"
    }
  },
  "cells": [
    {
      "cell_type": "code",
      "execution_count": 2,
      "metadata": {
        "id": "HItKdZQJLbxE"
      },
      "outputs": [],
      "source": [
        "import numpy as np\n",
        "import pandas as pd\n",
        "import matplotlib.pyplot as plt"
      ]
    },
    {
      "cell_type": "code",
      "source": [
        "en_df = pd.read_csv(\"en_scores.csv\")\n",
        "fr_df = pd.read_csv(\"fr_scores.csv\")"
      ],
      "metadata": {
        "id": "waXIIEvXMSrl"
      },
      "execution_count": 3,
      "outputs": []
    },
    {
      "cell_type": "code",
      "source": [
        "encomp = en_df.iloc[[0,2]]\n",
        "frcomp = fr_df.iloc[[0,1]]"
      ],
      "metadata": {
        "id": "rzYJRuSCMszC"
      },
      "execution_count": 4,
      "outputs": []
    },
    {
      "cell_type": "code",
      "source": [
        "encomp['K=1'] = encomp[['1_female', '1_male']].mean(axis=1)\n",
        "encomp['K=5'] = encomp[['5_female', '5_male']].mean(axis=1)\n",
        "encomp['K=15'] = encomp[['15_female', '15_male']].mean(axis=1)"
      ],
      "metadata": {
        "colab": {
          "base_uri": "https://localhost:8080/"
        },
        "id": "h2LZhIycPwjJ",
        "outputId": "7a8e8ddc-fde9-42c8-de1e-3f431002e7a6"
      },
      "execution_count": 5,
      "outputs": [
        {
          "output_type": "stream",
          "name": "stderr",
          "text": [
            "/usr/local/lib/python3.7/dist-packages/ipykernel_launcher.py:1: SettingWithCopyWarning: \n",
            "A value is trying to be set on a copy of a slice from a DataFrame.\n",
            "Try using .loc[row_indexer,col_indexer] = value instead\n",
            "\n",
            "See the caveats in the documentation: https://pandas.pydata.org/pandas-docs/stable/user_guide/indexing.html#returning-a-view-versus-a-copy\n",
            "  \"\"\"Entry point for launching an IPython kernel.\n",
            "/usr/local/lib/python3.7/dist-packages/ipykernel_launcher.py:2: SettingWithCopyWarning: \n",
            "A value is trying to be set on a copy of a slice from a DataFrame.\n",
            "Try using .loc[row_indexer,col_indexer] = value instead\n",
            "\n",
            "See the caveats in the documentation: https://pandas.pydata.org/pandas-docs/stable/user_guide/indexing.html#returning-a-view-versus-a-copy\n",
            "  \n",
            "/usr/local/lib/python3.7/dist-packages/ipykernel_launcher.py:3: SettingWithCopyWarning: \n",
            "A value is trying to be set on a copy of a slice from a DataFrame.\n",
            "Try using .loc[row_indexer,col_indexer] = value instead\n",
            "\n",
            "See the caveats in the documentation: https://pandas.pydata.org/pandas-docs/stable/user_guide/indexing.html#returning-a-view-versus-a-copy\n",
            "  This is separate from the ipykernel package so we can avoid doing imports until\n"
          ]
        }
      ]
    },
    {
      "cell_type": "code",
      "source": [
        "endata = encomp[['K=1','K=5','K=15']].values.tolist()"
      ],
      "metadata": {
        "id": "MVI0HsN0SNr6"
      },
      "execution_count": 7,
      "outputs": []
    },
    {
      "cell_type": "code",
      "source": [
        "labels = ['K=1', 'K=5', 'K=15']\n",
        "x = np.arange(len(labels))\n",
        "width = 0.35\n",
        "\n",
        "#fig, ax = plt.subplots()\n",
        "fig = plt.figure()\n",
        "ax = fig.add_axes([0,0,0.4,0.4])\n",
        "rects1 = ax.bar(x - width/2, endata[0], width, label='BERT')\n",
        "rects2 = ax.bar(x + width/2, endata[1], width, label='hateBERT')\n",
        "\n",
        "ax.set_ylabel('HONEST Scores')\n",
        "ax.set_title('Model Comparsion_ENGLISH')\n",
        "ax.set_xticks(x, labels)\n",
        "ax.legend()\n",
        "\n",
        "#ax.bar_label(rects1, padding=3)\n",
        "#ax.bar_label(rects2, padding=3)\n",
        "#fig.tight_layout()\n",
        "plt.show()"
      ],
      "metadata": {
        "colab": {
          "base_uri": "https://localhost:8080/",
          "height": 352
        },
        "id": "mewB2N00RneI",
        "outputId": "018f14fb-bcff-40d9-a49a-68cf7222bd85"
      },
      "execution_count": 24,
      "outputs": [
        {
          "output_type": "display_data",
          "data": {
            "text/plain": [
              "<Figure size 1440x720 with 1 Axes>"
            ],
            "image/png": "[encoded data removed]"
          },
          "metadata": {
            "needs_background": "light"
          }
        }
      ]
    },
    {
      "cell_type": "code",
      "source": [
        "frcomp['K=1'] = frcomp[['1_female', '1_male']].mean(axis=1)\n",
        "frcomp['K=5'] = frcomp[['5_female', '5_male']].mean(axis=1)\n",
        "frcomp['K=15'] = frcomp[['15_female', '15_male']].mean(axis=1)\n",
        "frdata = frcomp[['K=1','K=5','K=15']].values.tolist()"
      ],
      "metadata": {
        "colab": {
          "base_uri": "https://localhost:8080/"
        },
        "id": "mSE0e7o8ODO2",
        "outputId": "a9c4d7d4-ec23-4f6e-ae41-43bc63aab656"
      },
      "execution_count": 19,
      "outputs": [
        {
          "output_type": "stream",
          "name": "stderr",
          "text": [
            "/usr/local/lib/python3.7/dist-packages/ipykernel_launcher.py:1: SettingWithCopyWarning: \n",
            "A value is trying to be set on a copy of a slice from a DataFrame.\n",
            "Try using .loc[row_indexer,col_indexer] = value instead\n",
            "\n",
            "See the caveats in the documentation: https://pandas.pydata.org/pandas-docs/stable/user_guide/indexing.html#returning-a-view-versus-a-copy\n",
            "  \"\"\"Entry point for launching an IPython kernel.\n",
            "/usr/local/lib/python3.7/dist-packages/ipykernel_launcher.py:2: SettingWithCopyWarning: \n",
            "A value is trying to be set on a copy of a slice from a DataFrame.\n",
            "Try using .loc[row_indexer,col_indexer] = value instead\n",
            "\n",
            "See the caveats in the documentation: https://pandas.pydata.org/pandas-docs/stable/user_guide/indexing.html#returning-a-view-versus-a-copy\n",
            "  \n",
            "/usr/local/lib/python3.7/dist-packages/ipykernel_launcher.py:3: SettingWithCopyWarning: \n",
            "A value is trying to be set on a copy of a slice from a DataFrame.\n",
            "Try using .loc[row_indexer,col_indexer] = value instead\n",
            "\n",
            "See the caveats in the documentation: https://pandas.pydata.org/pandas-docs/stable/user_guide/indexing.html#returning-a-view-versus-a-copy\n",
            "  This is separate from the ipykernel package so we can avoid doing imports until\n"
          ]
        }
      ]
    },
    {
      "cell_type": "code",
      "source": [
        "labels = ['K=1', 'K=5', 'K=15']\n",
        "x = np.arange(len(labels))\n",
        "width = 0.35\n",
        "\n",
        "#fig, ax = plt.subplots()\n",
        "fig = plt.figure()\n",
        "ax = fig.add_axes([0,0,0.4,0.4])\n",
        "rects1 = ax.bar(x - width/2, frdata[0], width, label='CamemBERT')\n",
        "rects2 = ax.bar(x + width/2, frdata[1], width, label='CamemBERT_Wiki')\n",
        "\n",
        "ax.set_ylabel('HONEST Scores')\n",
        "ax.set_title('Model Comparsion_FRENCH')\n",
        "ax.set_xticks(x, labels)\n",
        "ax.legend()\n",
        "\n",
        "plt.show()"
      ],
      "metadata": {
        "colab": {
          "base_uri": "https://localhost:8080/",
          "height": 352
        },
        "id": "d6xd57wkW_mT",
        "outputId": "bc1fcdca-8302-49f3-bb93-d265572bbab6"
      },
      "execution_count": 25,
      "outputs": [
        {
          "output_type": "display_data",
          "data": {
            "text/plain": [
              "<Figure size 1440x720 with 1 Axes>"
            ],
            "image/png": "[encoded data removed]"
          },
          "metadata": {
            "needs_background": "light"
          }
        }
      ]
    }
  ]
}