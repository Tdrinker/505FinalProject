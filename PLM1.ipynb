{
 "cells": [
  {
   "cell_type": "code",
   "execution_count": null,
   "id": "991aaf81",
   "metadata": {
    "scrolled": true
   },
   "outputs": [],
   "source": [
    "!pip install -U honest"
   ]
  },
  {
   "cell_type": "code",
   "execution_count": 1,
   "id": "f174469d",
   "metadata": {},
   "outputs": [],
   "source": [
    "from transformers import AutoTokenizer, AutoModel, AutoModelWithLMHead, AutoModelForMaskedLM\n",
    "from transformers import pipeline\n",
    "from honest import honest"
   ]
  },
  {
   "cell_type": "code",
   "execution_count": 2,
   "id": "0d5c4565",
   "metadata": {},
   "outputs": [],
   "source": [
    "def fill_in_and_evaluate_honest(lang, tokenizer, model):\n",
    "    evaluator = honest.HonestEvaluator(lang)\n",
    "    masked_templates = evaluator.templates()\n",
    "\n",
    "    # Define nlp_fill pipeline\n",
    "    nlp_fill = pipeline('fill-mask', model=model, tokenizer=tokenizer, top_k=1)\n",
    "\n",
    "    # Fill templates (please check if the filled words contain any special character)\n",
    "    female_masked_templates = {masked_template: value for (masked_template, value) in masked_templates.items() if value['mf'] == 'female'}\n",
    "    male_masked_templates = {masked_template: value for (masked_template, value) in masked_templates.items() if value['mf'] == 'male'}\n",
    "    \n",
    "    female_filled_templates = [[fill['token_str'].strip() \n",
    "                                for fill in nlp_fill(masked_sentence.replace('[M]', tokenizer.mask_token))] \n",
    "                                for masked_sentence in female_masked_templates.keys()]\n",
    "    male_filled_templates = [[fill['token_str'].strip() \n",
    "                              for fill in nlp_fill(masked_sentence.replace('[M]', tokenizer.mask_token))] \n",
    "                              for masked_sentence in male_masked_templates.keys()]\n",
    "    \n",
    "    female_honest_score = evaluator.honest(female_filled_templates)\n",
    "    male_honest_score = evaluator.honest(male_filled_templates)\n",
    "    \n",
    "    print(\"female honest score: \", female_honest_score)\n",
    "    print(\"male honest score: \", male_honest_score)"
   ]
  },
  {
   "cell_type": "code",
   "execution_count": 3,
   "id": "c2f0d289",
   "metadata": {
    "scrolled": true
   },
   "outputs": [
    {
     "name": "stderr",
     "output_type": "stream",
     "text": [
      "/usr4/cs640g/ggao02/.local/lib/python3.8/site-packages/honest/honest.py:62: UserWarning: DataFrame columns are not unique, some columns will be omitted.\n",
      "  data = pd.read_csv(f'https://raw.githubusercontent.com/MilaNLProc/honest/main/resources/{self.language}_template.tsv', index_col=0, sep='\\t').T.to_dict('dict')\n"
     ]
    },
    {
     "name": "stdout",
     "output_type": "stream",
     "text": [
      "female honest score:  0.057803468208092484\n",
      "male honest score:  0.013227513227513227\n"
     ]
    }
   ],
   "source": [
    "# Load BERT model\n",
    "tokenizer = AutoTokenizer.from_pretrained(\"roberta-base\")\n",
    "model = AutoModelForMaskedLM.from_pretrained(\"roberta-base\")\n",
    "\n",
    "fill_in_and_evaluate_honest(lang=\"en\", tokenizer=tokenizer, model=model)"
   ]
  },
  {
   "cell_type": "code",
   "execution_count": 4,
   "id": "bb7b4b63",
   "metadata": {},
   "outputs": [
    {
     "name": "stderr",
     "output_type": "stream",
     "text": [
      "/usr4/cs640g/ggao02/.local/lib/python3.8/site-packages/honest/honest.py:62: UserWarning: DataFrame columns are not unique, some columns will be omitted.\n",
      "  data = pd.read_csv(f'https://raw.githubusercontent.com/MilaNLProc/honest/main/resources/{self.language}_template.tsv', index_col=0, sep='\\t').T.to_dict('dict')\n"
     ]
    },
    {
     "name": "stdout",
     "output_type": "stream",
     "text": [
      "female honest score:  0.02564102564102564\n",
      "male honest score:  0.08717948717948718\n"
     ]
    }
   ],
   "source": [
    "fill_in_and_evaluate_honest(lang=\"es\", tokenizer=tokenizer, model=model)"
   ]
  },
  {
   "cell_type": "code",
   "execution_count": 5,
   "id": "1e50c5ca",
   "metadata": {},
   "outputs": [
    {
     "name": "stderr",
     "output_type": "stream",
     "text": [
      "/usr4/cs640g/ggao02/.local/lib/python3.8/site-packages/honest/honest.py:62: UserWarning: DataFrame columns are not unique, some columns will be omitted.\n",
      "  data = pd.read_csv(f'https://raw.githubusercontent.com/MilaNLProc/honest/main/resources/{self.language}_template.tsv', index_col=0, sep='\\t').T.to_dict('dict')\n"
     ]
    },
    {
     "name": "stdout",
     "output_type": "stream",
     "text": [
      "female honest score:  0.02284263959390863\n",
      "male honest score:  0.04871794871794872\n"
     ]
    }
   ],
   "source": [
    "fill_in_and_evaluate_honest(lang=\"fr\", tokenizer=tokenizer, model=model)"
   ]
  },
  {
   "cell_type": "code",
   "execution_count": 6,
   "id": "570a11e9",
   "metadata": {},
   "outputs": [
    {
     "name": "stdout",
     "output_type": "stream",
     "text": [
      "female honest score:  0.024691358024691357\n",
      "male honest score:  0.0\n"
     ]
    }
   ],
   "source": [
    "fill_in_and_evaluate_honest(lang=\"it\", tokenizer=tokenizer, model=model)"
   ]
  },
  {
   "cell_type": "code",
   "execution_count": 7,
   "id": "78fd040b",
   "metadata": {},
   "outputs": [
    {
     "name": "stderr",
     "output_type": "stream",
     "text": [
      "/usr4/cs640g/ggao02/.local/lib/python3.8/site-packages/honest/honest.py:62: UserWarning: DataFrame columns are not unique, some columns will be omitted.\n",
      "  data = pd.read_csv(f'https://raw.githubusercontent.com/MilaNLProc/honest/main/resources/{self.language}_template.tsv', index_col=0, sep='\\t').T.to_dict('dict')\n"
     ]
    },
    {
     "name": "stdout",
     "output_type": "stream",
     "text": [
      "female honest score:  0.0\n",
      "male honest score:  0.004761904761904762\n"
     ]
    }
   ],
   "source": [
    "fill_in_and_evaluate_honest(lang=\"pt\", tokenizer=tokenizer, model=model)"
   ]
  },
  {
   "cell_type": "code",
   "execution_count": 8,
   "id": "36cd7cc7",
   "metadata": {},
   "outputs": [
    {
     "name": "stderr",
     "output_type": "stream",
     "text": [
      "/usr4/cs640g/ggao02/.local/lib/python3.8/site-packages/honest/honest.py:62: UserWarning: DataFrame columns are not unique, some columns will be omitted.\n",
      "  data = pd.read_csv(f'https://raw.githubusercontent.com/MilaNLProc/honest/main/resources/{self.language}_template.tsv', index_col=0, sep='\\t').T.to_dict('dict')\n"
     ]
    },
    {
     "name": "stdout",
     "output_type": "stream",
     "text": [
      "female honest score:  0.0\n",
      "male honest score:  0.0\n"
     ]
    }
   ],
   "source": [
    "fill_in_and_evaluate_honest(lang=\"ro\", tokenizer=tokenizer, model=model)"
   ]
  },
  {
   "cell_type": "code",
   "execution_count": null,
   "id": "c60c5af3",
   "metadata": {},
   "outputs": [],
   "source": []
  }
 ],
 "metadata": {
  "kernelspec": {
   "display_name": "Python 3",
   "language": "python",
   "name": "python3"
  },
  "language_info": {
   "codemirror_mode": {
    "name": "ipython",
    "version": 3
   },
   "file_extension": ".py",
   "mimetype": "text/x-python",
   "name": "python",
   "nbconvert_exporter": "python",
   "pygments_lexer": "ipython3",
   "version": "3.8.10"
  }
 },
 "nbformat": 4,
 "nbformat_minor": 5
}
