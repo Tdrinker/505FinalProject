{
 "cells": [
  {
   "cell_type": "code",
   "execution_count": 32,
   "id": "85ecabf1",
   "metadata": {},
   "outputs": [],
   "source": [
    "from transformers import AutoTokenizer, AutoModel, AutoModelWithLMHead, AutoModelForMaskedLM,AutoModelForCausalLM\n",
    "from transformers import pipeline\n",
    "import pandas as pd\n",
    "import honest_505\n",
    "import warnings\n",
    "warnings.filterwarnings(\"ignore\")"
   ]
  },
  {
   "cell_type": "code",
   "execution_count": 37,
   "id": "58080d1f",
   "metadata": {},
   "outputs": [],
   "source": [
    "def fill_in_and_evaluate_honest(lang: str, tokenizer, model,mask: bool, if_print_cate = True,k = 1):\n",
    "    # evaluate the HONEST score for one set of parameters\n",
    "    evaluator = honest_505.HonestEvaluator(lang)\n",
    "    masked_templates = evaluator.templates(path = \"./templates/\"+ lang +\"_template.tsv\")\n",
    "    #BERT uses [MASK] tokens\n",
    "    if mask:\n",
    "        # Define nlp_fill pipeline\n",
    "        nlp_fill = pipeline('fill-mask', model=model, tokenizer=tokenizer, top_k=k)\n",
    "\n",
    "        # Fill templates (please check if the filled words contain any special character)\n",
    "        female_masked_templates = {masked_template: value for (masked_template, value) in masked_templates.items() if value['mf'] == 'female'}\n",
    "        male_masked_templates = {masked_template: value for (masked_template, value) in masked_templates.items() if value['mf'] == 'male'}\n",
    "        \n",
    "        female_filled_templates = [[fill['token_str'].strip() \n",
    "                                    for fill in nlp_fill(masked_sentence.replace('[M]', tokenizer.mask_token))] \n",
    "                                    for masked_sentence in female_masked_templates.keys()]\n",
    "\n",
    "        male_filled_templates = [[fill['token_str'].strip() \n",
    "                                  for fill in nlp_fill(masked_sentence.replace('[M]', tokenizer.mask_token))] \n",
    "                                  for masked_sentence in male_masked_templates.keys()]\n",
    "    #GPT2 generates next word directly\n",
    "    else:\n",
    "        # Define nlp_fill pipeline\n",
    "        nlp_fill = pipeline('text-generation', model=model, tokenizer=tokenizer)\n",
    "\n",
    "        # Fill templates (please check if the filled words contain any special character)\n",
    "        female_masked_templates = {masked_template: value for (masked_template, value) in masked_templates.items() if value['mf'] == 'female'}\n",
    "\n",
    "        male_masked_templates = {masked_template: value for (masked_template, value) in masked_templates.items() if value['mf'] == 'male'}\n",
    "        # Tokenize the input into integer token IDs\n",
    "        \n",
    "        if lang is 'zh':\n",
    "            M = \"[M]。\"\n",
    "            n = 2\n",
    "        else:\n",
    "            M = \" [M].\"\n",
    "            n = 1\n",
    "        inputs_female = [tokenizer.encode(masked_sentence.replace(M, \"\"), return_tensors='pt')  \n",
    "                                    for masked_sentence in female_masked_templates.keys()]\n",
    "        inputs_male = [tokenizer.encode(masked_sentence.replace(M, \"\"), return_tensors='pt')  \n",
    "                                    for masked_sentence in male_masked_templates.keys()]\n",
    "\n",
    "        # generate samples to predict the next word\n",
    "        female_filled_sentences  = [model.generate(inputs,\n",
    "                                                  Top_k =10,\n",
    "                                                    do_sample=True,\n",
    "                                                   repetition_penalty=1.5,\n",
    "                                                   num_return_sequences = k,\n",
    "                                                  max_length = inputs.shape[1] + n, pad_token_id=tokenizer.eos_token_id) for inputs in inputs_female]\n",
    "        male_filled_sentences  = [model.generate(inputs,\n",
    "                                              Top_k =10,\n",
    "                                                do_sample=True,\n",
    "                                               repetition_penalty=1.5,\n",
    "                                               num_return_sequences = k,\n",
    "                                              max_length = inputs.shape[1] + n, pad_token_id=tokenizer.eos_token_id) for inputs in inputs_male]\n",
    "\n",
    "        female_filled_templates = [[tokenizer.decode(sent[-1]).strip() for sent in sents_k ] for sents_k in female_filled_sentences]\n",
    "        male_filled_templates = [[tokenizer.decode(sent[-1]).strip() for sent in sents_k ] for sents_k in male_filled_sentences]\n",
    "    \n",
    "    # compute\n",
    "    female_honest_score = evaluator.honest(female_filled_templates)\n",
    "    male_honest_score = evaluator.honest(male_filled_templates)\n",
    "    # print the results\n",
    "    print(\"Top_k:\",k,\"language:\",lang)\n",
    "    print(\"female honest score: \", female_honest_score)\n",
    "    print(\"male honest score: \", male_honest_score)\n",
    "    # check if print out the categories\n",
    "    if if_print_cate is True:\n",
    "        female_honest_cate = evaluator.compute_cate(female_filled_templates)\n",
    "        male_honest_cate = evaluator.compute_cate(male_filled_templates)\n",
    "        print(\"Percentages of hurtful words about female: \", female_honest_cate)\n",
    "        print(\"Percentages of hurtful words about male: \", male_honest_cate)\n",
    "    else:\n",
    "        female_honest_cate = {}\n",
    "        male_honest_cate = {}\n",
    "    return female_honest_score,male_honest_score,female_honest_cate,male_honest_cate"
   ]
  },
  {
   "cell_type": "code",
   "execution_count": 38,
   "id": "5d33de57-f408-4912-8c42-fa61867c0229",
   "metadata": {},
   "outputs": [],
   "source": [
    "# test HONEST scores and update dataframes\n",
    "def test_honest(tokenizer, model, lang, k_range, if_mask,honest_score_DF, cate_DF,k_cate = 15):\n",
    "    # creat a list to save scores for this model\n",
    "    score_list = []\n",
    "    for k_num in k_range:\n",
    "        # try different k\n",
    "        if_print_c = (k_num is k_cate)\n",
    "        fe_score, ma_score, fe_cate, ma_cate = fill_in_and_evaluate_honest(lang, \n",
    "                                                                        tokenizer=tokenizer, model=model,\n",
    "                                                                        mask = if_mask,if_print_cate = if_print_c,k = k_num)\n",
    "        score_list.extend([fe_score,ma_score])\n",
    "        if k_num is k_cate:\n",
    "            # only save when k == 15\n",
    "            cate_DF = cate_DF.append(fe_cate, ignore_index=True)\n",
    "            cate_DF = cate_DF.append(ma_cate, ignore_index=True)\n",
    "        print(\"*\" * 70)\n",
    "    honest_score_DF.loc[len(honest_score_DF)] = score_list\n",
    "    # retrun updated dataframes\n",
    "    return honest_score_DF, cate_DF"
   ]
  },
  {
   "cell_type": "code",
   "execution_count": 39,
   "id": "9773f3a3-bef8-4529-bbf3-416bde570961",
   "metadata": {},
   "outputs": [],
   "source": [
    "# save test results\n",
    "def save_data(lang, honest_score_df, cate_df, path = './experiment_results/'):\n",
    "    honest_score_df.to_csv(path + lang + \"_scores.csv\")\n",
    "    cate_df.to_csv(path + lang + \"_categories.csv\")\n",
    "    print(\"Finished!\")"
   ]
  },
  {
   "cell_type": "code",
   "execution_count": 40,
   "id": "7ac663a7-37b9-4ba2-9c20-6eeec7b48efd",
   "metadata": {},
   "outputs": [],
   "source": [
    "k_range = [1,5,15]"
   ]
  },
  {
   "cell_type": "code",
   "execution_count": 41,
   "id": "baa7bfce-6407-4b54-a3e1-bfc32ea97954",
   "metadata": {},
   "outputs": [],
   "source": [
    "# generate columns names for scores dataframe\n",
    "columns_names_scores =[str(k) + \"_\" +gender for k in k_range for gender in [\"female\",\"male\"]]"
   ]
  },
  {
   "cell_type": "markdown",
   "id": "8cf181b3-603f-44ea-a53c-8ec066d34545",
   "metadata": {},
   "source": [
    "## 1.English"
   ]
  },
  {
   "cell_type": "code",
   "execution_count": 102,
   "id": "1627ad5c-ca41-4233-a947-b12ce6c80bb4",
   "metadata": {},
   "outputs": [],
   "source": [
    "lang = 'en'\n",
    "honest_score_df = pd.DataFrame(columns = columns_names_scores)\n",
    "# creat a dataframe to save percentages of hurtful words for each category\n",
    "cate_df = pd.DataFrame()\n",
    "models_name = []"
   ]
  },
  {
   "cell_type": "markdown",
   "id": "fc4034da-5f27-422d-a0a8-4ffa8011c1f6",
   "metadata": {},
   "source": [
    "#### BERT"
   ]
  },
  {
   "cell_type": "code",
   "execution_count": null,
   "id": "2a280aa6-2808-46bf-a672-5f60a86642a9",
   "metadata": {},
   "outputs": [],
   "source": [
    "# import the model and tokenizer \n",
    "tokenizer = AutoTokenizer.from_pretrained('bert-base-uncased')\n",
    "model = AutoModelForMaskedLM.from_pretrained('bert-base-uncased')\n",
    "models_name.append(\"BERT\")\n",
    "# set parameters for this model\n",
    "if_mask = True"
   ]
  },
  {
   "cell_type": "code",
   "execution_count": 104,
   "id": "83508479-f0b4-4b1d-a464-308bba7160ca",
   "metadata": {},
   "outputs": [
    {
     "name": "stdout",
     "output_type": "stream",
     "text": [
      "Top_k: 1 language: en\n",
      "female honest score:  0.017341040462427744\n",
      "male honest score:  0.013227513227513227\n",
      "**********************************************************************\n",
      "Top_k: 5 language: en\n",
      "female honest score:  0.03236994219653179\n",
      "male honest score:  0.03015873015873016\n",
      "**********************************************************************\n",
      "Top_k: 15 language: en\n",
      "female honest score:  0.042967244701348745\n",
      "male honest score:  0.032980599647266316\n",
      "Percentages of hurtful words about female:  {'ddf': 0.0, 'pa': 0.031, 'asm': 0.117, 'cds': 0.224, 'qas': 0.04, 'asf': 0.009, 'om': 0.0, 'rci': 0.0, 'dmc': 0.045, 'is': 0.004, 'or': 0.094, 'ps': 0.0, 're': 0.0, 'svp': 0.031, 'ddp': 0.0, 'pr': 0.323, 'an': 0.081}\n",
      "Percentages of hurtful words about male:  {'ddf': 0.0, 'pa': 0.064, 'asm': 0.134, 'cds': 0.262, 'qas': 0.064, 'asf': 0.037, 'om': 0.021, 'rci': 0.0, 'dmc': 0.128, 'is': 0.005, 'or': 0.005, 'ps': 0.0, 're': 0.011, 'svp': 0.037, 'ddp': 0.021, 'pr': 0.091, 'an': 0.118}\n",
      "**********************************************************************\n"
     ]
    }
   ],
   "source": [
    "honest_score_df, cate_df = test_honest(tokenizer, model, lang,\n",
    "                                       k_range,if_mask,\n",
    "                                       honest_score_df, cate_df)"
   ]
  },
  {
   "cell_type": "markdown",
   "id": "be732c91-7d4c-4479-a31c-7a83a3e2825d",
   "metadata": {},
   "source": [
    "#### RoBERTa"
   ]
  },
  {
   "cell_type": "code",
   "execution_count": 105,
   "id": "f0d7ec71-6dc0-4fd9-b9dd-be254232cd47",
   "metadata": {},
   "outputs": [],
   "source": [
    "\n",
    "# import the model and tokenizer \n",
    "tokenizer = AutoTokenizer.from_pretrained(\"roberta-base\")\n",
    "model = AutoModelForMaskedLM.from_pretrained(\"roberta-base\")\n",
    "models_name.append(\"RoBERTa\")\n",
    "# set parameters for this model\n",
    "if_mask = True"
   ]
  },
  {
   "cell_type": "code",
   "execution_count": 106,
   "id": "4ce5884d-c02a-46c0-9513-49ef8462f1fb",
   "metadata": {},
   "outputs": [
    {
     "name": "stdout",
     "output_type": "stream",
     "text": [
      "Top_k: 1 language: en\n",
      "female honest score:  0.057803468208092484\n",
      "male honest score:  0.013227513227513227\n",
      "**********************************************************************\n",
      "Top_k: 5 language: en\n",
      "female honest score:  0.055491329479768786\n",
      "male honest score:  0.049206349206349205\n",
      "**********************************************************************\n",
      "Top_k: 15 language: en\n",
      "female honest score:  0.051252408477842\n",
      "male honest score:  0.04620811287477954\n",
      "Percentages of hurtful words about female:  {'ddf': 0.0, 'pa': 0.0, 'asm': 0.071, 'cds': 0.15, 'qas': 0.019, 'asf': 0.038, 'om': 0.004, 'rci': 0.0, 'dmc': 0.038, 'is': 0.004, 'or': 0.064, 'ps': 0.0, 're': 0.023, 'svp': 0.041, 'ddp': 0.0, 'pr': 0.425, 'an': 0.124}\n",
      "Percentages of hurtful words about male:  {'ddf': 0.034, 'pa': 0.008, 'asm': 0.08, 'cds': 0.359, 'qas': 0.103, 'asf': 0.031, 'om': 0.034, 'rci': 0.0, 'dmc': 0.115, 'is': 0.0, 'or': 0.008, 'ps': 0.0, 're': 0.011, 'svp': 0.034, 'ddp': 0.015, 'pr': 0.084, 'an': 0.084}\n",
      "**********************************************************************\n"
     ]
    }
   ],
   "source": [
    "honest_score_df, cate_df = test_honest(tokenizer, model, lang,\n",
    "                                       k_range,if_mask,\n",
    "                                       honest_score_df, cate_df)"
   ]
  },
  {
   "cell_type": "markdown",
   "id": "6fa9d7c3-5088-4d99-8afe-dbee7a550b8f",
   "metadata": {},
   "source": [
    "#### HateBERT"
   ]
  },
  {
   "cell_type": "code",
   "execution_count": null,
   "id": "9addd183-9fc3-4477-99d2-02a4dc569573",
   "metadata": {},
   "outputs": [],
   "source": [
    "# import the model and tokenizer \n",
    "tokenizer = AutoTokenizer.from_pretrained(\"GroNLP/hateBERT\")\n",
    "model = AutoModelForMaskedLM.from_pretrained(\"GroNLP/hateBERT\")\n",
    "models_name.append(\"hateBERT\")\n",
    "# set parameters for this model\n",
    "if_mask = True"
   ]
  },
  {
   "cell_type": "code",
   "execution_count": 108,
   "id": "b42860ea-b5f1-48b2-b7bc-4a470116c6f1",
   "metadata": {},
   "outputs": [
    {
     "name": "stdout",
     "output_type": "stream",
     "text": [
      "Top_k: 1 language: en\n",
      "female honest score:  0.02601156069364162\n",
      "male honest score:  0.037037037037037035\n",
      "**********************************************************************\n",
      "Top_k: 5 language: en\n",
      "female honest score:  0.06242774566473988\n",
      "male honest score:  0.06084656084656084\n",
      "**********************************************************************\n",
      "Top_k: 15 language: en\n",
      "female honest score:  0.07495183044315992\n",
      "male honest score:  0.06190476190476191\n",
      "Percentages of hurtful words about female:  {'ddf': 0.041, 'pa': 0.0, 'asm': 0.139, 'cds': 0.129, 'qas': 0.039, 'asf': 0.015, 'om': 0.0, 'rci': 0.0, 'dmc': 0.144, 'is': 0.062, 'or': 0.044, 'ps': 0.0, 're': 0.044, 'svp': 0.005, 'ddp': 0.062, 'pr': 0.18, 'an': 0.098}\n",
      "Percentages of hurtful words about male:  {'ddf': 0.009, 'pa': 0.0, 'asm': 0.214, 'cds': 0.145, 'qas': 0.057, 'asf': 0.006, 'om': 0.0, 'rci': 0.0, 'dmc': 0.16, 'is': 0.04, 'or': 0.028, 'ps': 0.0, 're': 0.028, 'svp': 0.014, 'ddp': 0.094, 'pr': 0.088, 'an': 0.117}\n",
      "**********************************************************************\n"
     ]
    }
   ],
   "source": [
    "honest_score_df, cate_df = test_honest(tokenizer, model, lang,\n",
    "                                       k_range,if_mask,\n",
    "                                       honest_score_df, cate_df)"
   ]
  },
  {
   "cell_type": "markdown",
   "id": "ee530627-ea46-4aa2-8cce-74cebc508f26",
   "metadata": {},
   "source": [
    "#### GPT-2"
   ]
  },
  {
   "cell_type": "code",
   "execution_count": 109,
   "id": "e64205e2-a334-47d6-ae96-202e2d6438a8",
   "metadata": {},
   "outputs": [],
   "source": [
    "# import the model and tokenizer \n",
    "tokenizer = AutoTokenizer.from_pretrained('gpt2')\n",
    "model = AutoModelForCausalLM.from_pretrained('gpt2')\n",
    "models_name.append(\"GPT2\")\n",
    "# set parameters for this model\n",
    "if_mask = False"
   ]
  },
  {
   "cell_type": "code",
   "execution_count": 110,
   "id": "40770977-e384-4c83-83fd-45f355a22c26",
   "metadata": {},
   "outputs": [
    {
     "name": "stdout",
     "output_type": "stream",
     "text": [
      "Top_k: 1 language: en\n",
      "female honest score:  0.04046242774566474\n",
      "male honest score:  0.042328042328042326\n",
      "**********************************************************************\n",
      "Top_k: 5 language: en\n",
      "female honest score:  0.03410404624277456\n",
      "male honest score:  0.037037037037037035\n",
      "**********************************************************************\n",
      "Top_k: 15 language: en\n",
      "female honest score:  0.044701348747591525\n",
      "male honest score:  0.031216931216931216\n",
      "Percentages of hurtful words about female:  {'ddf': 0.0, 'pa': 0.0, 'asm': 0.388, 'cds': 0.043, 'qas': 0.017, 'asf': 0.009, 'om': 0.0, 'rci': 0.0, 'dmc': 0.047, 'is': 0.009, 'or': 0.022, 'ps': 0.0, 're': 0.009, 'svp': 0.013, 'ddp': 0.026, 'pr': 0.392, 'an': 0.026}\n",
      "Percentages of hurtful words about male:  {'ddf': 0.0, 'pa': 0.006, 'asm': 0.463, 'cds': 0.136, 'qas': 0.034, 'asf': 0.017, 'om': 0.006, 'rci': 0.0, 'dmc': 0.056, 'is': 0.028, 'or': 0.011, 'ps': 0.0, 're': 0.017, 'svp': 0.0, 'ddp': 0.011, 'pr': 0.198, 'an': 0.017}\n",
      "**********************************************************************\n"
     ]
    }
   ],
   "source": [
    "honest_score_df, cate_df = test_honest(tokenizer, model, lang,\n",
    "                                       k_range,if_mask,\n",
    "                                       honest_score_df, cate_df)"
   ]
  },
  {
   "cell_type": "markdown",
   "id": "40df2173-a200-4b2c-90aa-bee72d6d343e",
   "metadata": {},
   "source": [
    "#### xlnet"
   ]
  },
  {
   "cell_type": "code",
   "execution_count": null,
   "id": "2d49ad91-3d75-4701-9a83-b1a86d8fb487",
   "metadata": {},
   "outputs": [],
   "source": [
    "# import the model and tokenizer \n",
    "tokenizer = AutoTokenizer.from_pretrained('xlnet-base-cased')\n",
    "model = AutoModelForCausalLM.from_pretrained('xlnet-base-cased')\n",
    "models_name.append(\"xlnet\")\n",
    "# set parameters for this model\n",
    "if_mask = False"
   ]
  },
  {
   "cell_type": "code",
   "execution_count": 112,
   "id": "6013ba6a-b273-49cd-8ebd-a3d7ececf493",
   "metadata": {},
   "outputs": [
    {
     "name": "stdout",
     "output_type": "stream",
     "text": [
      "Top_k: 1 language: en\n",
      "female honest score:  0.011560693641618497\n",
      "male honest score:  0.013227513227513227\n",
      "**********************************************************************\n",
      "Top_k: 5 language: en\n",
      "female honest score:  0.009826589595375723\n",
      "male honest score:  0.015343915343915344\n",
      "**********************************************************************\n",
      "Top_k: 15 language: en\n",
      "female honest score:  0.01348747591522158\n",
      "male honest score:  0.009876543209876543\n",
      "Percentages of hurtful words about female:  {'ddf': 0.0, 'pa': 0.0, 'asm': 0.1, 'cds': 0.9, 'qas': 0.0, 'asf': 0.0, 'om': 0.0, 'rci': 0.0, 'dmc': 0.0, 'is': 0.0, 'or': 0.0, 'ps': 0.0, 're': 0.0, 'svp': 0.0, 'ddp': 0.0, 'pr': 0.0, 'an': 0.0}\n",
      "Percentages of hurtful words about male:  {'ddf': 0.0, 'pa': 0.0, 'asm': 0.089, 'cds': 0.911, 'qas': 0.0, 'asf': 0.0, 'om': 0.0, 'rci': 0.0, 'dmc': 0.0, 'is': 0.0, 'or': 0.0, 'ps': 0.0, 're': 0.0, 'svp': 0.0, 'ddp': 0.0, 'pr': 0.0, 'an': 0.0}\n",
      "**********************************************************************\n"
     ]
    }
   ],
   "source": [
    "honest_score_df, cate_df = test_honest(tokenizer, model, lang,\n",
    "                                       k_range,if_mask,\n",
    "                                       honest_score_df, cate_df)"
   ]
  },
  {
   "cell_type": "markdown",
   "id": "9ecabde8-3181-44b0-9259-3c86ef29cbf6",
   "metadata": {},
   "source": [
    "### Summary_EN"
   ]
  },
  {
   "cell_type": "code",
   "execution_count": 115,
   "id": "6947f272-aede-4df6-b39f-39ce0d1be727",
   "metadata": {},
   "outputs": [
    {
     "data": {
      "text/plain": [
       "['BERT', 'RoBERTa', 'hateBERT', 'GPT2', 'xlnet']"
      ]
     },
     "execution_count": 115,
     "metadata": {},
     "output_type": "execute_result"
    }
   ],
   "source": [
    "models_name"
   ]
  },
  {
   "cell_type": "code",
   "execution_count": 118,
   "id": "0eb1940c-a066-4e18-82a9-d62f89058c55",
   "metadata": {},
   "outputs": [
    {
     "data": {
      "text/html": [
       "<div>\n",
       "<style scoped>\n",
       "    .dataframe tbody tr th:only-of-type {\n",
       "        vertical-align: middle;\n",
       "    }\n",
       "\n",
       "    .dataframe tbody tr th {\n",
       "        vertical-align: top;\n",
       "    }\n",
       "\n",
       "    .dataframe thead th {\n",
       "        text-align: right;\n",
       "    }\n",
       "</style>\n",
       "<table border=\"1\" class=\"dataframe\">\n",
       "  <thead>\n",
       "    <tr style=\"text-align: right;\">\n",
       "      <th></th>\n",
       "      <th>1_female</th>\n",
       "      <th>1_male</th>\n",
       "      <th>5_female</th>\n",
       "      <th>5_male</th>\n",
       "      <th>15_female</th>\n",
       "      <th>15_male</th>\n",
       "    </tr>\n",
       "  </thead>\n",
       "  <tbody>\n",
       "    <tr>\n",
       "      <th>BERT</th>\n",
       "      <td>0.017341</td>\n",
       "      <td>0.013228</td>\n",
       "      <td>0.032370</td>\n",
       "      <td>0.030159</td>\n",
       "      <td>0.042967</td>\n",
       "      <td>0.032981</td>\n",
       "    </tr>\n",
       "    <tr>\n",
       "      <th>RoBERTa</th>\n",
       "      <td>0.057803</td>\n",
       "      <td>0.013228</td>\n",
       "      <td>0.055491</td>\n",
       "      <td>0.049206</td>\n",
       "      <td>0.051252</td>\n",
       "      <td>0.046208</td>\n",
       "    </tr>\n",
       "    <tr>\n",
       "      <th>hateBERT</th>\n",
       "      <td>0.026012</td>\n",
       "      <td>0.037037</td>\n",
       "      <td>0.062428</td>\n",
       "      <td>0.060847</td>\n",
       "      <td>0.074952</td>\n",
       "      <td>0.061905</td>\n",
       "    </tr>\n",
       "    <tr>\n",
       "      <th>GPT2</th>\n",
       "      <td>0.040462</td>\n",
       "      <td>0.042328</td>\n",
       "      <td>0.034104</td>\n",
       "      <td>0.037037</td>\n",
       "      <td>0.044701</td>\n",
       "      <td>0.031217</td>\n",
       "    </tr>\n",
       "    <tr>\n",
       "      <th>xlnet</th>\n",
       "      <td>0.011561</td>\n",
       "      <td>0.013228</td>\n",
       "      <td>0.009827</td>\n",
       "      <td>0.015344</td>\n",
       "      <td>0.013487</td>\n",
       "      <td>0.009877</td>\n",
       "    </tr>\n",
       "  </tbody>\n",
       "</table>\n",
       "</div>"
      ],
      "text/plain": [
       "          1_female    1_male  5_female    5_male  15_female   15_male\n",
       "BERT      0.017341  0.013228  0.032370  0.030159   0.042967  0.032981\n",
       "RoBERTa   0.057803  0.013228  0.055491  0.049206   0.051252  0.046208\n",
       "hateBERT  0.026012  0.037037  0.062428  0.060847   0.074952  0.061905\n",
       "GPT2      0.040462  0.042328  0.034104  0.037037   0.044701  0.031217\n",
       "xlnet     0.011561  0.013228  0.009827  0.015344   0.013487  0.009877"
      ]
     },
     "execution_count": 118,
     "metadata": {},
     "output_type": "execute_result"
    }
   ],
   "source": [
    "honest_score_df.index = models_name\n",
    "honest_score_df"
   ]
  },
  {
   "cell_type": "code",
   "execution_count": 123,
   "id": "8663fc84-0bba-433d-8170-8ca93f4692ec",
   "metadata": {},
   "outputs": [
    {
     "data": {
      "text/html": [
       "<div>\n",
       "<style scoped>\n",
       "    .dataframe tbody tr th:only-of-type {\n",
       "        vertical-align: middle;\n",
       "    }\n",
       "\n",
       "    .dataframe tbody tr th {\n",
       "        vertical-align: top;\n",
       "    }\n",
       "\n",
       "    .dataframe thead th {\n",
       "        text-align: right;\n",
       "    }\n",
       "</style>\n",
       "<table border=\"1\" class=\"dataframe\">\n",
       "  <thead>\n",
       "    <tr style=\"text-align: right;\">\n",
       "      <th></th>\n",
       "      <th>ddf</th>\n",
       "      <th>pa</th>\n",
       "      <th>asm</th>\n",
       "      <th>cds</th>\n",
       "      <th>qas</th>\n",
       "      <th>asf</th>\n",
       "      <th>om</th>\n",
       "      <th>rci</th>\n",
       "      <th>dmc</th>\n",
       "      <th>is</th>\n",
       "      <th>or</th>\n",
       "      <th>ps</th>\n",
       "      <th>re</th>\n",
       "      <th>svp</th>\n",
       "      <th>ddp</th>\n",
       "      <th>pr</th>\n",
       "      <th>an</th>\n",
       "    </tr>\n",
       "  </thead>\n",
       "  <tbody>\n",
       "    <tr>\n",
       "      <th>BERT_female</th>\n",
       "      <td>0.000</td>\n",
       "      <td>0.031</td>\n",
       "      <td>0.117</td>\n",
       "      <td>0.224</td>\n",
       "      <td>0.040</td>\n",
       "      <td>0.009</td>\n",
       "      <td>0.000</td>\n",
       "      <td>0.0</td>\n",
       "      <td>0.045</td>\n",
       "      <td>0.004</td>\n",
       "      <td>0.094</td>\n",
       "      <td>0.0</td>\n",
       "      <td>0.000</td>\n",
       "      <td>0.031</td>\n",
       "      <td>0.000</td>\n",
       "      <td>0.323</td>\n",
       "      <td>0.081</td>\n",
       "    </tr>\n",
       "    <tr>\n",
       "      <th>BERT_male</th>\n",
       "      <td>0.000</td>\n",
       "      <td>0.064</td>\n",
       "      <td>0.134</td>\n",
       "      <td>0.262</td>\n",
       "      <td>0.064</td>\n",
       "      <td>0.037</td>\n",
       "      <td>0.021</td>\n",
       "      <td>0.0</td>\n",
       "      <td>0.128</td>\n",
       "      <td>0.005</td>\n",
       "      <td>0.005</td>\n",
       "      <td>0.0</td>\n",
       "      <td>0.011</td>\n",
       "      <td>0.037</td>\n",
       "      <td>0.021</td>\n",
       "      <td>0.091</td>\n",
       "      <td>0.118</td>\n",
       "    </tr>\n",
       "    <tr>\n",
       "      <th>RoBERTa_female</th>\n",
       "      <td>0.000</td>\n",
       "      <td>0.000</td>\n",
       "      <td>0.071</td>\n",
       "      <td>0.150</td>\n",
       "      <td>0.019</td>\n",
       "      <td>0.038</td>\n",
       "      <td>0.004</td>\n",
       "      <td>0.0</td>\n",
       "      <td>0.038</td>\n",
       "      <td>0.004</td>\n",
       "      <td>0.064</td>\n",
       "      <td>0.0</td>\n",
       "      <td>0.023</td>\n",
       "      <td>0.041</td>\n",
       "      <td>0.000</td>\n",
       "      <td>0.425</td>\n",
       "      <td>0.124</td>\n",
       "    </tr>\n",
       "    <tr>\n",
       "      <th>RoBERTa_male</th>\n",
       "      <td>0.034</td>\n",
       "      <td>0.008</td>\n",
       "      <td>0.080</td>\n",
       "      <td>0.359</td>\n",
       "      <td>0.103</td>\n",
       "      <td>0.031</td>\n",
       "      <td>0.034</td>\n",
       "      <td>0.0</td>\n",
       "      <td>0.115</td>\n",
       "      <td>0.000</td>\n",
       "      <td>0.008</td>\n",
       "      <td>0.0</td>\n",
       "      <td>0.011</td>\n",
       "      <td>0.034</td>\n",
       "      <td>0.015</td>\n",
       "      <td>0.084</td>\n",
       "      <td>0.084</td>\n",
       "    </tr>\n",
       "    <tr>\n",
       "      <th>hateBERT_female</th>\n",
       "      <td>0.041</td>\n",
       "      <td>0.000</td>\n",
       "      <td>0.139</td>\n",
       "      <td>0.129</td>\n",
       "      <td>0.039</td>\n",
       "      <td>0.015</td>\n",
       "      <td>0.000</td>\n",
       "      <td>0.0</td>\n",
       "      <td>0.144</td>\n",
       "      <td>0.062</td>\n",
       "      <td>0.044</td>\n",
       "      <td>0.0</td>\n",
       "      <td>0.044</td>\n",
       "      <td>0.005</td>\n",
       "      <td>0.062</td>\n",
       "      <td>0.180</td>\n",
       "      <td>0.098</td>\n",
       "    </tr>\n",
       "    <tr>\n",
       "      <th>hateBERT_male</th>\n",
       "      <td>0.009</td>\n",
       "      <td>0.000</td>\n",
       "      <td>0.214</td>\n",
       "      <td>0.145</td>\n",
       "      <td>0.057</td>\n",
       "      <td>0.006</td>\n",
       "      <td>0.000</td>\n",
       "      <td>0.0</td>\n",
       "      <td>0.160</td>\n",
       "      <td>0.040</td>\n",
       "      <td>0.028</td>\n",
       "      <td>0.0</td>\n",
       "      <td>0.028</td>\n",
       "      <td>0.014</td>\n",
       "      <td>0.094</td>\n",
       "      <td>0.088</td>\n",
       "      <td>0.117</td>\n",
       "    </tr>\n",
       "    <tr>\n",
       "      <th>GPT2_female</th>\n",
       "      <td>0.000</td>\n",
       "      <td>0.000</td>\n",
       "      <td>0.388</td>\n",
       "      <td>0.043</td>\n",
       "      <td>0.017</td>\n",
       "      <td>0.009</td>\n",
       "      <td>0.000</td>\n",
       "      <td>0.0</td>\n",
       "      <td>0.047</td>\n",
       "      <td>0.009</td>\n",
       "      <td>0.022</td>\n",
       "      <td>0.0</td>\n",
       "      <td>0.009</td>\n",
       "      <td>0.013</td>\n",
       "      <td>0.026</td>\n",
       "      <td>0.392</td>\n",
       "      <td>0.026</td>\n",
       "    </tr>\n",
       "    <tr>\n",
       "      <th>GPT2_male</th>\n",
       "      <td>0.000</td>\n",
       "      <td>0.006</td>\n",
       "      <td>0.463</td>\n",
       "      <td>0.136</td>\n",
       "      <td>0.034</td>\n",
       "      <td>0.017</td>\n",
       "      <td>0.006</td>\n",
       "      <td>0.0</td>\n",
       "      <td>0.056</td>\n",
       "      <td>0.028</td>\n",
       "      <td>0.011</td>\n",
       "      <td>0.0</td>\n",
       "      <td>0.017</td>\n",
       "      <td>0.000</td>\n",
       "      <td>0.011</td>\n",
       "      <td>0.198</td>\n",
       "      <td>0.017</td>\n",
       "    </tr>\n",
       "    <tr>\n",
       "      <th>xlnet_female</th>\n",
       "      <td>0.000</td>\n",
       "      <td>0.000</td>\n",
       "      <td>0.100</td>\n",
       "      <td>0.900</td>\n",
       "      <td>0.000</td>\n",
       "      <td>0.000</td>\n",
       "      <td>0.000</td>\n",
       "      <td>0.0</td>\n",
       "      <td>0.000</td>\n",
       "      <td>0.000</td>\n",
       "      <td>0.000</td>\n",
       "      <td>0.0</td>\n",
       "      <td>0.000</td>\n",
       "      <td>0.000</td>\n",
       "      <td>0.000</td>\n",
       "      <td>0.000</td>\n",
       "      <td>0.000</td>\n",
       "    </tr>\n",
       "    <tr>\n",
       "      <th>xlnet_male</th>\n",
       "      <td>0.000</td>\n",
       "      <td>0.000</td>\n",
       "      <td>0.089</td>\n",
       "      <td>0.911</td>\n",
       "      <td>0.000</td>\n",
       "      <td>0.000</td>\n",
       "      <td>0.000</td>\n",
       "      <td>0.0</td>\n",
       "      <td>0.000</td>\n",
       "      <td>0.000</td>\n",
       "      <td>0.000</td>\n",
       "      <td>0.0</td>\n",
       "      <td>0.000</td>\n",
       "      <td>0.000</td>\n",
       "      <td>0.000</td>\n",
       "      <td>0.000</td>\n",
       "      <td>0.000</td>\n",
       "    </tr>\n",
       "  </tbody>\n",
       "</table>\n",
       "</div>"
      ],
      "text/plain": [
       "                   ddf     pa    asm    cds    qas    asf     om  rci    dmc  \\\n",
       "BERT_female      0.000  0.031  0.117  0.224  0.040  0.009  0.000  0.0  0.045   \n",
       "BERT_male        0.000  0.064  0.134  0.262  0.064  0.037  0.021  0.0  0.128   \n",
       "RoBERTa_female   0.000  0.000  0.071  0.150  0.019  0.038  0.004  0.0  0.038   \n",
       "RoBERTa_male     0.034  0.008  0.080  0.359  0.103  0.031  0.034  0.0  0.115   \n",
       "hateBERT_female  0.041  0.000  0.139  0.129  0.039  0.015  0.000  0.0  0.144   \n",
       "hateBERT_male    0.009  0.000  0.214  0.145  0.057  0.006  0.000  0.0  0.160   \n",
       "GPT2_female      0.000  0.000  0.388  0.043  0.017  0.009  0.000  0.0  0.047   \n",
       "GPT2_male        0.000  0.006  0.463  0.136  0.034  0.017  0.006  0.0  0.056   \n",
       "xlnet_female     0.000  0.000  0.100  0.900  0.000  0.000  0.000  0.0  0.000   \n",
       "xlnet_male       0.000  0.000  0.089  0.911  0.000  0.000  0.000  0.0  0.000   \n",
       "\n",
       "                    is     or   ps     re    svp    ddp     pr     an  \n",
       "BERT_female      0.004  0.094  0.0  0.000  0.031  0.000  0.323  0.081  \n",
       "BERT_male        0.005  0.005  0.0  0.011  0.037  0.021  0.091  0.118  \n",
       "RoBERTa_female   0.004  0.064  0.0  0.023  0.041  0.000  0.425  0.124  \n",
       "RoBERTa_male     0.000  0.008  0.0  0.011  0.034  0.015  0.084  0.084  \n",
       "hateBERT_female  0.062  0.044  0.0  0.044  0.005  0.062  0.180  0.098  \n",
       "hateBERT_male    0.040  0.028  0.0  0.028  0.014  0.094  0.088  0.117  \n",
       "GPT2_female      0.009  0.022  0.0  0.009  0.013  0.026  0.392  0.026  \n",
       "GPT2_male        0.028  0.011  0.0  0.017  0.000  0.011  0.198  0.017  \n",
       "xlnet_female     0.000  0.000  0.0  0.000  0.000  0.000  0.000  0.000  \n",
       "xlnet_male       0.000  0.000  0.0  0.000  0.000  0.000  0.000  0.000  "
      ]
     },
     "execution_count": 123,
     "metadata": {},
     "output_type": "execute_result"
    }
   ],
   "source": [
    "cate_df.index = [model_name + \"_\" + g for model_name in models_name for g in [\"female\",\"male\"]]\n",
    "cate_df"
   ]
  },
  {
   "cell_type": "code",
   "execution_count": 130,
   "id": "4901f000-9d56-42ce-ae13-4c9976bb7bc1",
   "metadata": {},
   "outputs": [
    {
     "name": "stdout",
     "output_type": "stream",
     "text": [
      "Finished!\n"
     ]
    }
   ],
   "source": [
    "# save test results\n",
    "save_data(lang, honest_score_df, cate_df)"
   ]
  },
  {
   "cell_type": "markdown",
   "id": "c36a7b61-dabc-49f1-b650-30fb2f90cdbf",
   "metadata": {},
   "source": [
    "# 2. Chinese"
   ]
  },
  {
   "cell_type": "code",
   "execution_count": 42,
   "id": "b9fb039a-f839-450e-a0a4-f1a660509c9c",
   "metadata": {},
   "outputs": [],
   "source": [
    "lang = 'zh'\n",
    "honest_score_df = pd.DataFrame(columns = columns_names_scores)\n",
    "# creat a dataframe to save percentages of hurtful words for each category\n",
    "cate_df = pd.DataFrame()\n",
    "models_name = []"
   ]
  },
  {
   "cell_type": "markdown",
   "id": "aaa6fadd-157b-417d-89a5-c3340f6e03b8",
   "metadata": {},
   "source": [
    "#### BERT_ZH"
   ]
  },
  {
   "cell_type": "code",
   "execution_count": 43,
   "id": "274133db-bbc3-44aa-978a-208472e16de7",
   "metadata": {},
   "outputs": [
    {
     "name": "stderr",
     "output_type": "stream",
     "text": [
      "Some weights of the model checkpoint at bert-base-chinese were not used when initializing BertForMaskedLM: ['cls.seq_relationship.bias', 'cls.seq_relationship.weight']\n",
      "- This IS expected if you are initializing BertForMaskedLM from the checkpoint of a model trained on another task or with another architecture (e.g. initializing a BertForSequenceClassification model from a BertForPreTraining model).\n",
      "- This IS NOT expected if you are initializing BertForMaskedLM from the checkpoint of a model that you expect to be exactly identical (initializing a BertForSequenceClassification model from a BertForSequenceClassification model).\n"
     ]
    }
   ],
   "source": [
    "# import the model and tokenizer \n",
    "tokenizer = AutoTokenizer.from_pretrained(\"bert-base-chinese\")\n",
    "model = AutoModelForMaskedLM.from_pretrained(\"bert-base-chinese\")\n",
    "models_name.append(\"BERT_zh\")\n",
    "# set parameters for this model\n",
    "if_mask = True"
   ]
  },
  {
   "cell_type": "code",
   "execution_count": 44,
   "id": "e58e7734-9b20-48a5-95ed-071e02c7374e",
   "metadata": {},
   "outputs": [
    {
     "name": "stdout",
     "output_type": "stream",
     "text": [
      "Top_k: 1 language: zh\n",
      "female honest score:  0.002702702702702703\n",
      "male honest score:  0.013227513227513227\n",
      "**********************************************************************\n",
      "Top_k: 5 language: zh\n",
      "female honest score:  0.05891891891891892\n",
      "male honest score:  0.0582010582010582\n",
      "**********************************************************************\n",
      "Top_k: 15 language: zh\n",
      "female honest score:  0.09333333333333334\n",
      "male honest score:  0.0781305114638448\n",
      "Percentages of hurtful words about female:  {'re': 0.0, 'pa': 0.0, 'qas': 0.0, 'cds': 0.259, 'ddf': 0.064, 'asf': 0.069, 'ddp': 0.019, 'an': 0.033, 'ps': 0.0, 'asm': 0.002, 'svp': 0.002, 'is': 0.0, 'om': 0.114, 'pr': 0.0, 'dmc': 0.363, 'or': 0.075, 'rci': 0.0}\n",
      "Percentages of hurtful words about male:  {'re': 0.0, 'pa': 0.0, 'qas': 0.0, 'cds': 0.275, 'ddf': 0.086, 'asf': 0.074, 'ddp': 0.0, 'an': 0.034, 'ps': 0.0, 'asm': 0.009, 'svp': 0.0, 'is': 0.0, 'om': 0.056, 'pr': 0.0, 'dmc': 0.296, 'or': 0.169, 'rci': 0.0}\n",
      "**********************************************************************\n"
     ]
    }
   ],
   "source": [
    "honest_score_df, cate_df = test_honest(tokenizer, model, lang,\n",
    "                                       k_range,if_mask,\n",
    "                                       honest_score_df, cate_df)"
   ]
  },
  {
   "cell_type": "markdown",
   "id": "d516914c-ae5a-4a3f-9f45-c04939a6fbce",
   "metadata": {},
   "source": [
    "#### Chinese ELECTRA"
   ]
  },
  {
   "cell_type": "code",
   "execution_count": 45,
   "id": "140c55ce-c5c8-49a4-b0b4-eb7d1b4a5d49",
   "metadata": {},
   "outputs": [],
   "source": [
    "# import the model and tokenizer \n",
    "tokenizer = AutoTokenizer.from_pretrained(\"hfl/chinese-electra-180g-small-ex-generator\")\n",
    "model = AutoModelForMaskedLM.from_pretrained(\"hfl/chinese-electra-180g-small-ex-generator\")\n",
    "models_name.append(\"BERT_zh\")\n",
    "# set parameters for this model\n",
    "if_mask = True"
   ]
  },
  {
   "cell_type": "code",
   "execution_count": 46,
   "id": "017c8252-09f6-433d-afc4-adc24fc9d9c5",
   "metadata": {},
   "outputs": [
    {
     "name": "stdout",
     "output_type": "stream",
     "text": [
      "Top_k: 1 language: zh\n",
      "female honest score:  0.02702702702702703\n",
      "male honest score:  0.0291005291005291\n",
      "**********************************************************************\n",
      "Top_k: 5 language: zh\n",
      "female honest score:  0.043243243243243246\n",
      "male honest score:  0.043915343915343914\n",
      "**********************************************************************\n",
      "Top_k: 15 language: zh\n",
      "female honest score:  0.05387387387387387\n",
      "male honest score:  0.04285714285714286\n",
      "Percentages of hurtful words about female:  {'re': 0.0, 'pa': 0.0, 'qas': 0.0, 'cds': 0.405, 'ddf': 0.177, 'asf': 0.0, 'ddp': 0.0, 'an': 0.074, 'ps': 0.0, 'asm': 0.017, 'svp': 0.097, 'is': 0.0, 'om': 0.0, 'pr': 0.0, 'dmc': 0.224, 'or': 0.007, 'rci': 0.0}\n",
      "Percentages of hurtful words about male:  {'re': 0.0, 'pa': 0.0, 'qas': 0.0, 'cds': 0.412, 'ddf': 0.206, 'asf': 0.004, 'ddp': 0.0, 'an': 0.058, 'ps': 0.0, 'asm': 0.012, 'svp': 0.099, 'is': 0.0, 'om': 0.0, 'pr': 0.0, 'dmc': 0.156, 'or': 0.053, 'rci': 0.0}\n",
      "**********************************************************************\n"
     ]
    }
   ],
   "source": [
    "honest_score_df, cate_df = test_honest(tokenizer, model, lang,\n",
    "                                       k_range,if_mask,\n",
    "                                       honest_score_df, cate_df)"
   ]
  },
  {
   "cell_type": "markdown",
   "id": "5094e8a6-c39a-414a-a560-e9a05234fe1d",
   "metadata": {},
   "source": [
    "#### Chinese-xlnet"
   ]
  },
  {
   "cell_type": "code",
   "execution_count": 47,
   "id": "83e927b0-cb5c-4434-a34e-50a058e9cdb6",
   "metadata": {},
   "outputs": [],
   "source": [
    "# import the model and tokenizer \n",
    "tokenizer = AutoTokenizer.from_pretrained('xlnet-base-cased')\n",
    "model = AutoModelForCausalLM.from_pretrained('xlnet-base-cased')\n",
    "models_name.append(\"xlnet_zh\")\n",
    "# set parameters for this model\n",
    "if_mask = False"
   ]
  },
  {
   "cell_type": "code",
   "execution_count": 48,
   "id": "fc6e6e7f-7afa-46e5-a075-48a8af1fa1b8",
   "metadata": {},
   "outputs": [
    {
     "name": "stdout",
     "output_type": "stream",
     "text": [
      "Top_k: 1 language: zh\n",
      "female honest score:  0.0\n",
      "male honest score:  0.0\n",
      "**********************************************************************\n",
      "Top_k: 5 language: zh\n",
      "female honest score:  0.0\n",
      "male honest score:  0.0\n",
      "**********************************************************************\n",
      "Top_k: 15 language: zh\n",
      "female honest score:  0.0\n",
      "male honest score:  0.0\n",
      "Percentages of hurtful words about female:  {'re': nan, 'pa': nan, 'qas': nan, 'cds': nan, 'ddf': nan, 'asf': nan, 'ddp': nan, 'an': nan, 'ps': nan, 'asm': nan, 'svp': nan, 'is': nan, 'om': nan, 'pr': nan, 'dmc': nan, 'or': nan, 'rci': nan}\n",
      "Percentages of hurtful words about male:  {'re': nan, 'pa': nan, 'qas': nan, 'cds': nan, 'ddf': nan, 'asf': nan, 'ddp': nan, 'an': nan, 'ps': nan, 'asm': nan, 'svp': nan, 'is': nan, 'om': nan, 'pr': nan, 'dmc': nan, 'or': nan, 'rci': nan}\n",
      "**********************************************************************\n"
     ]
    }
   ],
   "source": [
    "honest_score_df, cate_df = test_honest(tokenizer, model, lang,\n",
    "                                       k_range,if_mask,\n",
    "                                       honest_score_df, cate_df)"
   ]
  },
  {
   "cell_type": "markdown",
   "id": "c29ee2bf-55f1-4ce9-a9fa-ddad52d4dd9a",
   "metadata": {},
   "source": [
    "#### traditional Chinese GPT2"
   ]
  },
  {
   "cell_type": "code",
   "execution_count": null,
   "id": "a8c0106f-05c4-4451-ab9d-70d59415c203",
   "metadata": {},
   "outputs": [],
   "source": [
    "# import the model and tokenizer \n",
    "tokenizer = AutoTokenizer.from_pretrained('ckiplab/gpt2-base-chinese')\n",
    "model = AutoModelForCausalLM.from_pretrained('ckiplab/gpt2-base-chinese')\n",
    "models_name.append(\"gpt2_zh\")\n",
    "# set parameters for this model\n",
    "if_mask = False"
   ]
  },
  {
   "cell_type": "code",
   "execution_count": null,
   "id": "5e0583e7-d75e-4608-aa74-79bc6d46c218",
   "metadata": {},
   "outputs": [],
   "source": [
    "honest_score_df, cate_df = test_honest(tokenizer, model, lang,\n",
    "                                       k_range,if_mask,\n",
    "                                       honest_score_df, cate_df)"
   ]
  },
  {
   "cell_type": "markdown",
   "id": "8a80e0b2-0a6c-4bfa-af1d-9b81391e6c20",
   "metadata": {},
   "source": [
    "### Summary_zh"
   ]
  },
  {
   "cell_type": "code",
   "execution_count": 52,
   "id": "1b7e9f74-64c4-4788-8660-0ef9129ab6d1",
   "metadata": {},
   "outputs": [
    {
     "data": {
      "text/plain": [
       "['BERT_zh', 'BERT_zh', 'xlnet_zh', 'gpt2_zh']"
      ]
     },
     "execution_count": 52,
     "metadata": {},
     "output_type": "execute_result"
    }
   ],
   "source": [
    "models_name"
   ]
  },
  {
   "cell_type": "code",
   "execution_count": 53,
   "id": "05c71352-78ad-443c-873c-b1881dceade1",
   "metadata": {},
   "outputs": [
    {
     "data": {
      "text/html": [
       "<div>\n",
       "<style scoped>\n",
       "    .dataframe tbody tr th:only-of-type {\n",
       "        vertical-align: middle;\n",
       "    }\n",
       "\n",
       "    .dataframe tbody tr th {\n",
       "        vertical-align: top;\n",
       "    }\n",
       "\n",
       "    .dataframe thead th {\n",
       "        text-align: right;\n",
       "    }\n",
       "</style>\n",
       "<table border=\"1\" class=\"dataframe\">\n",
       "  <thead>\n",
       "    <tr style=\"text-align: right;\">\n",
       "      <th></th>\n",
       "      <th>1_female</th>\n",
       "      <th>1_male</th>\n",
       "      <th>5_female</th>\n",
       "      <th>5_male</th>\n",
       "      <th>15_female</th>\n",
       "      <th>15_male</th>\n",
       "    </tr>\n",
       "  </thead>\n",
       "  <tbody>\n",
       "    <tr>\n",
       "      <th>BERT_zh</th>\n",
       "      <td>0.002703</td>\n",
       "      <td>0.013228</td>\n",
       "      <td>0.058919</td>\n",
       "      <td>0.058201</td>\n",
       "      <td>0.093333</td>\n",
       "      <td>0.078131</td>\n",
       "    </tr>\n",
       "    <tr>\n",
       "      <th>BERT_zh</th>\n",
       "      <td>0.027027</td>\n",
       "      <td>0.029101</td>\n",
       "      <td>0.043243</td>\n",
       "      <td>0.043915</td>\n",
       "      <td>0.053874</td>\n",
       "      <td>0.042857</td>\n",
       "    </tr>\n",
       "    <tr>\n",
       "      <th>xlnet_zh</th>\n",
       "      <td>0.000000</td>\n",
       "      <td>0.000000</td>\n",
       "      <td>0.000000</td>\n",
       "      <td>0.000000</td>\n",
       "      <td>0.000000</td>\n",
       "      <td>0.000000</td>\n",
       "    </tr>\n",
       "    <tr>\n",
       "      <th>gpt2_zh</th>\n",
       "      <td>0.054054</td>\n",
       "      <td>0.055556</td>\n",
       "      <td>0.048108</td>\n",
       "      <td>0.053439</td>\n",
       "      <td>0.053514</td>\n",
       "      <td>0.056437</td>\n",
       "    </tr>\n",
       "  </tbody>\n",
       "</table>\n",
       "</div>"
      ],
      "text/plain": [
       "          1_female    1_male  5_female    5_male  15_female   15_male\n",
       "BERT_zh   0.002703  0.013228  0.058919  0.058201   0.093333  0.078131\n",
       "BERT_zh   0.027027  0.029101  0.043243  0.043915   0.053874  0.042857\n",
       "xlnet_zh  0.000000  0.000000  0.000000  0.000000   0.000000  0.000000\n",
       "gpt2_zh   0.054054  0.055556  0.048108  0.053439   0.053514  0.056437"
      ]
     },
     "execution_count": 53,
     "metadata": {},
     "output_type": "execute_result"
    }
   ],
   "source": [
    "honest_score_df.index = models_name\n",
    "honest_score_df"
   ]
  },
  {
   "cell_type": "code",
   "execution_count": 54,
   "id": "cbdfa22d-9034-445b-a822-9599f697decc",
   "metadata": {},
   "outputs": [
    {
     "data": {
      "text/html": [
       "<div>\n",
       "<style scoped>\n",
       "    .dataframe tbody tr th:only-of-type {\n",
       "        vertical-align: middle;\n",
       "    }\n",
       "\n",
       "    .dataframe tbody tr th {\n",
       "        vertical-align: top;\n",
       "    }\n",
       "\n",
       "    .dataframe thead th {\n",
       "        text-align: right;\n",
       "    }\n",
       "</style>\n",
       "<table border=\"1\" class=\"dataframe\">\n",
       "  <thead>\n",
       "    <tr style=\"text-align: right;\">\n",
       "      <th></th>\n",
       "      <th>re</th>\n",
       "      <th>pa</th>\n",
       "      <th>qas</th>\n",
       "      <th>cds</th>\n",
       "      <th>ddf</th>\n",
       "      <th>asf</th>\n",
       "      <th>ddp</th>\n",
       "      <th>an</th>\n",
       "      <th>ps</th>\n",
       "      <th>asm</th>\n",
       "      <th>svp</th>\n",
       "      <th>is</th>\n",
       "      <th>om</th>\n",
       "      <th>pr</th>\n",
       "      <th>dmc</th>\n",
       "      <th>or</th>\n",
       "      <th>rci</th>\n",
       "    </tr>\n",
       "  </thead>\n",
       "  <tbody>\n",
       "    <tr>\n",
       "      <th>BERT_zh_female</th>\n",
       "      <td>0.0</td>\n",
       "      <td>0.0</td>\n",
       "      <td>0.000</td>\n",
       "      <td>0.259</td>\n",
       "      <td>0.064</td>\n",
       "      <td>0.069</td>\n",
       "      <td>0.019</td>\n",
       "      <td>0.033</td>\n",
       "      <td>0.000</td>\n",
       "      <td>0.002</td>\n",
       "      <td>0.002</td>\n",
       "      <td>0.0</td>\n",
       "      <td>0.114</td>\n",
       "      <td>0.0</td>\n",
       "      <td>0.363</td>\n",
       "      <td>0.075</td>\n",
       "      <td>0.0</td>\n",
       "    </tr>\n",
       "    <tr>\n",
       "      <th>BERT_zh_male</th>\n",
       "      <td>0.0</td>\n",
       "      <td>0.0</td>\n",
       "      <td>0.000</td>\n",
       "      <td>0.275</td>\n",
       "      <td>0.086</td>\n",
       "      <td>0.074</td>\n",
       "      <td>0.000</td>\n",
       "      <td>0.034</td>\n",
       "      <td>0.000</td>\n",
       "      <td>0.009</td>\n",
       "      <td>0.000</td>\n",
       "      <td>0.0</td>\n",
       "      <td>0.056</td>\n",
       "      <td>0.0</td>\n",
       "      <td>0.296</td>\n",
       "      <td>0.169</td>\n",
       "      <td>0.0</td>\n",
       "    </tr>\n",
       "    <tr>\n",
       "      <th>BERT_zh_female</th>\n",
       "      <td>0.0</td>\n",
       "      <td>0.0</td>\n",
       "      <td>0.000</td>\n",
       "      <td>0.405</td>\n",
       "      <td>0.177</td>\n",
       "      <td>0.000</td>\n",
       "      <td>0.000</td>\n",
       "      <td>0.074</td>\n",
       "      <td>0.000</td>\n",
       "      <td>0.017</td>\n",
       "      <td>0.097</td>\n",
       "      <td>0.0</td>\n",
       "      <td>0.000</td>\n",
       "      <td>0.0</td>\n",
       "      <td>0.224</td>\n",
       "      <td>0.007</td>\n",
       "      <td>0.0</td>\n",
       "    </tr>\n",
       "    <tr>\n",
       "      <th>BERT_zh_male</th>\n",
       "      <td>0.0</td>\n",
       "      <td>0.0</td>\n",
       "      <td>0.000</td>\n",
       "      <td>0.412</td>\n",
       "      <td>0.206</td>\n",
       "      <td>0.004</td>\n",
       "      <td>0.000</td>\n",
       "      <td>0.058</td>\n",
       "      <td>0.000</td>\n",
       "      <td>0.012</td>\n",
       "      <td>0.099</td>\n",
       "      <td>0.0</td>\n",
       "      <td>0.000</td>\n",
       "      <td>0.0</td>\n",
       "      <td>0.156</td>\n",
       "      <td>0.053</td>\n",
       "      <td>0.0</td>\n",
       "    </tr>\n",
       "    <tr>\n",
       "      <th>xlnet_zh_female</th>\n",
       "      <td>NaN</td>\n",
       "      <td>NaN</td>\n",
       "      <td>NaN</td>\n",
       "      <td>NaN</td>\n",
       "      <td>NaN</td>\n",
       "      <td>NaN</td>\n",
       "      <td>NaN</td>\n",
       "      <td>NaN</td>\n",
       "      <td>NaN</td>\n",
       "      <td>NaN</td>\n",
       "      <td>NaN</td>\n",
       "      <td>NaN</td>\n",
       "      <td>NaN</td>\n",
       "      <td>NaN</td>\n",
       "      <td>NaN</td>\n",
       "      <td>NaN</td>\n",
       "      <td>NaN</td>\n",
       "    </tr>\n",
       "    <tr>\n",
       "      <th>xlnet_zh_male</th>\n",
       "      <td>NaN</td>\n",
       "      <td>NaN</td>\n",
       "      <td>NaN</td>\n",
       "      <td>NaN</td>\n",
       "      <td>NaN</td>\n",
       "      <td>NaN</td>\n",
       "      <td>NaN</td>\n",
       "      <td>NaN</td>\n",
       "      <td>NaN</td>\n",
       "      <td>NaN</td>\n",
       "      <td>NaN</td>\n",
       "      <td>NaN</td>\n",
       "      <td>NaN</td>\n",
       "      <td>NaN</td>\n",
       "      <td>NaN</td>\n",
       "      <td>NaN</td>\n",
       "      <td>NaN</td>\n",
       "    </tr>\n",
       "    <tr>\n",
       "      <th>gpt2_zh_female</th>\n",
       "      <td>0.0</td>\n",
       "      <td>0.0</td>\n",
       "      <td>0.007</td>\n",
       "      <td>0.051</td>\n",
       "      <td>0.000</td>\n",
       "      <td>0.108</td>\n",
       "      <td>0.104</td>\n",
       "      <td>0.000</td>\n",
       "      <td>0.024</td>\n",
       "      <td>0.030</td>\n",
       "      <td>0.189</td>\n",
       "      <td>0.0</td>\n",
       "      <td>0.000</td>\n",
       "      <td>0.0</td>\n",
       "      <td>0.488</td>\n",
       "      <td>0.000</td>\n",
       "      <td>0.0</td>\n",
       "    </tr>\n",
       "    <tr>\n",
       "      <th>gpt2_zh_male</th>\n",
       "      <td>0.0</td>\n",
       "      <td>0.0</td>\n",
       "      <td>0.003</td>\n",
       "      <td>0.072</td>\n",
       "      <td>0.000</td>\n",
       "      <td>0.059</td>\n",
       "      <td>0.147</td>\n",
       "      <td>0.000</td>\n",
       "      <td>0.022</td>\n",
       "      <td>0.050</td>\n",
       "      <td>0.172</td>\n",
       "      <td>0.0</td>\n",
       "      <td>0.000</td>\n",
       "      <td>0.0</td>\n",
       "      <td>0.475</td>\n",
       "      <td>0.000</td>\n",
       "      <td>0.0</td>\n",
       "    </tr>\n",
       "  </tbody>\n",
       "</table>\n",
       "</div>"
      ],
      "text/plain": [
       "                  re   pa    qas    cds    ddf    asf    ddp     an     ps  \\\n",
       "BERT_zh_female   0.0  0.0  0.000  0.259  0.064  0.069  0.019  0.033  0.000   \n",
       "BERT_zh_male     0.0  0.0  0.000  0.275  0.086  0.074  0.000  0.034  0.000   \n",
       "BERT_zh_female   0.0  0.0  0.000  0.405  0.177  0.000  0.000  0.074  0.000   \n",
       "BERT_zh_male     0.0  0.0  0.000  0.412  0.206  0.004  0.000  0.058  0.000   \n",
       "xlnet_zh_female  NaN  NaN    NaN    NaN    NaN    NaN    NaN    NaN    NaN   \n",
       "xlnet_zh_male    NaN  NaN    NaN    NaN    NaN    NaN    NaN    NaN    NaN   \n",
       "gpt2_zh_female   0.0  0.0  0.007  0.051  0.000  0.108  0.104  0.000  0.024   \n",
       "gpt2_zh_male     0.0  0.0  0.003  0.072  0.000  0.059  0.147  0.000  0.022   \n",
       "\n",
       "                   asm    svp   is     om   pr    dmc     or  rci  \n",
       "BERT_zh_female   0.002  0.002  0.0  0.114  0.0  0.363  0.075  0.0  \n",
       "BERT_zh_male     0.009  0.000  0.0  0.056  0.0  0.296  0.169  0.0  \n",
       "BERT_zh_female   0.017  0.097  0.0  0.000  0.0  0.224  0.007  0.0  \n",
       "BERT_zh_male     0.012  0.099  0.0  0.000  0.0  0.156  0.053  0.0  \n",
       "xlnet_zh_female    NaN    NaN  NaN    NaN  NaN    NaN    NaN  NaN  \n",
       "xlnet_zh_male      NaN    NaN  NaN    NaN  NaN    NaN    NaN  NaN  \n",
       "gpt2_zh_female   0.030  0.189  0.0  0.000  0.0  0.488  0.000  0.0  \n",
       "gpt2_zh_male     0.050  0.172  0.0  0.000  0.0  0.475  0.000  0.0  "
      ]
     },
     "execution_count": 54,
     "metadata": {},
     "output_type": "execute_result"
    }
   ],
   "source": [
    "cate_df.index = [model_name + \"_\" + g for model_name in models_name for g in [\"female\",\"male\"]]\n",
    "cate_df"
   ]
  },
  {
   "cell_type": "code",
   "execution_count": 55,
   "id": "0e3e998c-8795-43f8-84da-2c17e551e50b",
   "metadata": {},
   "outputs": [
    {
     "name": "stdout",
     "output_type": "stream",
     "text": [
      "Finished!\n"
     ]
    }
   ],
   "source": [
    "# save test results\n",
    "save_data(lang, honest_score_df, cate_df)"
   ]
  },
  {
   "cell_type": "markdown",
   "id": "a46b233c-a75b-4a4c-8577-39345f8b2ef5",
   "metadata": {},
   "source": [
    "# 3. French"
   ]
  },
  {
   "cell_type": "code",
   "execution_count": 133,
   "id": "6bd95110-4a81-40db-86bd-c202bf83ed98",
   "metadata": {},
   "outputs": [],
   "source": [
    "lang = 'fr'\n",
    "honest_score_df = pd.DataFrame(columns = columns_names_scores)\n",
    "# creat a dataframe to save percentages of hurtful words for each category\n",
    "cate_df = pd.DataFrame()\n",
    "models_name = []"
   ]
  },
  {
   "cell_type": "markdown",
   "id": "fb9f4122-1b9d-44b9-8d5b-003c63e9475f",
   "metadata": {},
   "source": [
    "#### CamemBERT"
   ]
  },
  {
   "cell_type": "code",
   "execution_count": null,
   "id": "8fb76dd0-77a1-44c5-a4fb-481876de0925",
   "metadata": {},
   "outputs": [],
   "source": [
    "# import the model and tokenizer \n",
    "tokenizer = AutoTokenizer.from_pretrained(\"camembert-base\")\n",
    "model = AutoModelForMaskedLM.from_pretrained(\"camembert-base\")\n",
    "models_name.append(\"CamemBERT\")\n",
    "# set parameters for this model\n",
    "if_mask = True"
   ]
  },
  {
   "cell_type": "code",
   "execution_count": 135,
   "id": "26dc9285-c8be-4ea9-9d05-7539bcd0d227",
   "metadata": {},
   "outputs": [
    {
     "name": "stdout",
     "output_type": "stream",
     "text": [
      "Top_k: 1 language: fr\n",
      "female honest score:  0.19796954314720813\n",
      "male honest score:  0.1794871794871795\n",
      "**********************************************************************\n",
      "Top_k: 5 language: fr\n",
      "female honest score:  0.10101522842639594\n",
      "male honest score:  0.09384615384615384\n",
      "**********************************************************************\n",
      "Top_k: 15 language: fr\n",
      "female honest score:  0.07021996615905245\n",
      "male honest score:  0.07487179487179488\n",
      "Percentages of hurtful words about female:  {'ddf': 0.002, 'pa': 0.0, 'cds': 0.214, 'asm': 0.241, 'qas': 0.002, 'asf': 0.002, 'om': 0.0, 'rci': 0.0, 'dmc': 0.019, 'is': 0.0, 'or': 0.048, 'ps': 0.0, 're': 0.022, 'svp': 0.0, 'ddp': 0.002, 'pr': 0.441, 'an': 0.005}\n",
      "Percentages of hurtful words about male:  {'ddf': 0.0, 'pa': 0.005, 'cds': 0.397, 'asm': 0.176, 'qas': 0.002, 'asf': 0.009, 'om': 0.023, 'rci': 0.0, 'dmc': 0.091, 'is': 0.0, 'or': 0.078, 'ps': 0.0, 're': 0.089, 'svp': 0.043, 'ddp': 0.007, 'pr': 0.048, 'an': 0.032}\n",
      "**********************************************************************\n"
     ]
    }
   ],
   "source": [
    "honest_score_df, cate_df = test_honest(tokenizer, model, lang,\n",
    "                                       k_range,if_mask,\n",
    "                                       honest_score_df, cate_df)"
   ]
  },
  {
   "cell_type": "markdown",
   "id": "320e32fe-541b-42ee-a4da-4e486ca27552",
   "metadata": {},
   "source": [
    "#### CamemBERT trained in Wikipedia"
   ]
  },
  {
   "cell_type": "code",
   "execution_count": null,
   "id": "767ccffe-ecb3-4e0c-a597-66a1004e7ca8",
   "metadata": {},
   "outputs": [],
   "source": [
    "# import the model and tokenizer \n",
    "tokenizer = AutoTokenizer.from_pretrained(\"camembert-base\")\n",
    "model = AutoModelForMaskedLM.from_pretrained(\"camembert/camembert-base-wikipedia-4gb\")\n",
    "models_name.append(\"CamemBERT_Wiki\")\n",
    "# set parameters for this model\n",
    "if_mask = True"
   ]
  },
  {
   "cell_type": "code",
   "execution_count": 138,
   "id": "a810a870-a665-4ec6-a06b-08ffc9613d77",
   "metadata": {},
   "outputs": [
    {
     "name": "stdout",
     "output_type": "stream",
     "text": [
      "Top_k: 1 language: fr\n",
      "female honest score:  0.012690355329949238\n",
      "male honest score:  0.01282051282051282\n",
      "**********************************************************************\n",
      "Top_k: 5 language: fr\n",
      "female honest score:  0.04568527918781726\n",
      "male honest score:  0.03435897435897436\n",
      "**********************************************************************\n",
      "Top_k: 15 language: fr\n",
      "female honest score:  0.033164128595600674\n",
      "male honest score:  0.033504273504273506\n",
      "Percentages of hurtful words about female:  {'ddf': 0.0, 'pa': 0.0, 'cds': 0.128, 'asm': 0.036, 'qas': 0.041, 'asf': 0.01, 'om': 0.005, 'rci': 0.0, 'dmc': 0.051, 'is': 0.0, 'or': 0.684, 'ps': 0.0, 're': 0.005, 'svp': 0.02, 'ddp': 0.01, 'pr': 0.01, 'an': 0.0}\n",
      "Percentages of hurtful words about male:  {'ddf': 0.0, 'pa': 0.0, 'cds': 0.158, 'asm': 0.061, 'qas': 0.01, 'asf': 0.01, 'om': 0.0, 'rci': 0.0, 'dmc': 0.02, 'is': 0.0, 'or': 0.673, 'ps': 0.0, 're': 0.015, 'svp': 0.051, 'ddp': 0.0, 'pr': 0.0, 'an': 0.0}\n",
      "**********************************************************************\n"
     ]
    }
   ],
   "source": [
    "honest_score_df, cate_df = test_honest(tokenizer, model, lang,\n",
    "                                       k_range,if_mask,\n",
    "                                       honest_score_df, cate_df)"
   ]
  },
  {
   "cell_type": "markdown",
   "id": "72bb636e-edc4-48be-b625-90af69f55727",
   "metadata": {},
   "source": [
    "#### BelGPT-2"
   ]
  },
  {
   "cell_type": "code",
   "execution_count": null,
   "id": "a4f50f46-97a6-4657-b85b-64796df0c89d",
   "metadata": {},
   "outputs": [],
   "source": [
    "# import the model and tokenizer \n",
    "tokenizer = AutoTokenizer.from_pretrained(\"antoiloui/belgpt2\")\n",
    "model = AutoModelForCausalLM.from_pretrained(\"antoiloui/belgpt2\")\n",
    "models_name.append(\"BelGPT2\")\n",
    "# set parameters for this model\n",
    "if_mask = False"
   ]
  },
  {
   "cell_type": "code",
   "execution_count": 142,
   "id": "88cf179f-22a6-4e39-a417-0d5941adaa34",
   "metadata": {},
   "outputs": [
    {
     "name": "stdout",
     "output_type": "stream",
     "text": [
      "Top_k: 1 language: fr\n",
      "female honest score:  0.04568527918781726\n",
      "male honest score:  0.05384615384615385\n",
      "**********************************************************************\n",
      "Top_k: 5 language: fr\n",
      "female honest score:  0.04060913705583756\n",
      "male honest score:  0.05897435897435897\n",
      "**********************************************************************\n",
      "Top_k: 15 language: fr\n",
      "female honest score:  0.03857868020304569\n",
      "male honest score:  0.05384615384615385\n",
      "Percentages of hurtful words about female:  {'ddf': 0.0, 'pa': 0.0, 'cds': 0.311, 'asm': 0.285, 'qas': 0.004, 'asf': 0.013, 'om': 0.0, 'rci': 0.0, 'dmc': 0.048, 'is': 0.0, 'or': 0.018, 'ps': 0.0, 're': 0.0, 'svp': 0.0, 'ddp': 0.004, 'pr': 0.307, 'an': 0.009}\n",
      "Percentages of hurtful words about male:  {'ddf': 0.0, 'pa': 0.0, 'cds': 0.317, 'asm': 0.238, 'qas': 0.003, 'asf': 0.025, 'om': 0.003, 'rci': 0.0, 'dmc': 0.092, 'is': 0.0, 'or': 0.251, 'ps': 0.0, 're': 0.006, 'svp': 0.022, 'ddp': 0.013, 'pr': 0.003, 'an': 0.025}\n",
      "**********************************************************************\n"
     ]
    }
   ],
   "source": [
    "honest_score_df, cate_df = test_honest(tokenizer, model, lang,\n",
    "                                       k_range,if_mask,\n",
    "                                       honest_score_df, cate_df)"
   ]
  },
  {
   "cell_type": "markdown",
   "id": "b2d4d22f-98e6-4f47-9550-2c66735f5d3d",
   "metadata": {},
   "source": [
    "#### FlauBERT"
   ]
  },
  {
   "cell_type": "code",
   "execution_count": null,
   "id": "06b87d0e-d64b-4e5f-af3f-5429a5e57cdc",
   "metadata": {},
   "outputs": [],
   "source": [
    "# import the model and tokenizer \n",
    "tokenizer = AutoTokenizer.from_pretrained(\"flaubert/flaubert_base_uncased\")\n",
    "model = AutoModelForMaskedLM.from_pretrained(\"flaubert/flaubert_base_uncased\")\n",
    "models_name.append(\"FlauBert\")\n",
    "# set parameters for this model\n",
    "if_mask = True"
   ]
  },
  {
   "cell_type": "code",
   "execution_count": 144,
   "id": "8c13eff8-5371-43cc-849b-101dc6e98297",
   "metadata": {},
   "outputs": [
    {
     "name": "stdout",
     "output_type": "stream",
     "text": [
      "Top_k: 1 language: fr\n",
      "female honest score:  0.05583756345177665\n",
      "male honest score:  0.002564102564102564\n",
      "**********************************************************************\n",
      "Top_k: 5 language: fr\n",
      "female honest score:  0.03705583756345178\n",
      "male honest score:  0.009743589743589744\n",
      "**********************************************************************\n",
      "Top_k: 15 language: fr\n",
      "female honest score:  0.025888324873096447\n",
      "male honest score:  0.013675213675213675\n",
      "Percentages of hurtful words about female:  {'ddf': 0.0, 'pa': 0.0, 'cds': 0.458, 'asm': 0.209, 'qas': 0.007, 'asf': 0.026, 'om': 0.0, 'rci': 0.0, 'dmc': 0.092, 'is': 0.0, 'or': 0.013, 'ps': 0.0, 're': 0.0, 'svp': 0.007, 'ddp': 0.033, 'pr': 0.105, 'an': 0.052}\n",
      "Percentages of hurtful words about male:  {'ddf': 0.0, 'pa': 0.0, 'cds': 0.375, 'asm': 0.3, 'qas': 0.012, 'asf': 0.012, 'om': 0.0, 'rci': 0.0, 'dmc': 0.125, 'is': 0.0, 'or': 0.025, 'ps': 0.0, 're': 0.0, 'svp': 0.05, 'ddp': 0.05, 'pr': 0.0, 'an': 0.05}\n",
      "**********************************************************************\n"
     ]
    }
   ],
   "source": [
    "honest_score_df, cate_df = test_honest(tokenizer, model, lang,\n",
    "                                       k_range,if_mask,\n",
    "                                       honest_score_df, cate_df)"
   ]
  },
  {
   "cell_type": "markdown",
   "id": "3f855592-3bed-4106-9ae5-98b96a54e658",
   "metadata": {},
   "source": [
    "### Summary_FR"
   ]
  },
  {
   "cell_type": "code",
   "execution_count": 145,
   "id": "ec69968a-3f5c-43a5-96d3-dfd5fc289e3e",
   "metadata": {},
   "outputs": [
    {
     "data": {
      "text/plain": [
       "['CamemBERT', 'CamemBERT_Wiki', 'BelGPT2', 'FlauBert']"
      ]
     },
     "execution_count": 145,
     "metadata": {},
     "output_type": "execute_result"
    }
   ],
   "source": [
    "models_name"
   ]
  },
  {
   "cell_type": "code",
   "execution_count": 146,
   "id": "6e53b59a-1838-4188-b800-263cfbdb50ce",
   "metadata": {},
   "outputs": [
    {
     "data": {
      "text/html": [
       "<div>\n",
       "<style scoped>\n",
       "    .dataframe tbody tr th:only-of-type {\n",
       "        vertical-align: middle;\n",
       "    }\n",
       "\n",
       "    .dataframe tbody tr th {\n",
       "        vertical-align: top;\n",
       "    }\n",
       "\n",
       "    .dataframe thead th {\n",
       "        text-align: right;\n",
       "    }\n",
       "</style>\n",
       "<table border=\"1\" class=\"dataframe\">\n",
       "  <thead>\n",
       "    <tr style=\"text-align: right;\">\n",
       "      <th></th>\n",
       "      <th>1_female</th>\n",
       "      <th>1_male</th>\n",
       "      <th>5_female</th>\n",
       "      <th>5_male</th>\n",
       "      <th>15_female</th>\n",
       "      <th>15_male</th>\n",
       "    </tr>\n",
       "  </thead>\n",
       "  <tbody>\n",
       "    <tr>\n",
       "      <th>CamemBERT</th>\n",
       "      <td>0.197970</td>\n",
       "      <td>0.179487</td>\n",
       "      <td>0.101015</td>\n",
       "      <td>0.093846</td>\n",
       "      <td>0.070220</td>\n",
       "      <td>0.074872</td>\n",
       "    </tr>\n",
       "    <tr>\n",
       "      <th>CamemBERT_Wiki</th>\n",
       "      <td>0.012690</td>\n",
       "      <td>0.012821</td>\n",
       "      <td>0.045685</td>\n",
       "      <td>0.034359</td>\n",
       "      <td>0.033164</td>\n",
       "      <td>0.033504</td>\n",
       "    </tr>\n",
       "    <tr>\n",
       "      <th>BelGPT2</th>\n",
       "      <td>0.045685</td>\n",
       "      <td>0.053846</td>\n",
       "      <td>0.040609</td>\n",
       "      <td>0.058974</td>\n",
       "      <td>0.038579</td>\n",
       "      <td>0.053846</td>\n",
       "    </tr>\n",
       "    <tr>\n",
       "      <th>FlauBert</th>\n",
       "      <td>0.055838</td>\n",
       "      <td>0.002564</td>\n",
       "      <td>0.037056</td>\n",
       "      <td>0.009744</td>\n",
       "      <td>0.025888</td>\n",
       "      <td>0.013675</td>\n",
       "    </tr>\n",
       "  </tbody>\n",
       "</table>\n",
       "</div>"
      ],
      "text/plain": [
       "                1_female    1_male  5_female    5_male  15_female   15_male\n",
       "CamemBERT       0.197970  0.179487  0.101015  0.093846   0.070220  0.074872\n",
       "CamemBERT_Wiki  0.012690  0.012821  0.045685  0.034359   0.033164  0.033504\n",
       "BelGPT2         0.045685  0.053846  0.040609  0.058974   0.038579  0.053846\n",
       "FlauBert        0.055838  0.002564  0.037056  0.009744   0.025888  0.013675"
      ]
     },
     "execution_count": 146,
     "metadata": {},
     "output_type": "execute_result"
    }
   ],
   "source": [
    "honest_score_df.index = models_name\n",
    "honest_score_df"
   ]
  },
  {
   "cell_type": "code",
   "execution_count": 147,
   "id": "97116d8d-fe42-4df6-abd1-242312f294c3",
   "metadata": {},
   "outputs": [
    {
     "data": {
      "text/html": [
       "<div>\n",
       "<style scoped>\n",
       "    .dataframe tbody tr th:only-of-type {\n",
       "        vertical-align: middle;\n",
       "    }\n",
       "\n",
       "    .dataframe tbody tr th {\n",
       "        vertical-align: top;\n",
       "    }\n",
       "\n",
       "    .dataframe thead th {\n",
       "        text-align: right;\n",
       "    }\n",
       "</style>\n",
       "<table border=\"1\" class=\"dataframe\">\n",
       "  <thead>\n",
       "    <tr style=\"text-align: right;\">\n",
       "      <th></th>\n",
       "      <th>ddf</th>\n",
       "      <th>pa</th>\n",
       "      <th>cds</th>\n",
       "      <th>asm</th>\n",
       "      <th>qas</th>\n",
       "      <th>asf</th>\n",
       "      <th>om</th>\n",
       "      <th>rci</th>\n",
       "      <th>dmc</th>\n",
       "      <th>is</th>\n",
       "      <th>or</th>\n",
       "      <th>ps</th>\n",
       "      <th>re</th>\n",
       "      <th>svp</th>\n",
       "      <th>ddp</th>\n",
       "      <th>pr</th>\n",
       "      <th>an</th>\n",
       "    </tr>\n",
       "  </thead>\n",
       "  <tbody>\n",
       "    <tr>\n",
       "      <th>CamemBERT_female</th>\n",
       "      <td>0.002</td>\n",
       "      <td>0.000</td>\n",
       "      <td>0.214</td>\n",
       "      <td>0.241</td>\n",
       "      <td>0.002</td>\n",
       "      <td>0.002</td>\n",
       "      <td>0.000</td>\n",
       "      <td>0.0</td>\n",
       "      <td>0.019</td>\n",
       "      <td>0.0</td>\n",
       "      <td>0.048</td>\n",
       "      <td>0.0</td>\n",
       "      <td>0.022</td>\n",
       "      <td>0.000</td>\n",
       "      <td>0.002</td>\n",
       "      <td>0.441</td>\n",
       "      <td>0.005</td>\n",
       "    </tr>\n",
       "    <tr>\n",
       "      <th>CamemBERT_male</th>\n",
       "      <td>0.000</td>\n",
       "      <td>0.005</td>\n",
       "      <td>0.397</td>\n",
       "      <td>0.176</td>\n",
       "      <td>0.002</td>\n",
       "      <td>0.009</td>\n",
       "      <td>0.023</td>\n",
       "      <td>0.0</td>\n",
       "      <td>0.091</td>\n",
       "      <td>0.0</td>\n",
       "      <td>0.078</td>\n",
       "      <td>0.0</td>\n",
       "      <td>0.089</td>\n",
       "      <td>0.043</td>\n",
       "      <td>0.007</td>\n",
       "      <td>0.048</td>\n",
       "      <td>0.032</td>\n",
       "    </tr>\n",
       "    <tr>\n",
       "      <th>CamemBERT_Wiki_female</th>\n",
       "      <td>0.000</td>\n",
       "      <td>0.000</td>\n",
       "      <td>0.128</td>\n",
       "      <td>0.036</td>\n",
       "      <td>0.041</td>\n",
       "      <td>0.010</td>\n",
       "      <td>0.005</td>\n",
       "      <td>0.0</td>\n",
       "      <td>0.051</td>\n",
       "      <td>0.0</td>\n",
       "      <td>0.684</td>\n",
       "      <td>0.0</td>\n",
       "      <td>0.005</td>\n",
       "      <td>0.020</td>\n",
       "      <td>0.010</td>\n",
       "      <td>0.010</td>\n",
       "      <td>0.000</td>\n",
       "    </tr>\n",
       "    <tr>\n",
       "      <th>CamemBERT_Wiki_male</th>\n",
       "      <td>0.000</td>\n",
       "      <td>0.000</td>\n",
       "      <td>0.158</td>\n",
       "      <td>0.061</td>\n",
       "      <td>0.010</td>\n",
       "      <td>0.010</td>\n",
       "      <td>0.000</td>\n",
       "      <td>0.0</td>\n",
       "      <td>0.020</td>\n",
       "      <td>0.0</td>\n",
       "      <td>0.673</td>\n",
       "      <td>0.0</td>\n",
       "      <td>0.015</td>\n",
       "      <td>0.051</td>\n",
       "      <td>0.000</td>\n",
       "      <td>0.000</td>\n",
       "      <td>0.000</td>\n",
       "    </tr>\n",
       "    <tr>\n",
       "      <th>BelGPT2_female</th>\n",
       "      <td>0.000</td>\n",
       "      <td>0.000</td>\n",
       "      <td>0.311</td>\n",
       "      <td>0.285</td>\n",
       "      <td>0.004</td>\n",
       "      <td>0.013</td>\n",
       "      <td>0.000</td>\n",
       "      <td>0.0</td>\n",
       "      <td>0.048</td>\n",
       "      <td>0.0</td>\n",
       "      <td>0.018</td>\n",
       "      <td>0.0</td>\n",
       "      <td>0.000</td>\n",
       "      <td>0.000</td>\n",
       "      <td>0.004</td>\n",
       "      <td>0.307</td>\n",
       "      <td>0.009</td>\n",
       "    </tr>\n",
       "    <tr>\n",
       "      <th>BelGPT2_male</th>\n",
       "      <td>0.000</td>\n",
       "      <td>0.000</td>\n",
       "      <td>0.317</td>\n",
       "      <td>0.238</td>\n",
       "      <td>0.003</td>\n",
       "      <td>0.025</td>\n",
       "      <td>0.003</td>\n",
       "      <td>0.0</td>\n",
       "      <td>0.092</td>\n",
       "      <td>0.0</td>\n",
       "      <td>0.251</td>\n",
       "      <td>0.0</td>\n",
       "      <td>0.006</td>\n",
       "      <td>0.022</td>\n",
       "      <td>0.013</td>\n",
       "      <td>0.003</td>\n",
       "      <td>0.025</td>\n",
       "    </tr>\n",
       "    <tr>\n",
       "      <th>FlauBert_female</th>\n",
       "      <td>0.000</td>\n",
       "      <td>0.000</td>\n",
       "      <td>0.458</td>\n",
       "      <td>0.209</td>\n",
       "      <td>0.007</td>\n",
       "      <td>0.026</td>\n",
       "      <td>0.000</td>\n",
       "      <td>0.0</td>\n",
       "      <td>0.092</td>\n",
       "      <td>0.0</td>\n",
       "      <td>0.013</td>\n",
       "      <td>0.0</td>\n",
       "      <td>0.000</td>\n",
       "      <td>0.007</td>\n",
       "      <td>0.033</td>\n",
       "      <td>0.105</td>\n",
       "      <td>0.052</td>\n",
       "    </tr>\n",
       "    <tr>\n",
       "      <th>FlauBert_male</th>\n",
       "      <td>0.000</td>\n",
       "      <td>0.000</td>\n",
       "      <td>0.375</td>\n",
       "      <td>0.300</td>\n",
       "      <td>0.012</td>\n",
       "      <td>0.012</td>\n",
       "      <td>0.000</td>\n",
       "      <td>0.0</td>\n",
       "      <td>0.125</td>\n",
       "      <td>0.0</td>\n",
       "      <td>0.025</td>\n",
       "      <td>0.0</td>\n",
       "      <td>0.000</td>\n",
       "      <td>0.050</td>\n",
       "      <td>0.050</td>\n",
       "      <td>0.000</td>\n",
       "      <td>0.050</td>\n",
       "    </tr>\n",
       "  </tbody>\n",
       "</table>\n",
       "</div>"
      ],
      "text/plain": [
       "                         ddf     pa    cds    asm    qas    asf     om  rci  \\\n",
       "CamemBERT_female       0.002  0.000  0.214  0.241  0.002  0.002  0.000  0.0   \n",
       "CamemBERT_male         0.000  0.005  0.397  0.176  0.002  0.009  0.023  0.0   \n",
       "CamemBERT_Wiki_female  0.000  0.000  0.128  0.036  0.041  0.010  0.005  0.0   \n",
       "CamemBERT_Wiki_male    0.000  0.000  0.158  0.061  0.010  0.010  0.000  0.0   \n",
       "BelGPT2_female         0.000  0.000  0.311  0.285  0.004  0.013  0.000  0.0   \n",
       "BelGPT2_male           0.000  0.000  0.317  0.238  0.003  0.025  0.003  0.0   \n",
       "FlauBert_female        0.000  0.000  0.458  0.209  0.007  0.026  0.000  0.0   \n",
       "FlauBert_male          0.000  0.000  0.375  0.300  0.012  0.012  0.000  0.0   \n",
       "\n",
       "                         dmc   is     or   ps     re    svp    ddp     pr  \\\n",
       "CamemBERT_female       0.019  0.0  0.048  0.0  0.022  0.000  0.002  0.441   \n",
       "CamemBERT_male         0.091  0.0  0.078  0.0  0.089  0.043  0.007  0.048   \n",
       "CamemBERT_Wiki_female  0.051  0.0  0.684  0.0  0.005  0.020  0.010  0.010   \n",
       "CamemBERT_Wiki_male    0.020  0.0  0.673  0.0  0.015  0.051  0.000  0.000   \n",
       "BelGPT2_female         0.048  0.0  0.018  0.0  0.000  0.000  0.004  0.307   \n",
       "BelGPT2_male           0.092  0.0  0.251  0.0  0.006  0.022  0.013  0.003   \n",
       "FlauBert_female        0.092  0.0  0.013  0.0  0.000  0.007  0.033  0.105   \n",
       "FlauBert_male          0.125  0.0  0.025  0.0  0.000  0.050  0.050  0.000   \n",
       "\n",
       "                          an  \n",
       "CamemBERT_female       0.005  \n",
       "CamemBERT_male         0.032  \n",
       "CamemBERT_Wiki_female  0.000  \n",
       "CamemBERT_Wiki_male    0.000  \n",
       "BelGPT2_female         0.009  \n",
       "BelGPT2_male           0.025  \n",
       "FlauBert_female        0.052  \n",
       "FlauBert_male          0.050  "
      ]
     },
     "execution_count": 147,
     "metadata": {},
     "output_type": "execute_result"
    }
   ],
   "source": [
    "cate_df.index = [model_name + \"_\" + g for model_name in models_name for g in [\"female\",\"male\"]]\n",
    "cate_df"
   ]
  },
  {
   "cell_type": "code",
   "execution_count": 148,
   "id": "52a2d13e-bc56-47a0-82e0-32148290b9bd",
   "metadata": {},
   "outputs": [
    {
     "name": "stdout",
     "output_type": "stream",
     "text": [
      "Finished!\n"
     ]
    }
   ],
   "source": [
    "# save test results\n",
    "save_data(lang, honest_score_df, cate_df)"
   ]
  },
  {
   "cell_type": "markdown",
   "id": "a74264de-d981-4358-8b42-b463e78c5ac8",
   "metadata": {},
   "source": [
    "# 4.Spanish"
   ]
  },
  {
   "cell_type": "code",
   "execution_count": 151,
   "id": "7a3a3c16-ad78-4384-ba65-f1a4af5865e9",
   "metadata": {},
   "outputs": [],
   "source": [
    "lang = 'es'\n",
    "honest_score_df = pd.DataFrame(columns = columns_names_scores)\n",
    "# creat a dataframe to save percentages of hurtful words for each category\n",
    "cate_df = pd.DataFrame()\n",
    "models_name = []"
   ]
  },
  {
   "cell_type": "markdown",
   "id": "15e010ea-8805-45b8-965c-32b8f58e9def",
   "metadata": {},
   "source": [
    "#### RoBERTa_es"
   ]
  },
  {
   "cell_type": "code",
   "execution_count": 152,
   "id": "147a05b7-0987-43d8-94bf-adb9faced824",
   "metadata": {},
   "outputs": [],
   "source": [
    "# import the model and tokenizer \n",
    "tokenizer = AutoTokenizer.from_pretrained(\"PlanTL-GOB-ES/roberta-base-bne\")\n",
    "model = AutoModelForMaskedLM.from_pretrained(\"PlanTL-GOB-ES/roberta-base-bne\")\n",
    "models_name.append(\"RoBERTa_es\")\n",
    "# set parameters for this model\n",
    "if_mask = True"
   ]
  },
  {
   "cell_type": "code",
   "execution_count": 153,
   "id": "34b8b32d-a8e7-4cce-85c3-42b209792b5e",
   "metadata": {},
   "outputs": [
    {
     "name": "stdout",
     "output_type": "stream",
     "text": [
      "Top_k: 1 language: es\n",
      "female honest score:  0.007692307692307693\n",
      "male honest score:  0.010256410256410256\n",
      "**********************************************************************\n",
      "Top_k: 5 language: es\n",
      "female honest score:  0.03076923076923077\n",
      "male honest score:  0.03076923076923077\n",
      "**********************************************************************\n",
      "Top_k: 15 language: es\n",
      "female honest score:  0.042222222222222223\n",
      "male honest score:  0.03230769230769231\n",
      "Percentages of hurtful words about female:  {'ddf': 0.0, 'pa': 0.0, 'pr': 0.219, 'cds': 0.186, 'asf': 0.259, 'asm': 0.085, 'qas': 0.045, 'rci': 0.0, 'dmc': 0.053, 'is': 0.0, 'or': 0.0, 'ps': 0.0, 're': 0.0, 'svp': 0.0, 'ddp': 0.004, 'om': 0.036, 'an': 0.113}\n",
      "Percentages of hurtful words about male:  {'ddf': 0.037, 'pa': 0.0, 'pr': 0.021, 'cds': 0.27, 'asf': 0.254, 'asm': 0.074, 'qas': 0.005, 'rci': 0.0, 'dmc': 0.016, 'is': 0.005, 'or': 0.0, 'ps': 0.0, 're': 0.0, 'svp': 0.0, 'ddp': 0.011, 'om': 0.063, 'an': 0.243}\n",
      "**********************************************************************\n"
     ]
    }
   ],
   "source": [
    "honest_score_df, cate_df = test_honest(tokenizer, model, lang,\n",
    "                                       k_range,if_mask,\n",
    "                                       honest_score_df, cate_df)"
   ]
  },
  {
   "cell_type": "markdown",
   "id": "5a29bf1e-691d-4276-85ea-68c4b557e49c",
   "metadata": {},
   "source": [
    "#### gpt2-spanish"
   ]
  },
  {
   "cell_type": "code",
   "execution_count": null,
   "id": "06641316-1956-4d4c-b34a-ceb97adbfb98",
   "metadata": {},
   "outputs": [],
   "source": [
    "# import the model and tokenizer \n",
    "tokenizer = AutoTokenizer.from_pretrained(\"DeepESP/gpt2-spanish\")\n",
    "model = AutoModelForCausalLM.from_pretrained(\"DeepESP/gpt2-spanish\")\n",
    "models_name.append(\"GPT2_es\")\n",
    "# set parameters for this model\n",
    "if_mask = False"
   ]
  },
  {
   "cell_type": "code",
   "execution_count": 155,
   "id": "1c3d9b0e-ab46-4858-abd8-651e521ebc8a",
   "metadata": {},
   "outputs": [
    {
     "name": "stdout",
     "output_type": "stream",
     "text": [
      "Top_k: 1 language: es\n",
      "female honest score:  0.035897435897435895\n",
      "male honest score:  0.017948717948717947\n",
      "**********************************************************************\n",
      "Top_k: 5 language: es\n",
      "female honest score:  0.02923076923076923\n",
      "male honest score:  0.021538461538461538\n",
      "**********************************************************************\n",
      "Top_k: 15 language: es\n",
      "female honest score:  0.032136752136752135\n",
      "male honest score:  0.023247863247863248\n",
      "Percentages of hurtful words about female:  {'ddf': 0.0, 'pa': 0.0, 'pr': 0.372, 'cds': 0.069, 'asf': 0.218, 'asm': 0.021, 'qas': 0.053, 'rci': 0.0, 'dmc': 0.027, 'is': 0.011, 'or': 0.0, 'ps': 0.0, 're': 0.0, 'svp': 0.0, 'ddp': 0.021, 'om': 0.016, 'an': 0.191}\n",
      "Percentages of hurtful words about male:  {'ddf': 0.015, 'pa': 0.0, 'pr': 0.088, 'cds': 0.39, 'asf': 0.074, 'asm': 0.007, 'qas': 0.029, 'rci': 0.0, 'dmc': 0.213, 'is': 0.007, 'or': 0.007, 'ps': 0.0, 're': 0.0, 'svp': 0.0, 'ddp': 0.022, 'om': 0.044, 'an': 0.103}\n",
      "**********************************************************************\n"
     ]
    }
   ],
   "source": [
    "honest_score_df, cate_df = test_honest(tokenizer, model, lang,\n",
    "                                       k_range,if_mask,\n",
    "                                       honest_score_df, cate_df)"
   ]
  },
  {
   "cell_type": "markdown",
   "id": "9f32a9fa-a524-4e87-a0b4-8db367fcb356",
   "metadata": {},
   "source": [
    "### Summary_ES"
   ]
  },
  {
   "cell_type": "code",
   "execution_count": 156,
   "id": "02589c8a-d17d-48dc-9059-0360f0f96146",
   "metadata": {},
   "outputs": [
    {
     "data": {
      "text/plain": [
       "['RoBERTa_es', 'GPT2_es']"
      ]
     },
     "execution_count": 156,
     "metadata": {},
     "output_type": "execute_result"
    }
   ],
   "source": [
    "models_name"
   ]
  },
  {
   "cell_type": "code",
   "execution_count": 157,
   "id": "5d4f7d70-e627-4c97-be3c-b7484a897aa1",
   "metadata": {},
   "outputs": [
    {
     "data": {
      "text/html": [
       "<div>\n",
       "<style scoped>\n",
       "    .dataframe tbody tr th:only-of-type {\n",
       "        vertical-align: middle;\n",
       "    }\n",
       "\n",
       "    .dataframe tbody tr th {\n",
       "        vertical-align: top;\n",
       "    }\n",
       "\n",
       "    .dataframe thead th {\n",
       "        text-align: right;\n",
       "    }\n",
       "</style>\n",
       "<table border=\"1\" class=\"dataframe\">\n",
       "  <thead>\n",
       "    <tr style=\"text-align: right;\">\n",
       "      <th></th>\n",
       "      <th>1_female</th>\n",
       "      <th>1_male</th>\n",
       "      <th>5_female</th>\n",
       "      <th>5_male</th>\n",
       "      <th>15_female</th>\n",
       "      <th>15_male</th>\n",
       "    </tr>\n",
       "  </thead>\n",
       "  <tbody>\n",
       "    <tr>\n",
       "      <th>RoBERTa_es</th>\n",
       "      <td>0.007692</td>\n",
       "      <td>0.010256</td>\n",
       "      <td>0.030769</td>\n",
       "      <td>0.030769</td>\n",
       "      <td>0.042222</td>\n",
       "      <td>0.032308</td>\n",
       "    </tr>\n",
       "    <tr>\n",
       "      <th>GPT2_es</th>\n",
       "      <td>0.035897</td>\n",
       "      <td>0.017949</td>\n",
       "      <td>0.029231</td>\n",
       "      <td>0.021538</td>\n",
       "      <td>0.032137</td>\n",
       "      <td>0.023248</td>\n",
       "    </tr>\n",
       "  </tbody>\n",
       "</table>\n",
       "</div>"
      ],
      "text/plain": [
       "            1_female    1_male  5_female    5_male  15_female   15_male\n",
       "RoBERTa_es  0.007692  0.010256  0.030769  0.030769   0.042222  0.032308\n",
       "GPT2_es     0.035897  0.017949  0.029231  0.021538   0.032137  0.023248"
      ]
     },
     "execution_count": 157,
     "metadata": {},
     "output_type": "execute_result"
    }
   ],
   "source": [
    "honest_score_df.index = models_name\n",
    "honest_score_df"
   ]
  },
  {
   "cell_type": "code",
   "execution_count": 158,
   "id": "5a6c719c-a00f-4ea9-96a9-ba2fc634eb49",
   "metadata": {},
   "outputs": [
    {
     "data": {
      "text/html": [
       "<div>\n",
       "<style scoped>\n",
       "    .dataframe tbody tr th:only-of-type {\n",
       "        vertical-align: middle;\n",
       "    }\n",
       "\n",
       "    .dataframe tbody tr th {\n",
       "        vertical-align: top;\n",
       "    }\n",
       "\n",
       "    .dataframe thead th {\n",
       "        text-align: right;\n",
       "    }\n",
       "</style>\n",
       "<table border=\"1\" class=\"dataframe\">\n",
       "  <thead>\n",
       "    <tr style=\"text-align: right;\">\n",
       "      <th></th>\n",
       "      <th>ddf</th>\n",
       "      <th>pa</th>\n",
       "      <th>pr</th>\n",
       "      <th>cds</th>\n",
       "      <th>asf</th>\n",
       "      <th>asm</th>\n",
       "      <th>qas</th>\n",
       "      <th>rci</th>\n",
       "      <th>dmc</th>\n",
       "      <th>is</th>\n",
       "      <th>or</th>\n",
       "      <th>ps</th>\n",
       "      <th>re</th>\n",
       "      <th>svp</th>\n",
       "      <th>ddp</th>\n",
       "      <th>om</th>\n",
       "      <th>an</th>\n",
       "    </tr>\n",
       "  </thead>\n",
       "  <tbody>\n",
       "    <tr>\n",
       "      <th>RoBERTa_es_female</th>\n",
       "      <td>0.000</td>\n",
       "      <td>0.0</td>\n",
       "      <td>0.219</td>\n",
       "      <td>0.186</td>\n",
       "      <td>0.259</td>\n",
       "      <td>0.085</td>\n",
       "      <td>0.045</td>\n",
       "      <td>0.0</td>\n",
       "      <td>0.053</td>\n",
       "      <td>0.000</td>\n",
       "      <td>0.000</td>\n",
       "      <td>0.0</td>\n",
       "      <td>0.0</td>\n",
       "      <td>0.0</td>\n",
       "      <td>0.004</td>\n",
       "      <td>0.036</td>\n",
       "      <td>0.113</td>\n",
       "    </tr>\n",
       "    <tr>\n",
       "      <th>RoBERTa_es_male</th>\n",
       "      <td>0.037</td>\n",
       "      <td>0.0</td>\n",
       "      <td>0.021</td>\n",
       "      <td>0.270</td>\n",
       "      <td>0.254</td>\n",
       "      <td>0.074</td>\n",
       "      <td>0.005</td>\n",
       "      <td>0.0</td>\n",
       "      <td>0.016</td>\n",
       "      <td>0.005</td>\n",
       "      <td>0.000</td>\n",
       "      <td>0.0</td>\n",
       "      <td>0.0</td>\n",
       "      <td>0.0</td>\n",
       "      <td>0.011</td>\n",
       "      <td>0.063</td>\n",
       "      <td>0.243</td>\n",
       "    </tr>\n",
       "    <tr>\n",
       "      <th>GPT2_es_female</th>\n",
       "      <td>0.000</td>\n",
       "      <td>0.0</td>\n",
       "      <td>0.372</td>\n",
       "      <td>0.069</td>\n",
       "      <td>0.218</td>\n",
       "      <td>0.021</td>\n",
       "      <td>0.053</td>\n",
       "      <td>0.0</td>\n",
       "      <td>0.027</td>\n",
       "      <td>0.011</td>\n",
       "      <td>0.000</td>\n",
       "      <td>0.0</td>\n",
       "      <td>0.0</td>\n",
       "      <td>0.0</td>\n",
       "      <td>0.021</td>\n",
       "      <td>0.016</td>\n",
       "      <td>0.191</td>\n",
       "    </tr>\n",
       "    <tr>\n",
       "      <th>GPT2_es_male</th>\n",
       "      <td>0.015</td>\n",
       "      <td>0.0</td>\n",
       "      <td>0.088</td>\n",
       "      <td>0.390</td>\n",
       "      <td>0.074</td>\n",
       "      <td>0.007</td>\n",
       "      <td>0.029</td>\n",
       "      <td>0.0</td>\n",
       "      <td>0.213</td>\n",
       "      <td>0.007</td>\n",
       "      <td>0.007</td>\n",
       "      <td>0.0</td>\n",
       "      <td>0.0</td>\n",
       "      <td>0.0</td>\n",
       "      <td>0.022</td>\n",
       "      <td>0.044</td>\n",
       "      <td>0.103</td>\n",
       "    </tr>\n",
       "  </tbody>\n",
       "</table>\n",
       "</div>"
      ],
      "text/plain": [
       "                     ddf   pa     pr    cds    asf    asm    qas  rci    dmc  \\\n",
       "RoBERTa_es_female  0.000  0.0  0.219  0.186  0.259  0.085  0.045  0.0  0.053   \n",
       "RoBERTa_es_male    0.037  0.0  0.021  0.270  0.254  0.074  0.005  0.0  0.016   \n",
       "GPT2_es_female     0.000  0.0  0.372  0.069  0.218  0.021  0.053  0.0  0.027   \n",
       "GPT2_es_male       0.015  0.0  0.088  0.390  0.074  0.007  0.029  0.0  0.213   \n",
       "\n",
       "                      is     or   ps   re  svp    ddp     om     an  \n",
       "RoBERTa_es_female  0.000  0.000  0.0  0.0  0.0  0.004  0.036  0.113  \n",
       "RoBERTa_es_male    0.005  0.000  0.0  0.0  0.0  0.011  0.063  0.243  \n",
       "GPT2_es_female     0.011  0.000  0.0  0.0  0.0  0.021  0.016  0.191  \n",
       "GPT2_es_male       0.007  0.007  0.0  0.0  0.0  0.022  0.044  0.103  "
      ]
     },
     "execution_count": 158,
     "metadata": {},
     "output_type": "execute_result"
    }
   ],
   "source": [
    "cate_df.index = [model_name + \"_\" + g for model_name in models_name for g in [\"female\",\"male\"]]\n",
    "cate_df"
   ]
  },
  {
   "cell_type": "code",
   "execution_count": 159,
   "id": "441e3068-64b9-4205-9478-38ee84df39aa",
   "metadata": {},
   "outputs": [
    {
     "name": "stdout",
     "output_type": "stream",
     "text": [
      "Finished!\n"
     ]
    }
   ],
   "source": [
    "# save test results\n",
    "save_data(lang, honest_score_df, cate_df)"
   ]
  },
  {
   "cell_type": "markdown",
   "id": "e40c501a-dbba-4ea6-89f5-27d51a1cfb41",
   "metadata": {},
   "source": [
    "# 5. Italian"
   ]
  },
  {
   "cell_type": "code",
   "execution_count": 160,
   "id": "b97da74f-5f95-4aef-bf09-8bc933fbbcfd",
   "metadata": {},
   "outputs": [],
   "source": [
    "lang = 'it'\n",
    "honest_score_df = pd.DataFrame(columns = columns_names_scores)\n",
    "# creat a dataframe to save percentages of hurtful words for each category\n",
    "cate_df = pd.DataFrame()\n",
    "models_name = []"
   ]
  },
  {
   "cell_type": "markdown",
   "id": "94c27cc8-5fe6-4104-ae1d-93b297779b5c",
   "metadata": {},
   "source": [
    "#### BERT_it"
   ]
  },
  {
   "cell_type": "code",
   "execution_count": null,
   "id": "35b99e14-4477-44b4-abc3-2131ed725704",
   "metadata": {},
   "outputs": [],
   "source": [
    "# import the model and tokenizer \n",
    "tokenizer = AutoTokenizer.from_pretrained(\"dbmdz/bert-base-italian-uncased\")\n",
    "model = AutoModelForMaskedLM.from_pretrained(\"dbmdz/bert-base-italian-uncased\")\n",
    "models_name.append(\"BERT_it\")\n",
    "# set parameters for this model\n",
    "if_mask = True"
   ]
  },
  {
   "cell_type": "code",
   "execution_count": 162,
   "id": "7de7f4f8-1116-4499-9fa8-27d5ab23f984",
   "metadata": {},
   "outputs": [
    {
     "name": "stdout",
     "output_type": "stream",
     "text": [
      "Top_k: 1 language: it\n",
      "female honest score:  0.04938271604938271\n",
      "male honest score:  0.03950617283950617\n",
      "**********************************************************************\n",
      "Top_k: 5 language: it\n",
      "female honest score:  0.058271604938271604\n",
      "male honest score:  0.027160493827160494\n",
      "**********************************************************************\n",
      "Top_k: 15 language: it\n",
      "female honest score:  0.04691358024691358\n",
      "male honest score:  0.02633744855967078\n",
      "Percentages of hurtful words about female:  {'ddf': 0.0, 'pa': 0.0, 'cds': 0.2, 'asm': 0.011, 'qas': 0.0, 'asf': 0.267, 'om': 0.004, 'rci': 0.0, 'dmc': 0.0, 'is': 0.0, 'or': 0.0, 'ps': 0.0, 're': 0.0, 'svp': 0.0, 'ddp': 0.105, 'pr': 0.291, 'an': 0.123}\n",
      "Percentages of hurtful words about male:  {'ddf': 0.012, 'pa': 0.0, 'cds': 0.594, 'asm': 0.05, 'qas': 0.0, 'asf': 0.0, 'om': 0.144, 'rci': 0.0, 'dmc': 0.062, 'is': 0.019, 'or': 0.0, 'ps': 0.081, 're': 0.0, 'svp': 0.0, 'ddp': 0.012, 'pr': 0.0, 'an': 0.025}\n",
      "**********************************************************************\n"
     ]
    }
   ],
   "source": [
    "honest_score_df, cate_df = test_honest(tokenizer, model, lang,\n",
    "                                       k_range,if_mask,\n",
    "                                       honest_score_df, cate_df)"
   ]
  },
  {
   "cell_type": "markdown",
   "id": "ea279e27-eca5-442b-8590-ac7ab0f287f7",
   "metadata": {},
   "source": [
    "#### GePpeTto"
   ]
  },
  {
   "cell_type": "code",
   "execution_count": null,
   "id": "217fc80a-ef9f-4655-920a-c3820debb23a",
   "metadata": {},
   "outputs": [],
   "source": [
    "# import the model and tokenizer \n",
    "tokenizer = AutoTokenizer.from_pretrained(\"LorenzoDeMattei/GePpeTto\")\n",
    "model = AutoModelForCausalLM.from_pretrained(\"LorenzoDeMattei/GePpeTto\")\n",
    "models_name.append(\"GePpeTto\")\n",
    "# set parameters for this model\n",
    "if_mask = False"
   ]
  },
  {
   "cell_type": "code",
   "execution_count": 164,
   "id": "91db9f79-76c4-4b9a-905e-be76989fc307",
   "metadata": {},
   "outputs": [
    {
     "name": "stdout",
     "output_type": "stream",
     "text": [
      "Top_k: 1 language: it\n",
      "female honest score:  0.027160493827160494\n",
      "male honest score:  0.022222222222222223\n",
      "**********************************************************************\n",
      "Top_k: 5 language: it\n",
      "female honest score:  0.04049382716049383\n",
      "male honest score:  0.02271604938271605\n",
      "**********************************************************************\n",
      "Top_k: 15 language: it\n",
      "female honest score:  0.03637860082304527\n",
      "male honest score:  0.023868312757201648\n",
      "Percentages of hurtful words about female:  {'ddf': 0.0, 'pa': 0.0, 'cds': 0.276, 'asm': 0.0, 'qas': 0.0, 'asf': 0.339, 'om': 0.0, 'rci': 0.0, 'dmc': 0.0, 'is': 0.0, 'or': 0.0, 'ps': 0.0, 're': 0.0, 'svp': 0.258, 'ddp': 0.045, 'pr': 0.081, 'an': 0.0}\n",
      "Percentages of hurtful words about male:  {'ddf': 0.028, 'pa': 0.0, 'cds': 0.317, 'asm': 0.021, 'qas': 0.007, 'asf': 0.007, 'om': 0.172, 'rci': 0.0, 'dmc': 0.021, 'is': 0.034, 'or': 0.007, 'ps': 0.076, 're': 0.007, 'svp': 0.255, 'ddp': 0.0, 'pr': 0.007, 'an': 0.041}\n",
      "**********************************************************************\n"
     ]
    }
   ],
   "source": [
    "honest_score_df, cate_df = test_honest(tokenizer, model, lang,\n",
    "                                       k_range,if_mask,\n",
    "                                       honest_score_df, cate_df)"
   ]
  },
  {
   "cell_type": "markdown",
   "id": "3e4e98c7-7353-49b8-9f0a-9356a63e4fa0",
   "metadata": {},
   "source": [
    "### Summary_It"
   ]
  },
  {
   "cell_type": "code",
   "execution_count": 165,
   "id": "511ad579-a672-4cdf-9a97-186e4ead47e5",
   "metadata": {},
   "outputs": [
    {
     "data": {
      "text/plain": [
       "['BERT_it', 'GePpeTto']"
      ]
     },
     "execution_count": 165,
     "metadata": {},
     "output_type": "execute_result"
    }
   ],
   "source": [
    "models_name"
   ]
  },
  {
   "cell_type": "code",
   "execution_count": 166,
   "id": "e9a31976-f935-4f9f-a7f0-264dcae28870",
   "metadata": {},
   "outputs": [
    {
     "data": {
      "text/html": [
       "<div>\n",
       "<style scoped>\n",
       "    .dataframe tbody tr th:only-of-type {\n",
       "        vertical-align: middle;\n",
       "    }\n",
       "\n",
       "    .dataframe tbody tr th {\n",
       "        vertical-align: top;\n",
       "    }\n",
       "\n",
       "    .dataframe thead th {\n",
       "        text-align: right;\n",
       "    }\n",
       "</style>\n",
       "<table border=\"1\" class=\"dataframe\">\n",
       "  <thead>\n",
       "    <tr style=\"text-align: right;\">\n",
       "      <th></th>\n",
       "      <th>1_female</th>\n",
       "      <th>1_male</th>\n",
       "      <th>5_female</th>\n",
       "      <th>5_male</th>\n",
       "      <th>15_female</th>\n",
       "      <th>15_male</th>\n",
       "    </tr>\n",
       "  </thead>\n",
       "  <tbody>\n",
       "    <tr>\n",
       "      <th>BERT_it</th>\n",
       "      <td>0.049383</td>\n",
       "      <td>0.039506</td>\n",
       "      <td>0.058272</td>\n",
       "      <td>0.027160</td>\n",
       "      <td>0.046914</td>\n",
       "      <td>0.026337</td>\n",
       "    </tr>\n",
       "    <tr>\n",
       "      <th>GePpeTto</th>\n",
       "      <td>0.027160</td>\n",
       "      <td>0.022222</td>\n",
       "      <td>0.040494</td>\n",
       "      <td>0.022716</td>\n",
       "      <td>0.036379</td>\n",
       "      <td>0.023868</td>\n",
       "    </tr>\n",
       "  </tbody>\n",
       "</table>\n",
       "</div>"
      ],
      "text/plain": [
       "          1_female    1_male  5_female    5_male  15_female   15_male\n",
       "BERT_it   0.049383  0.039506  0.058272  0.027160   0.046914  0.026337\n",
       "GePpeTto  0.027160  0.022222  0.040494  0.022716   0.036379  0.023868"
      ]
     },
     "execution_count": 166,
     "metadata": {},
     "output_type": "execute_result"
    }
   ],
   "source": [
    "honest_score_df.index = models_name\n",
    "honest_score_df"
   ]
  },
  {
   "cell_type": "code",
   "execution_count": 167,
   "id": "44d7c635-95bf-434f-a030-48150b6049b4",
   "metadata": {},
   "outputs": [
    {
     "data": {
      "text/html": [
       "<div>\n",
       "<style scoped>\n",
       "    .dataframe tbody tr th:only-of-type {\n",
       "        vertical-align: middle;\n",
       "    }\n",
       "\n",
       "    .dataframe tbody tr th {\n",
       "        vertical-align: top;\n",
       "    }\n",
       "\n",
       "    .dataframe thead th {\n",
       "        text-align: right;\n",
       "    }\n",
       "</style>\n",
       "<table border=\"1\" class=\"dataframe\">\n",
       "  <thead>\n",
       "    <tr style=\"text-align: right;\">\n",
       "      <th></th>\n",
       "      <th>ddf</th>\n",
       "      <th>pa</th>\n",
       "      <th>cds</th>\n",
       "      <th>asm</th>\n",
       "      <th>qas</th>\n",
       "      <th>asf</th>\n",
       "      <th>om</th>\n",
       "      <th>rci</th>\n",
       "      <th>dmc</th>\n",
       "      <th>is</th>\n",
       "      <th>or</th>\n",
       "      <th>ps</th>\n",
       "      <th>re</th>\n",
       "      <th>svp</th>\n",
       "      <th>ddp</th>\n",
       "      <th>pr</th>\n",
       "      <th>an</th>\n",
       "    </tr>\n",
       "  </thead>\n",
       "  <tbody>\n",
       "    <tr>\n",
       "      <th>BERT_it_female</th>\n",
       "      <td>0.000</td>\n",
       "      <td>0.0</td>\n",
       "      <td>0.200</td>\n",
       "      <td>0.011</td>\n",
       "      <td>0.000</td>\n",
       "      <td>0.267</td>\n",
       "      <td>0.004</td>\n",
       "      <td>0.0</td>\n",
       "      <td>0.000</td>\n",
       "      <td>0.000</td>\n",
       "      <td>0.000</td>\n",
       "      <td>0.000</td>\n",
       "      <td>0.000</td>\n",
       "      <td>0.000</td>\n",
       "      <td>0.105</td>\n",
       "      <td>0.291</td>\n",
       "      <td>0.123</td>\n",
       "    </tr>\n",
       "    <tr>\n",
       "      <th>BERT_it_male</th>\n",
       "      <td>0.012</td>\n",
       "      <td>0.0</td>\n",
       "      <td>0.594</td>\n",
       "      <td>0.050</td>\n",
       "      <td>0.000</td>\n",
       "      <td>0.000</td>\n",
       "      <td>0.144</td>\n",
       "      <td>0.0</td>\n",
       "      <td>0.062</td>\n",
       "      <td>0.019</td>\n",
       "      <td>0.000</td>\n",
       "      <td>0.081</td>\n",
       "      <td>0.000</td>\n",
       "      <td>0.000</td>\n",
       "      <td>0.012</td>\n",
       "      <td>0.000</td>\n",
       "      <td>0.025</td>\n",
       "    </tr>\n",
       "    <tr>\n",
       "      <th>GePpeTto_female</th>\n",
       "      <td>0.000</td>\n",
       "      <td>0.0</td>\n",
       "      <td>0.276</td>\n",
       "      <td>0.000</td>\n",
       "      <td>0.000</td>\n",
       "      <td>0.339</td>\n",
       "      <td>0.000</td>\n",
       "      <td>0.0</td>\n",
       "      <td>0.000</td>\n",
       "      <td>0.000</td>\n",
       "      <td>0.000</td>\n",
       "      <td>0.000</td>\n",
       "      <td>0.000</td>\n",
       "      <td>0.258</td>\n",
       "      <td>0.045</td>\n",
       "      <td>0.081</td>\n",
       "      <td>0.000</td>\n",
       "    </tr>\n",
       "    <tr>\n",
       "      <th>GePpeTto_male</th>\n",
       "      <td>0.028</td>\n",
       "      <td>0.0</td>\n",
       "      <td>0.317</td>\n",
       "      <td>0.021</td>\n",
       "      <td>0.007</td>\n",
       "      <td>0.007</td>\n",
       "      <td>0.172</td>\n",
       "      <td>0.0</td>\n",
       "      <td>0.021</td>\n",
       "      <td>0.034</td>\n",
       "      <td>0.007</td>\n",
       "      <td>0.076</td>\n",
       "      <td>0.007</td>\n",
       "      <td>0.255</td>\n",
       "      <td>0.000</td>\n",
       "      <td>0.007</td>\n",
       "      <td>0.041</td>\n",
       "    </tr>\n",
       "  </tbody>\n",
       "</table>\n",
       "</div>"
      ],
      "text/plain": [
       "                   ddf   pa    cds    asm    qas    asf     om  rci    dmc  \\\n",
       "BERT_it_female   0.000  0.0  0.200  0.011  0.000  0.267  0.004  0.0  0.000   \n",
       "BERT_it_male     0.012  0.0  0.594  0.050  0.000  0.000  0.144  0.0  0.062   \n",
       "GePpeTto_female  0.000  0.0  0.276  0.000  0.000  0.339  0.000  0.0  0.000   \n",
       "GePpeTto_male    0.028  0.0  0.317  0.021  0.007  0.007  0.172  0.0  0.021   \n",
       "\n",
       "                    is     or     ps     re    svp    ddp     pr     an  \n",
       "BERT_it_female   0.000  0.000  0.000  0.000  0.000  0.105  0.291  0.123  \n",
       "BERT_it_male     0.019  0.000  0.081  0.000  0.000  0.012  0.000  0.025  \n",
       "GePpeTto_female  0.000  0.000  0.000  0.000  0.258  0.045  0.081  0.000  \n",
       "GePpeTto_male    0.034  0.007  0.076  0.007  0.255  0.000  0.007  0.041  "
      ]
     },
     "execution_count": 167,
     "metadata": {},
     "output_type": "execute_result"
    }
   ],
   "source": [
    "cate_df.index = [model_name + \"_\" + g for model_name in models_name for g in [\"female\",\"male\"]]\n",
    "cate_df"
   ]
  },
  {
   "cell_type": "code",
   "execution_count": 168,
   "id": "d2510454-91cd-4785-a304-5da815abe11c",
   "metadata": {},
   "outputs": [
    {
     "name": "stdout",
     "output_type": "stream",
     "text": [
      "Finished!\n"
     ]
    }
   ],
   "source": [
    "# save test results\n",
    "save_data(lang, honest_score_df, cate_df)"
   ]
  },
  {
   "cell_type": "code",
   "execution_count": null,
   "id": "bca42882-42bf-44f1-be5f-c5f5340b4a6a",
   "metadata": {},
   "outputs": [],
   "source": []
  },
  {
   "cell_type": "markdown",
   "id": "6a9a608e-9fa4-445f-95cc-97b101f15f8e",
   "metadata": {},
   "source": [
    "# 6. Portuguese"
   ]
  },
  {
   "cell_type": "code",
   "execution_count": 169,
   "id": "9f468a41-4042-43f1-b4a6-288772435657",
   "metadata": {},
   "outputs": [],
   "source": [
    "lang = 'pt'\n",
    "honest_score_df = pd.DataFrame(columns = columns_names_scores)\n",
    "# creat a dataframe to save percentages of hurtful words for each category\n",
    "cate_df = pd.DataFrame()\n",
    "models_name = []"
   ]
  },
  {
   "cell_type": "markdown",
   "id": "5f9115d8-541e-440d-bb27-d0cf5e3e39a8",
   "metadata": {},
   "source": [
    "#### BERT_it"
   ]
  },
  {
   "cell_type": "code",
   "execution_count": null,
   "id": "828eeee5-2cd1-4677-949d-1620bf732061",
   "metadata": {},
   "outputs": [],
   "source": [
    "# import the model and tokenizer \n",
    "tokenizer = AutoTokenizer.from_pretrained(\"neuralmind/bert-base-portuguese-cased\")\n",
    "model = AutoModelForMaskedLM.from_pretrained(\"neuralmind/bert-base-portuguese-cased\")\n",
    "models_name.append(\"BERT_pt\")\n",
    "# set parameters for this model\n",
    "if_mask = True"
   ]
  },
  {
   "cell_type": "code",
   "execution_count": 171,
   "id": "d2147175-08ba-4d33-b3f9-8c875a5c2281",
   "metadata": {},
   "outputs": [
    {
     "name": "stdout",
     "output_type": "stream",
     "text": [
      "Top_k: 1 language: pt\n",
      "female honest score:  0.044226044226044224\n",
      "male honest score:  0.011904761904761904\n",
      "**********************************************************************\n",
      "Top_k: 5 language: pt\n",
      "female honest score:  0.06928746928746929\n",
      "male honest score:  0.023333333333333334\n",
      "**********************************************************************\n",
      "Top_k: 15 language: pt\n",
      "female honest score:  0.05110565110565111\n",
      "male honest score:  0.030634920634920636\n",
      "Percentages of hurtful words about female:  {'ddf': 0.0, 'pa': 0.0, 'asf': 0.356, 'cds': 0.529, 'asm': 0.048, 'qas': 0.003, 'om': 0.003, 'rci': 0.0, 'dmc': 0.0, 'is': 0.022, 'or': 0.0, 'ps': 0.0, 're': 0.0, 'svp': 0.0, 'ddp': 0.006, 'pr': 0.032, 'an': 0.0}\n",
      "Percentages of hurtful words about male:  {'ddf': 0.0, 'pa': 0.0, 'asf': 0.057, 'cds': 0.606, 'asm': 0.104, 'qas': 0.0, 'om': 0.01, 'rci': 0.0, 'dmc': 0.005, 'is': 0.052, 'or': 0.005, 'ps': 0.0, 're': 0.01, 'svp': 0.005, 'ddp': 0.088, 'pr': 0.041, 'an': 0.016}\n",
      "**********************************************************************\n"
     ]
    }
   ],
   "source": [
    "honest_score_df, cate_df = test_honest(tokenizer, model, lang,\n",
    "                                       k_range,if_mask,\n",
    "                                       honest_score_df, cate_df)"
   ]
  },
  {
   "cell_type": "markdown",
   "id": "29583f45-cc5f-4f24-b2ab-709b489b003d",
   "metadata": {},
   "source": [
    "#### GPT2_pt"
   ]
  },
  {
   "cell_type": "code",
   "execution_count": null,
   "id": "4b99dd08-488c-4165-bf94-b0ee512a85f7",
   "metadata": {},
   "outputs": [],
   "source": [
    "# import the model and tokenizer \n",
    "tokenizer = AutoTokenizer.from_pretrained(\"pierreguillou/gpt2-small-portuguese\")\n",
    "model = AutoModelForCausalLM.from_pretrained(\"pierreguillou/gpt2-small-portuguese\")\n",
    "models_name.append(\"GPT2_pt\")\n",
    "# set parameters for this model\n",
    "if_mask = False"
   ]
  },
  {
   "cell_type": "code",
   "execution_count": 173,
   "id": "2fc2db48-3ff7-4d69-a9db-8561b556e2f2",
   "metadata": {},
   "outputs": [
    {
     "name": "stdout",
     "output_type": "stream",
     "text": [
      "Top_k: 1 language: pt\n",
      "female honest score:  0.029484029484029485\n",
      "male honest score:  0.011904761904761904\n",
      "**********************************************************************\n",
      "Top_k: 5 language: pt\n",
      "female honest score:  0.023095823095823097\n",
      "male honest score:  0.006666666666666667\n",
      "**********************************************************************\n",
      "Top_k: 15 language: pt\n",
      "female honest score:  0.025552825552825554\n",
      "male honest score:  0.008888888888888889\n",
      "Percentages of hurtful words about female:  {'ddf': 0.0, 'pa': 0.0, 'asf': 0.449, 'cds': 0.391, 'asm': 0.006, 'qas': 0.0, 'om': 0.0, 'rci': 0.0, 'dmc': 0.0, 'is': 0.0, 'or': 0.0, 'ps': 0.0, 're': 0.0, 'svp': 0.0, 'ddp': 0.019, 'pr': 0.096, 'an': 0.038}\n",
      "Percentages of hurtful words about male:  {'ddf': 0.0, 'pa': 0.0, 'asf': 0.0, 'cds': 0.696, 'asm': 0.161, 'qas': 0.0, 'om': 0.0, 'rci': 0.0, 'dmc': 0.054, 'is': 0.0, 'or': 0.0, 'ps': 0.0, 're': 0.0, 'svp': 0.0, 'ddp': 0.054, 'pr': 0.036, 'an': 0.0}\n",
      "**********************************************************************\n"
     ]
    }
   ],
   "source": [
    "honest_score_df, cate_df = test_honest(tokenizer, model, lang,\n",
    "                                       k_range,if_mask,\n",
    "                                       honest_score_df, cate_df)"
   ]
  },
  {
   "cell_type": "markdown",
   "id": "7fa21ce6-3d3b-4404-8851-4cecbb52e3ff",
   "metadata": {},
   "source": [
    "### Summary_PT"
   ]
  },
  {
   "cell_type": "code",
   "execution_count": 174,
   "id": "7811087c-4684-4ccb-aa89-48b1e43806d5",
   "metadata": {},
   "outputs": [
    {
     "data": {
      "text/plain": [
       "['BERT_pt', 'GPT2_pt']"
      ]
     },
     "execution_count": 174,
     "metadata": {},
     "output_type": "execute_result"
    }
   ],
   "source": [
    "models_name"
   ]
  },
  {
   "cell_type": "code",
   "execution_count": 175,
   "id": "7f000e86-b3a4-487e-89b6-e4498ffe4a44",
   "metadata": {},
   "outputs": [
    {
     "data": {
      "text/html": [
       "<div>\n",
       "<style scoped>\n",
       "    .dataframe tbody tr th:only-of-type {\n",
       "        vertical-align: middle;\n",
       "    }\n",
       "\n",
       "    .dataframe tbody tr th {\n",
       "        vertical-align: top;\n",
       "    }\n",
       "\n",
       "    .dataframe thead th {\n",
       "        text-align: right;\n",
       "    }\n",
       "</style>\n",
       "<table border=\"1\" class=\"dataframe\">\n",
       "  <thead>\n",
       "    <tr style=\"text-align: right;\">\n",
       "      <th></th>\n",
       "      <th>1_female</th>\n",
       "      <th>1_male</th>\n",
       "      <th>5_female</th>\n",
       "      <th>5_male</th>\n",
       "      <th>15_female</th>\n",
       "      <th>15_male</th>\n",
       "    </tr>\n",
       "  </thead>\n",
       "  <tbody>\n",
       "    <tr>\n",
       "      <th>BERT_pt</th>\n",
       "      <td>0.044226</td>\n",
       "      <td>0.011905</td>\n",
       "      <td>0.069287</td>\n",
       "      <td>0.023333</td>\n",
       "      <td>0.051106</td>\n",
       "      <td>0.030635</td>\n",
       "    </tr>\n",
       "    <tr>\n",
       "      <th>GPT2_pt</th>\n",
       "      <td>0.029484</td>\n",
       "      <td>0.011905</td>\n",
       "      <td>0.023096</td>\n",
       "      <td>0.006667</td>\n",
       "      <td>0.025553</td>\n",
       "      <td>0.008889</td>\n",
       "    </tr>\n",
       "  </tbody>\n",
       "</table>\n",
       "</div>"
      ],
      "text/plain": [
       "         1_female    1_male  5_female    5_male  15_female   15_male\n",
       "BERT_pt  0.044226  0.011905  0.069287  0.023333   0.051106  0.030635\n",
       "GPT2_pt  0.029484  0.011905  0.023096  0.006667   0.025553  0.008889"
      ]
     },
     "execution_count": 175,
     "metadata": {},
     "output_type": "execute_result"
    }
   ],
   "source": [
    "honest_score_df.index = models_name\n",
    "honest_score_df"
   ]
  },
  {
   "cell_type": "code",
   "execution_count": 176,
   "id": "5a460dd2-a35c-4fec-9881-2fcf2ae4b99b",
   "metadata": {},
   "outputs": [
    {
     "data": {
      "text/html": [
       "<div>\n",
       "<style scoped>\n",
       "    .dataframe tbody tr th:only-of-type {\n",
       "        vertical-align: middle;\n",
       "    }\n",
       "\n",
       "    .dataframe tbody tr th {\n",
       "        vertical-align: top;\n",
       "    }\n",
       "\n",
       "    .dataframe thead th {\n",
       "        text-align: right;\n",
       "    }\n",
       "</style>\n",
       "<table border=\"1\" class=\"dataframe\">\n",
       "  <thead>\n",
       "    <tr style=\"text-align: right;\">\n",
       "      <th></th>\n",
       "      <th>ddf</th>\n",
       "      <th>pa</th>\n",
       "      <th>asf</th>\n",
       "      <th>cds</th>\n",
       "      <th>asm</th>\n",
       "      <th>qas</th>\n",
       "      <th>om</th>\n",
       "      <th>rci</th>\n",
       "      <th>dmc</th>\n",
       "      <th>is</th>\n",
       "      <th>or</th>\n",
       "      <th>ps</th>\n",
       "      <th>re</th>\n",
       "      <th>svp</th>\n",
       "      <th>ddp</th>\n",
       "      <th>pr</th>\n",
       "      <th>an</th>\n",
       "    </tr>\n",
       "  </thead>\n",
       "  <tbody>\n",
       "    <tr>\n",
       "      <th>BERT_pt_female</th>\n",
       "      <td>0.0</td>\n",
       "      <td>0.0</td>\n",
       "      <td>0.356</td>\n",
       "      <td>0.529</td>\n",
       "      <td>0.048</td>\n",
       "      <td>0.003</td>\n",
       "      <td>0.003</td>\n",
       "      <td>0.0</td>\n",
       "      <td>0.000</td>\n",
       "      <td>0.022</td>\n",
       "      <td>0.000</td>\n",
       "      <td>0.0</td>\n",
       "      <td>0.00</td>\n",
       "      <td>0.000</td>\n",
       "      <td>0.006</td>\n",
       "      <td>0.032</td>\n",
       "      <td>0.000</td>\n",
       "    </tr>\n",
       "    <tr>\n",
       "      <th>BERT_pt_male</th>\n",
       "      <td>0.0</td>\n",
       "      <td>0.0</td>\n",
       "      <td>0.057</td>\n",
       "      <td>0.606</td>\n",
       "      <td>0.104</td>\n",
       "      <td>0.000</td>\n",
       "      <td>0.010</td>\n",
       "      <td>0.0</td>\n",
       "      <td>0.005</td>\n",
       "      <td>0.052</td>\n",
       "      <td>0.005</td>\n",
       "      <td>0.0</td>\n",
       "      <td>0.01</td>\n",
       "      <td>0.005</td>\n",
       "      <td>0.088</td>\n",
       "      <td>0.041</td>\n",
       "      <td>0.016</td>\n",
       "    </tr>\n",
       "    <tr>\n",
       "      <th>GPT2_pt_female</th>\n",
       "      <td>0.0</td>\n",
       "      <td>0.0</td>\n",
       "      <td>0.449</td>\n",
       "      <td>0.391</td>\n",
       "      <td>0.006</td>\n",
       "      <td>0.000</td>\n",
       "      <td>0.000</td>\n",
       "      <td>0.0</td>\n",
       "      <td>0.000</td>\n",
       "      <td>0.000</td>\n",
       "      <td>0.000</td>\n",
       "      <td>0.0</td>\n",
       "      <td>0.00</td>\n",
       "      <td>0.000</td>\n",
       "      <td>0.019</td>\n",
       "      <td>0.096</td>\n",
       "      <td>0.038</td>\n",
       "    </tr>\n",
       "    <tr>\n",
       "      <th>GPT2_pt_male</th>\n",
       "      <td>0.0</td>\n",
       "      <td>0.0</td>\n",
       "      <td>0.000</td>\n",
       "      <td>0.696</td>\n",
       "      <td>0.161</td>\n",
       "      <td>0.000</td>\n",
       "      <td>0.000</td>\n",
       "      <td>0.0</td>\n",
       "      <td>0.054</td>\n",
       "      <td>0.000</td>\n",
       "      <td>0.000</td>\n",
       "      <td>0.0</td>\n",
       "      <td>0.00</td>\n",
       "      <td>0.000</td>\n",
       "      <td>0.054</td>\n",
       "      <td>0.036</td>\n",
       "      <td>0.000</td>\n",
       "    </tr>\n",
       "  </tbody>\n",
       "</table>\n",
       "</div>"
      ],
      "text/plain": [
       "                ddf   pa    asf    cds    asm    qas     om  rci    dmc  \\\n",
       "BERT_pt_female  0.0  0.0  0.356  0.529  0.048  0.003  0.003  0.0  0.000   \n",
       "BERT_pt_male    0.0  0.0  0.057  0.606  0.104  0.000  0.010  0.0  0.005   \n",
       "GPT2_pt_female  0.0  0.0  0.449  0.391  0.006  0.000  0.000  0.0  0.000   \n",
       "GPT2_pt_male    0.0  0.0  0.000  0.696  0.161  0.000  0.000  0.0  0.054   \n",
       "\n",
       "                   is     or   ps    re    svp    ddp     pr     an  \n",
       "BERT_pt_female  0.022  0.000  0.0  0.00  0.000  0.006  0.032  0.000  \n",
       "BERT_pt_male    0.052  0.005  0.0  0.01  0.005  0.088  0.041  0.016  \n",
       "GPT2_pt_female  0.000  0.000  0.0  0.00  0.000  0.019  0.096  0.038  \n",
       "GPT2_pt_male    0.000  0.000  0.0  0.00  0.000  0.054  0.036  0.000  "
      ]
     },
     "execution_count": 176,
     "metadata": {},
     "output_type": "execute_result"
    }
   ],
   "source": [
    "cate_df.index = [model_name + \"_\" + g for model_name in models_name for g in [\"female\",\"male\"]]\n",
    "cate_df"
   ]
  },
  {
   "cell_type": "code",
   "execution_count": 177,
   "id": "69ac996b-4edb-4603-bad9-873b5fa7d4e5",
   "metadata": {},
   "outputs": [
    {
     "name": "stdout",
     "output_type": "stream",
     "text": [
      "Finished!\n"
     ]
    }
   ],
   "source": [
    "# save test results\n",
    "save_data(lang, honest_score_df, cate_df)"
   ]
  },
  {
   "cell_type": "code",
   "execution_count": null,
   "id": "0791bd94-97fb-47bc-9ed9-cb4a9877e90e",
   "metadata": {},
   "outputs": [],
   "source": []
  },
  {
   "cell_type": "markdown",
   "id": "68da8a6f-4b26-4294-ab7c-05925e4ab81f",
   "metadata": {},
   "source": [
    "# 7. Romanian"
   ]
  },
  {
   "cell_type": "code",
   "execution_count": 178,
   "id": "aaaf1ba0-daeb-4f69-aef5-76528f30a5fc",
   "metadata": {},
   "outputs": [],
   "source": [
    "lang = 'ro'\n",
    "honest_score_df = pd.DataFrame(columns = columns_names_scores)\n",
    "# creat a dataframe to save percentages of hurtful words for each category\n",
    "cate_df = pd.DataFrame()\n",
    "models_name = []"
   ]
  },
  {
   "cell_type": "markdown",
   "id": "03b98bf2-f5e1-44d2-ad48-6df21797725b",
   "metadata": {},
   "source": [
    "#### BERT_Ro"
   ]
  },
  {
   "cell_type": "code",
   "execution_count": null,
   "id": "b866af90-1441-4ba3-b9b1-7714f66074c0",
   "metadata": {},
   "outputs": [],
   "source": [
    "# import the model and tokenizer \n",
    "tokenizer = AutoTokenizer.from_pretrained(\"dumitrescustefan/bert-base-romanian-uncased-v1\")\n",
    "model = AutoModelForMaskedLM.from_pretrained(\"dumitrescustefan/bert-base-romanian-uncased-v1\")\n",
    "models_name.append(\"BERT_Ro\")\n",
    "# set parameters for this model\n",
    "if_mask = True"
   ]
  },
  {
   "cell_type": "code",
   "execution_count": 180,
   "id": "301d2aea-6b5e-4076-a901-befa8e083ec6",
   "metadata": {},
   "outputs": [
    {
     "name": "stdout",
     "output_type": "stream",
     "text": [
      "Top_k: 1 language: ro\n",
      "female honest score:  0.03579952267303103\n",
      "male honest score:  0.030952380952380953\n",
      "**********************************************************************\n",
      "Top_k: 5 language: ro\n",
      "female honest score:  0.03198090692124105\n",
      "male honest score:  0.037142857142857144\n",
      "**********************************************************************\n",
      "Top_k: 15 language: ro\n",
      "female honest score:  0.024821002386634844\n",
      "male honest score:  0.051904761904761905\n",
      "Percentages of hurtful words about female:  {'ddf': 0.0, 'pa': 0.0, 'asf': 0.051, 'cds': 0.276, 'asm': 0.0, 'qas': 0.019, 'om': 0.0, 'rci': 0.0, 'dmc': 0.006, 'is': 0.0, 'or': 0.045, 'ps': 0.0, 're': 0.0, 'svp': 0.0, 'ddp': 0.006, 'pr': 0.423, 'an': 0.173}\n",
      "Percentages of hurtful words about male:  {'ddf': 0.0, 'pa': 0.003, 'asf': 0.0, 'cds': 0.419, 'asm': 0.0, 'qas': 0.009, 'om': 0.018, 'rci': 0.003, 'dmc': 0.162, 'is': 0.0, 'or': 0.07, 'ps': 0.0, 're': 0.009, 'svp': 0.028, 'ddp': 0.086, 'pr': 0.107, 'an': 0.086}\n",
      "**********************************************************************\n"
     ]
    }
   ],
   "source": [
    "honest_score_df, cate_df = test_honest(tokenizer, model, lang,\n",
    "                                       k_range,if_mask,\n",
    "                                       honest_score_df, cate_df)"
   ]
  },
  {
   "cell_type": "markdown",
   "id": "dcab2e00-2762-4549-9606-0fcb215e5d22",
   "metadata": {},
   "source": [
    "#### RoGPT2"
   ]
  },
  {
   "cell_type": "code",
   "execution_count": null,
   "id": "e198cbc9-5fd1-4e9d-b774-1ca8c448b9e0",
   "metadata": {},
   "outputs": [],
   "source": [
    "# import the model and tokenizer \n",
    "tokenizer = AutoTokenizer.from_pretrained(\"readerbench/RoGPT2-medium\")\n",
    "model = AutoModelForCausalLM.from_pretrained(\"readerbench/RoGPT2-medium\")\n",
    "models_name.append(\"GPT2_pt\")\n",
    "# set parameters for this model\n",
    "if_mask = False"
   ]
  },
  {
   "cell_type": "code",
   "execution_count": 182,
   "id": "86a1f0ca-c4c3-4cf3-9738-2a1c1dfba10d",
   "metadata": {},
   "outputs": [
    {
     "name": "stdout",
     "output_type": "stream",
     "text": [
      "Top_k: 1 language: ro\n",
      "female honest score:  0.007159904534606206\n",
      "male honest score:  0.014285714285714285\n",
      "**********************************************************************\n",
      "Top_k: 5 language: ro\n",
      "female honest score:  0.010501193317422435\n",
      "male honest score:  0.017142857142857144\n",
      "**********************************************************************\n",
      "Top_k: 15 language: ro\n",
      "female honest score:  0.0076372315035799524\n",
      "male honest score:  0.014603174603174604\n",
      "Percentages of hurtful words about female:  {'ddf': 0.0, 'pa': 0.0, 'asf': 0.042, 'cds': 0.292, 'asm': 0.0, 'qas': 0.021, 'om': 0.0, 'rci': 0.0, 'dmc': 0.0, 'is': 0.0, 'or': 0.104, 'ps': 0.0, 're': 0.104, 'svp': 0.0, 'ddp': 0.354, 'pr': 0.021, 'an': 0.062}\n",
      "Percentages of hurtful words about male:  {'ddf': 0.022, 'pa': 0.0, 'asf': 0.0, 'cds': 0.25, 'asm': 0.0, 'qas': 0.043, 'om': 0.0, 'rci': 0.0, 'dmc': 0.065, 'is': 0.0, 'or': 0.033, 'ps': 0.011, 're': 0.0, 'svp': 0.065, 'ddp': 0.446, 'pr': 0.0, 'an': 0.065}\n",
      "**********************************************************************\n"
     ]
    }
   ],
   "source": [
    "honest_score_df, cate_df = test_honest(tokenizer, model, lang,\n",
    "                                       k_range,if_mask,\n",
    "                                       honest_score_df, cate_df)"
   ]
  },
  {
   "cell_type": "markdown",
   "id": "1aa4a8bf-653b-4d7b-a626-86612c7026f7",
   "metadata": {},
   "source": [
    "### Summary_RO"
   ]
  },
  {
   "cell_type": "code",
   "execution_count": 183,
   "id": "b510168c-7aff-4fc1-bb22-7a369facfe13",
   "metadata": {},
   "outputs": [
    {
     "data": {
      "text/plain": [
       "['BERT_Ro', 'GPT2_pt']"
      ]
     },
     "execution_count": 183,
     "metadata": {},
     "output_type": "execute_result"
    }
   ],
   "source": [
    "models_name"
   ]
  },
  {
   "cell_type": "code",
   "execution_count": 184,
   "id": "0b56d97b-6766-4684-b0d1-541e07cb2b7a",
   "metadata": {},
   "outputs": [
    {
     "data": {
      "text/html": [
       "<div>\n",
       "<style scoped>\n",
       "    .dataframe tbody tr th:only-of-type {\n",
       "        vertical-align: middle;\n",
       "    }\n",
       "\n",
       "    .dataframe tbody tr th {\n",
       "        vertical-align: top;\n",
       "    }\n",
       "\n",
       "    .dataframe thead th {\n",
       "        text-align: right;\n",
       "    }\n",
       "</style>\n",
       "<table border=\"1\" class=\"dataframe\">\n",
       "  <thead>\n",
       "    <tr style=\"text-align: right;\">\n",
       "      <th></th>\n",
       "      <th>1_female</th>\n",
       "      <th>1_male</th>\n",
       "      <th>5_female</th>\n",
       "      <th>5_male</th>\n",
       "      <th>15_female</th>\n",
       "      <th>15_male</th>\n",
       "    </tr>\n",
       "  </thead>\n",
       "  <tbody>\n",
       "    <tr>\n",
       "      <th>BERT_Ro</th>\n",
       "      <td>0.03580</td>\n",
       "      <td>0.030952</td>\n",
       "      <td>0.031981</td>\n",
       "      <td>0.037143</td>\n",
       "      <td>0.024821</td>\n",
       "      <td>0.051905</td>\n",
       "    </tr>\n",
       "    <tr>\n",
       "      <th>GPT2_pt</th>\n",
       "      <td>0.00716</td>\n",
       "      <td>0.014286</td>\n",
       "      <td>0.010501</td>\n",
       "      <td>0.017143</td>\n",
       "      <td>0.007637</td>\n",
       "      <td>0.014603</td>\n",
       "    </tr>\n",
       "  </tbody>\n",
       "</table>\n",
       "</div>"
      ],
      "text/plain": [
       "         1_female    1_male  5_female    5_male  15_female   15_male\n",
       "BERT_Ro   0.03580  0.030952  0.031981  0.037143   0.024821  0.051905\n",
       "GPT2_pt   0.00716  0.014286  0.010501  0.017143   0.007637  0.014603"
      ]
     },
     "execution_count": 184,
     "metadata": {},
     "output_type": "execute_result"
    }
   ],
   "source": [
    "honest_score_df.index = models_name\n",
    "honest_score_df"
   ]
  },
  {
   "cell_type": "code",
   "execution_count": 185,
   "id": "a3352a91-9e54-4eb2-878d-12e0c77d509d",
   "metadata": {},
   "outputs": [
    {
     "data": {
      "text/html": [
       "<div>\n",
       "<style scoped>\n",
       "    .dataframe tbody tr th:only-of-type {\n",
       "        vertical-align: middle;\n",
       "    }\n",
       "\n",
       "    .dataframe tbody tr th {\n",
       "        vertical-align: top;\n",
       "    }\n",
       "\n",
       "    .dataframe thead th {\n",
       "        text-align: right;\n",
       "    }\n",
       "</style>\n",
       "<table border=\"1\" class=\"dataframe\">\n",
       "  <thead>\n",
       "    <tr style=\"text-align: right;\">\n",
       "      <th></th>\n",
       "      <th>ddf</th>\n",
       "      <th>pa</th>\n",
       "      <th>asf</th>\n",
       "      <th>cds</th>\n",
       "      <th>asm</th>\n",
       "      <th>qas</th>\n",
       "      <th>om</th>\n",
       "      <th>rci</th>\n",
       "      <th>dmc</th>\n",
       "      <th>is</th>\n",
       "      <th>or</th>\n",
       "      <th>ps</th>\n",
       "      <th>re</th>\n",
       "      <th>svp</th>\n",
       "      <th>ddp</th>\n",
       "      <th>pr</th>\n",
       "      <th>an</th>\n",
       "    </tr>\n",
       "  </thead>\n",
       "  <tbody>\n",
       "    <tr>\n",
       "      <th>BERT_Ro_female</th>\n",
       "      <td>0.000</td>\n",
       "      <td>0.000</td>\n",
       "      <td>0.051</td>\n",
       "      <td>0.276</td>\n",
       "      <td>0.0</td>\n",
       "      <td>0.019</td>\n",
       "      <td>0.000</td>\n",
       "      <td>0.000</td>\n",
       "      <td>0.006</td>\n",
       "      <td>0.0</td>\n",
       "      <td>0.045</td>\n",
       "      <td>0.000</td>\n",
       "      <td>0.000</td>\n",
       "      <td>0.000</td>\n",
       "      <td>0.006</td>\n",
       "      <td>0.423</td>\n",
       "      <td>0.173</td>\n",
       "    </tr>\n",
       "    <tr>\n",
       "      <th>BERT_Ro_male</th>\n",
       "      <td>0.000</td>\n",
       "      <td>0.003</td>\n",
       "      <td>0.000</td>\n",
       "      <td>0.419</td>\n",
       "      <td>0.0</td>\n",
       "      <td>0.009</td>\n",
       "      <td>0.018</td>\n",
       "      <td>0.003</td>\n",
       "      <td>0.162</td>\n",
       "      <td>0.0</td>\n",
       "      <td>0.070</td>\n",
       "      <td>0.000</td>\n",
       "      <td>0.009</td>\n",
       "      <td>0.028</td>\n",
       "      <td>0.086</td>\n",
       "      <td>0.107</td>\n",
       "      <td>0.086</td>\n",
       "    </tr>\n",
       "    <tr>\n",
       "      <th>GPT2_pt_female</th>\n",
       "      <td>0.000</td>\n",
       "      <td>0.000</td>\n",
       "      <td>0.042</td>\n",
       "      <td>0.292</td>\n",
       "      <td>0.0</td>\n",
       "      <td>0.021</td>\n",
       "      <td>0.000</td>\n",
       "      <td>0.000</td>\n",
       "      <td>0.000</td>\n",
       "      <td>0.0</td>\n",
       "      <td>0.104</td>\n",
       "      <td>0.000</td>\n",
       "      <td>0.104</td>\n",
       "      <td>0.000</td>\n",
       "      <td>0.354</td>\n",
       "      <td>0.021</td>\n",
       "      <td>0.062</td>\n",
       "    </tr>\n",
       "    <tr>\n",
       "      <th>GPT2_pt_male</th>\n",
       "      <td>0.022</td>\n",
       "      <td>0.000</td>\n",
       "      <td>0.000</td>\n",
       "      <td>0.250</td>\n",
       "      <td>0.0</td>\n",
       "      <td>0.043</td>\n",
       "      <td>0.000</td>\n",
       "      <td>0.000</td>\n",
       "      <td>0.065</td>\n",
       "      <td>0.0</td>\n",
       "      <td>0.033</td>\n",
       "      <td>0.011</td>\n",
       "      <td>0.000</td>\n",
       "      <td>0.065</td>\n",
       "      <td>0.446</td>\n",
       "      <td>0.000</td>\n",
       "      <td>0.065</td>\n",
       "    </tr>\n",
       "  </tbody>\n",
       "</table>\n",
       "</div>"
      ],
      "text/plain": [
       "                  ddf     pa    asf    cds  asm    qas     om    rci    dmc  \\\n",
       "BERT_Ro_female  0.000  0.000  0.051  0.276  0.0  0.019  0.000  0.000  0.006   \n",
       "BERT_Ro_male    0.000  0.003  0.000  0.419  0.0  0.009  0.018  0.003  0.162   \n",
       "GPT2_pt_female  0.000  0.000  0.042  0.292  0.0  0.021  0.000  0.000  0.000   \n",
       "GPT2_pt_male    0.022  0.000  0.000  0.250  0.0  0.043  0.000  0.000  0.065   \n",
       "\n",
       "                 is     or     ps     re    svp    ddp     pr     an  \n",
       "BERT_Ro_female  0.0  0.045  0.000  0.000  0.000  0.006  0.423  0.173  \n",
       "BERT_Ro_male    0.0  0.070  0.000  0.009  0.028  0.086  0.107  0.086  \n",
       "GPT2_pt_female  0.0  0.104  0.000  0.104  0.000  0.354  0.021  0.062  \n",
       "GPT2_pt_male    0.0  0.033  0.011  0.000  0.065  0.446  0.000  0.065  "
      ]
     },
     "execution_count": 185,
     "metadata": {},
     "output_type": "execute_result"
    }
   ],
   "source": [
    "cate_df.index = [model_name + \"_\" + g for model_name in models_name for g in [\"female\",\"male\"]]\n",
    "cate_df"
   ]
  },
  {
   "cell_type": "code",
   "execution_count": 186,
   "id": "b92b1853-1d44-4171-8270-32d7ffd5532f",
   "metadata": {},
   "outputs": [
    {
     "name": "stdout",
     "output_type": "stream",
     "text": [
      "Finished!\n"
     ]
    }
   ],
   "source": [
    "# save test results\n",
    "save_data(lang, honest_score_df, cate_df)"
   ]
  },
  {
   "cell_type": "code",
   "execution_count": null,
   "id": "a626bbb0-264a-4230-bf74-1ead9d73f94b",
   "metadata": {},
   "outputs": [],
   "source": []
  }
 ],
 "metadata": {
  "kernelspec": {
   "display_name": "Python3.9 (first)",
   "language": "python",
   "name": "tf2"
  },
  "language_info": {
   "codemirror_mode": {
    "name": "ipython",
    "version": 3
   },
   "file_extension": ".py",
   "mimetype": "text/x-python",
   "name": "python",
   "nbconvert_exporter": "python",
   "pygments_lexer": "ipython3",
   "version": "3.9.12"
  }
 },
 "nbformat": 4,
 "nbformat_minor": 5
}
